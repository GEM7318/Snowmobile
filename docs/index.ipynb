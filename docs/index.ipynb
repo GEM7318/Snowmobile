{
 "cells": [
  {
   "cell_type": "markdown",
   "metadata": {},
   "source": [
    "# snowmobile\n",
    "\n",
    "```{include} /description.md\n",
    "```\n",
    "\n",
    "```{eval-rst}\n",
    "\n",
    ".. toctree::\n",
    "    :maxdepth: 1\n",
    "    :hidden:\n",
    "\n",
    "    ./setup.md\n",
    "\n",
    ".. toctree::\n",
    "    :caption: Usage\n",
    "    :maxdepth: 1\n",
    "    :hidden:\n",
    "    \n",
    "    ./usage/connector.md\n",
    "    ./usage/table.md\n",
    "    ./usage/script.md\n",
    "    ./usage/sql.md\n",
    "    ./usage/snowmobile_toml.md\n",
    "\n",
    ".. toctree::\n",
    "    :caption: Additional Resources\n",
    "    :maxdepth: 1\n",
    "    :hidden:\n",
    "\n",
    "    ./modindex.md\n",
    "    ./extensions.md\n",
    "    ./usage/advanced.md\n",
    "    ./snippets.md\n",
    "\n",
    ".. toctree::\n",
    "    :caption: Meta\n",
    "    :maxdepth: 1\n",
    "    :hidden:\n",
    "\n",
    "    ./acknowledgements.md\n",
    "    ./changelog.md\n",
    "    ./authors.md\n",
    "    ./license.md\n",
    "```"
   ]
  },
  {
   "cell_type": "markdown",
   "metadata": {
    "tags": [
     "remove-cell"
    ]
   },
   "source": [
    "---"
   ]
  },
  {
   "cell_type": "markdown",
   "metadata": {
    "tags": [
     "remove-cell"
    ]
   },
   "source": [
    "---"
   ]
  },
  {
   "cell_type": "markdown",
   "metadata": {},
   "source": [
    "<br>\n",
    "\n",
    "<p class=\"hanging\"><h2>Example</h2></p>\n",
    "\n",
    "- *[Connecting](#connecting)*\n",
    "- *[Loading Data](#loading-data)*\n",
    "- *[Executing Queries](#executing-queries)*\n",
    "- *[Working with SQL Scripts](#working-with-sql-scripts)*\n",
    "- *[Information API](#information-api)*"
   ]
  },
  {
   "cell_type": "markdown",
   "metadata": {},
   "source": [
    "<br>\n",
    "\n",
    "### *Connecting*\n",
    "\n",
    "````{admonition} snowmobile.connect()\n",
    ":class: toggle, note, is_explanation\n",
    "{func}`snowmobile.connect()` is an alias for {class}`snowmobile.Connector()`; its purpose is provide an entry point that will:\n",
    "1.  Locate and instantiate [snowmobile.toml](./snowmobile_toml.md#snowmobiletoml) \n",
    "    as a {class}`~snowmobile.Configuration` object ({class}`sn.cfg`)\n",
    "1.  Establish a connection to {xref}`snowflake`\n",
    "1.  Store the {xref}`SnowflakeConnection` ({class}`sn.con`) and execute commands against the database \n",
    "\n",
    "+++\n",
    "\n",
    "The first time it's invoked, {xref}`snowmobile` will find [*snowmobile.toml*](./usage/snowmobile_toml) and cache its location; \n",
    "this step isn't repeated unless the file is moved, the cache is manually cleared, or a new version of {xref}`snowmobile` is installed.\n",
    "\n",
    "+++\n",
    "\n",
    "**With all arguments omitted, it will authenticate with the defaults specified in** [*snowmobile.toml*](./usage/snowmobile_toml) **and return a live** [**Connector**](./usage/connector.md).\n",
    "\n",
    "+++\n",
    "\n",
    "<hr class=\"sn-green\">\n",
    "\n",
    "{link-badge}`./usage/connector.html,cls=badge-primary badge text-white,Usage: snowmobile.Connector,tooltip=Intro & usage documentation for snowmobile.Connector`\n",
    "{link-badge}`./autoapi/snowmobile/core/connector/index.html,cls=badge-secondary badge-pill text-white,API Docs: snowmobile.core.connector,tooltip=Documentation parsed from docstrings`\n",
    "````"
   ]
  },
  {
   "cell_type": "code",
   "execution_count": 1,
   "metadata": {},
   "outputs": [
    {
     "name": "stdout",
     "output_type": "stream",
     "text": [
      "Locating credentials...\n",
      "(1 of 2) Checking for cached path...\n",
      "(2 of 2) Cached path found at ../Snowmobile/snowmobile.toml\n",
      "..connected: snowmobile.Connector(creds='default')\n"
     ]
    }
   ],
   "source": [
    "import snowmobile\n",
    "\n",
    "sn = snowmobile.connect()"
   ]
  },
  {
   "cell_type": "code",
   "execution_count": null,
   "metadata": {
    "tags": [
     "remove-output",
     "remove-cell"
    ]
   },
   "outputs": [],
   "source": [
    "# Or with a different configuration\n",
    "sn_sandbox = snowmobile.connect(creds='sandbox')  "
   ]
  },
  {
   "cell_type": "markdown",
   "metadata": {
    "tags": [
     "remove-cell"
    ]
   },
   "source": [
    "---"
   ]
  },
  {
   "cell_type": "markdown",
   "metadata": {
    "tags": [
     "remove-cell"
    ]
   },
   "source": [
    "---"
   ]
  },
  {
   "cell_type": "markdown",
   "metadata": {},
   "source": [
    "<br>\n",
    "\n",
    "### *Loading Data*\n",
    "\n",
    "`````{admonition} snowmobile.Table\n",
    ":class: toggle, is_explanation\n",
    "\n",
    "{class}`~snowmobile.Table` is a data loading solution that at minimum accepts a\n",
    "[**Connector**](./usage/connector) ({class}`sn`), a {class}`~pandas.DataFrame` ({class}`df`),\n",
    "and a table name ({class}`table`: {class}`str`).\n",
    "\n",
    "````{tabbed} Context\n",
    "In the same way that [**Connector**](./usage/connector) handles its keyword arguments,\n",
    "{class}`~snowmobile.Table` will adhere to any arguments explicitly provided and defer\n",
    "to the values configured in [*snowmobile.toml*](./usage/snowmobile_toml) otherwise.\n",
    "\n",
    "+++\n",
    "\n",
    "`as_is=True` tells {xref}`snowmobile` to invoke {meth}`~snowmobile.Table.load()` with\n",
    "the arguments provided as opposed to inspecting `t1` for information on the existence\n",
    "of the table or its compatability with the {class}`df` we're loading.\n",
    "\n",
    "+++\n",
    "\n",
    "The behavior outlined below reflects those within the\n",
    "[default **snowmobile.toml** file](./usage/snowmobile_toml.md#file-contents).\n",
    "````\n",
    "\n",
    "````{tabbed} df\n",
    "The `df` used in this example can be created with:\n",
    "```python\n",
    "\"\"\"Generate dummy DataFrame for snowmobile.Table example.\"\"\"\n",
    "import pandas as pd\n",
    "import numpy as np\n",
    "\n",
    "df = pd.DataFrame(\n",
    "    data = {'col1': np.ones(3), 'col2': np.zeros(3)}\n",
    ")\n",
    "\n",
    "# -- complete snippet; should run 'as is' --\n",
    "```\n",
    "<hr class=\"sn-spacer\">\n",
    "````\n",
    "\n",
    "````{tabbed} +\n",
    "**In the below example,** {class}`~snowmobile.Table` **will:**\n",
    "1. Check if *sample_table* exists in the schema associated with {attr}`sn.con`\n",
    "2. If *sample_table* already exists, it will validate the columns of {class}`df` compared to those in *sample_table*\n",
    "    - How it handles the outcome of this validation is determined by the value of `if_exists` in the *[loading.default-table-kwargs]*\n",
    "        section of [*snowmobile.toml*](./usage/snowmobile_toml)\n",
    "3. If *sample_table* does not exist, it will generate DDL from {class}`df` and execute it as part of the loading process\n",
    "````\n",
    "\n",
    "<hr class=\"sn-green\">\n",
    "\n",
    "{link-badge}`./usage/table.html,cls=badge-primary badge text-white,Usage: snowmobile.Table,tooltip=Intro & usage documentation for snowmobile.Table`\n",
    "{link-badge}`./autoapi/snowmobile/core/table/index.html,cls=badge-secondary badge-pill text-white,API Docs: snowmobile.core.table,tooltip=Documentation parsed from docstrings`\n",
    "`````"
   ]
  },
  {
   "cell_type": "code",
   "execution_count": 2,
   "metadata": {
    "tags": [
     "remove-cell"
    ]
   },
   "outputs": [],
   "source": [
    "# Verify table does not exist before moving forward with example\n",
    "if sn.sql.exists('sample_table'):\n",
    "    sn.sql.drop('sample_table')"
   ]
  },
  {
   "cell_type": "code",
   "execution_count": 10,
   "metadata": {
    "tags": [
     "remove-cell"
    ]
   },
   "outputs": [
    {
     "data": {
      "text/html": [
       "<div>\n",
       "<style scoped>\n",
       "    .dataframe tbody tr th:only-of-type {\n",
       "        vertical-align: middle;\n",
       "    }\n",
       "\n",
       "    .dataframe tbody tr th {\n",
       "        vertical-align: top;\n",
       "    }\n",
       "\n",
       "    .dataframe thead th {\n",
       "        text-align: right;\n",
       "    }\n",
       "</style>\n",
       "<table border=\"1\" class=\"dataframe\">\n",
       "  <thead>\n",
       "    <tr style=\"text-align: right;\">\n",
       "      <th></th>\n",
       "      <th>col1</th>\n",
       "      <th>col2</th>\n",
       "    </tr>\n",
       "  </thead>\n",
       "  <tbody>\n",
       "    <tr>\n",
       "      <th>0</th>\n",
       "      <td>1.0</td>\n",
       "      <td>0.0</td>\n",
       "    </tr>\n",
       "    <tr>\n",
       "      <th>1</th>\n",
       "      <td>1.0</td>\n",
       "      <td>0.0</td>\n",
       "    </tr>\n",
       "    <tr>\n",
       "      <th>2</th>\n",
       "      <td>1.0</td>\n",
       "      <td>0.0</td>\n",
       "    </tr>\n",
       "  </tbody>\n",
       "</table>\n",
       "</div>"
      ],
      "text/plain": [
       "   col1  col2\n",
       "0   1.0   0.0\n",
       "1   1.0   0.0\n",
       "2   1.0   0.0"
      ]
     },
     "execution_count": 10,
     "metadata": {},
     "output_type": "execute_result"
    }
   ],
   "source": [
    "\"\"\"Generate dummy DataFrame for snowmobile.Table example.\"\"\"\n",
    "import pandas as pd\n",
    "import numpy as np\n",
    "\n",
    "df = pd.DataFrame(\n",
    "    data = {'col1': np.ones(3), 'col2': np.zeros(3)}\n",
    ")\n",
    "df.head()"
   ]
  },
  {
   "cell_type": "code",
   "execution_count": 11,
   "metadata": {
    "tags": [
     "remove-output"
    ]
   },
   "outputs": [
    {
     "name": "stdout",
     "output_type": "stream",
     "text": [
      "Loading into 'gem7318.SAMPLE_TABLE`..\n",
      "(1 of 4)\n",
      "\tCREATE OR REPLACE TABLE SAMPLE_TABLE ( ..\n",
      "(2 of 4)\n",
      "\tcreate stage SAMPLE_TABLE_stage file_format = snowmobile_default_psv;\n",
      "(3 of 4)\n",
      "\tput file://C:/Users/GEM7318/Documents/Github/Snowmobile/docs/sample_table.csv @SAMPLE_TABLE_stage\n",
      "\tauto_compress = true\n",
      "(4 of 4)\n",
      "\tcopy into SAMPLE_TABLE from @SAMPLE_TABLE_stage\n",
      "\ton_error = continue\n",
      "..completed: 3 rows in 2 seconds\n"
     ]
    }
   ],
   "source": [
    "t1 = snowmobile.Table(sn=sn, df=df, table='sample_table', as_is=True)"
   ]
  },
  {
   "cell_type": "markdown",
   "metadata": {
    "tags": [
     "remove-cell"
    ]
   },
   "source": [
    "---"
   ]
  },
  {
   "cell_type": "markdown",
   "metadata": {},
   "source": [
    "<br>"
   ]
  },
  {
   "cell_type": "markdown",
   "metadata": {
    "tags": [
     "remove-cell"
    ]
   },
   "source": [
    "---"
   ]
  },
  {
   "cell_type": "markdown",
   "metadata": {},
   "source": [
    "### *Executing Queries*\n",
    "\n",
    "`````{admonition} sn: snowmobile.Connector\n",
    ":class: toggle, is_explanation\n",
    "\n",
    "{xref}`snowmobile` provides three convenience methods for executing raw SQL directly off the {class}`~snowmobile.Connector`.\n",
    "\n",
    "<hr class=\"sn-green\">\n",
    "\n",
    "{meth}`~snowmobile.Connector.query()` implements {meth}`pandas.read_sql()` for querying results into a {class}`~pandas.DataFrame`\\\n",
    "{link-badge}`./autoapi/snowmobile/core/connector/index.html#snowmobile.core.connector.Connector.query,cls=badge-secondary badge-pill text-white,API Docs: Connector.query(),tooltip=Documentation parsed from module docstring`\n",
    "\n",
    "+++\n",
    "\n",
    "{meth}`~snowmobile.Connector.ex()` implements {meth}`SnowflakeConnection.cursor().execute()` for executing commands within a {xref}`SnowflakeCursor`\\\n",
    "{link-badge}`./autoapi/snowmobile/core/connector/index.html#snowmobile.core.connector.Connector.ex,cls=badge-secondary badge-pill text-white,API Docs: Connector.ex() ,tooltip=Documentation parsed from module docstring`\n",
    "\n",
    "+++\n",
    "\n",
    "{meth}`~snowmobile.Connector.exd()` implements {meth}`SnowflakeConnection.cursor(DictCursor).execute()` for executing commands within a {xref}`DictCursor`\\\n",
    "{link-badge}`./autoapi/snowmobile/core/connector/index.html#snowmobile.core.connector.Connector.exd,cls=badge-secondary badge-pill text-white,API Docs: Connector.exd(),tooltip=Documentation parsed from module docstring`\n",
    "\n",
    "+++\n",
    "\n",
    "<hr class=\"sn-green\">\n",
    "\n",
    "{link-badge}`./usage/connector.html#executing-raw-sql,cls=badge-primary badge text-white,Usage: Executing Raw SQL,tooltip=Usage documentation for Executing Raw SQL`\n",
    "{link-badge}`./autoapi/snowmobile/core/connector/index.html,cls=badge-secondary badge-pill text-white,API Docs: snowmobile.core.connector,tooltip=Documentation parsed from docstrings`\n",
    "`````"
   ]
  },
  {
   "cell_type": "code",
   "execution_count": 5,
   "metadata": {},
   "outputs": [
    {
     "data": {
      "text/html": [
       "<div>\n",
       "<style scoped>\n",
       "    .dataframe tbody tr th:only-of-type {\n",
       "        vertical-align: middle;\n",
       "    }\n",
       "\n",
       "    .dataframe tbody tr th {\n",
       "        vertical-align: top;\n",
       "    }\n",
       "\n",
       "    .dataframe thead th {\n",
       "        text-align: right;\n",
       "    }\n",
       "</style>\n",
       "<table border=\"1\" class=\"dataframe\">\n",
       "  <thead>\n",
       "    <tr style=\"text-align: right;\">\n",
       "      <th></th>\n",
       "      <th>col1</th>\n",
       "      <th>col2</th>\n",
       "    </tr>\n",
       "  </thead>\n",
       "  <tbody>\n",
       "    <tr>\n",
       "      <th>0</th>\n",
       "      <td>1.0</td>\n",
       "      <td>0.0</td>\n",
       "    </tr>\n",
       "    <tr>\n",
       "      <th>1</th>\n",
       "      <td>1.0</td>\n",
       "      <td>0.0</td>\n",
       "    </tr>\n",
       "    <tr>\n",
       "      <th>2</th>\n",
       "      <td>1.0</td>\n",
       "      <td>0.0</td>\n",
       "    </tr>\n",
       "  </tbody>\n",
       "</table>\n",
       "</div>"
      ],
      "text/plain": [
       "   col1  col2\n",
       "0   1.0   0.0\n",
       "1   1.0   0.0\n",
       "2   1.0   0.0"
      ]
     },
     "execution_count": 5,
     "metadata": {},
     "output_type": "execute_result"
    }
   ],
   "source": [
    "# Into a DataFrame\n",
    "sn.query('select * from sample_table')"
   ]
  },
  {
   "cell_type": "code",
   "execution_count": 16,
   "metadata": {},
   "outputs": [
    {
     "data": {
      "text/plain": [
       "[(1.0, 0.0), (1.0, 0.0), (1.0, 0.0)]"
      ]
     },
     "execution_count": 16,
     "metadata": {},
     "output_type": "execute_result"
    }
   ],
   "source": [
    "# Into a SnowflakeCursor\n",
    "sn.ex('select * from sample_table').fetchall()"
   ]
  },
  {
   "cell_type": "code",
   "execution_count": 20,
   "metadata": {},
   "outputs": [
    {
     "data": {
      "text/plain": [
       "[{'COL1': 1.0, 'COL2': 0.0},\n",
       " {'COL1': 1.0, 'COL2': 0.0},\n",
       " {'COL1': 1.0, 'COL2': 0.0}]"
      ]
     },
     "execution_count": 20,
     "metadata": {},
     "output_type": "execute_result"
    }
   ],
   "source": [
    "# Into a DictCursor\n",
    "sn.exd('select * from sample_table').fetchall()"
   ]
  },
  {
   "cell_type": "markdown",
   "metadata": {
    "tags": [
     "remove-cell"
    ]
   },
   "source": [
    "---"
   ]
  },
  {
   "cell_type": "markdown",
   "metadata": {},
   "source": [
    "<br>"
   ]
  },
  {
   "cell_type": "markdown",
   "metadata": {
    "tags": [
     "remove-cell"
    ]
   },
   "source": [
    "---"
   ]
  },
  {
   "cell_type": "markdown",
   "metadata": {},
   "source": [
    "### *Working with SQL Scripts*\n",
    "\n",
    "`````{admonition} snowmobile.Script\n",
    ":class: toggle, is_explanation\n",
    "\n",
    "[**snowmobile.Script**](./usage/script.ipynb) imports a sql file and parses its contents according to its structure.\n",
    "\n",
    "````{tabbed} Context\n",
    "**At a minimum, the file is split into individual statements which are checked for valid tags;\n",
    "if a tag is not found, [Script](./usage/script.ipynb) will generate one based on\n",
    "the literal first SQL keyword it contains and its index position (e.g. `select~data-statement #3` in *sample_table.sql*)**.\n",
    "\n",
    "+++\n",
    "\n",
    "By providing {class}`script` (below) the same instance of {class}`sn` with which {class}`t1` (above)\n",
    "was instantiated, **the {xref}`SnowflakeConnection` and [Configuration](./usage/snowmobile_toml) is\n",
    "shared amongst:**\n",
    "- {class}`sn:` {class}`~snowmobile.Connector`\n",
    "- {class}`t1:` {class}`~snowmobile.Table`\n",
    "- {class}`script:` {class}`~snowmobile.Script`\n",
    "\n",
    "````\n",
    "\n",
    "````{tabbed} sample_table.sql\n",
    "This example makes use of the following `path` to **sample_table.sql**:\n",
    "```python\n",
    "\"\"\"Store path to 'sample_table.sql' in `path` variable.\"\"\"\n",
    "from pathlib import Path\n",
    "\n",
    "path = Path.cwd() / 'snippets' / 'getting_started' / 'sample_table.sql'\n",
    "```\n",
    "<br>\n",
    "\n",
    "The contents of **sample_table.sql** are:\n",
    "```{eval-rst}\n",
    ".. literalinclude:: ./snippets/getting_started/sample_table.sql\n",
    "   :language: sql\n",
    "   :lines: 1-17\n",
    "```\n",
    "<hr class=\"sn-spacer\">\n",
    "````\n",
    "\n",
    "<hr class=\"sn-green\">\n",
    "\n",
    "{link-badge}`./usage/script,cls=badge-primary badge text-white,Usage: snowmobile.Script,tooltip=Intro & usage documentation for snowmobile.Script`\n",
    "{link-badge}`./autoapi/snowmobile/core/script/index.html,cls=badge-secondary badge-pill text-white,API Docs: snowmobile.core.script,tooltip=Documentation parsed from docstrings`\n",
    "`````"
   ]
  },
  {
   "cell_type": "code",
   "execution_count": 6,
   "metadata": {
    "tags": [
     "remove-cell"
    ]
   },
   "outputs": [],
   "source": [
    "# Setup\n",
    "from pathlib import Path\n",
    "\n",
    "path = Path.cwd() / 'snippets' / 'snowmobile' / 'sample_table.sql'"
   ]
  },
  {
   "cell_type": "markdown",
   "metadata": {
    "tags": [
     "remove-cell"
    ]
   },
   "source": [
    "<p style=\"margin-left: 0.9rem; margin-top: 1em; font-size: 0.75rem; font-weight: 800;\">Setup</p>"
   ]
  },
  {
   "cell_type": "markdown",
   "metadata": {},
   "source": [
    "```{div} sn-indent-cell, sn-hanging \n",
    "Setup\n",
    "```"
   ]
  },
  {
   "cell_type": "code",
   "execution_count": 12,
   "metadata": {},
   "outputs": [
    {
     "name": "stdout",
     "output_type": "stream",
     "text": [
      "snowmobile.Script('sample_table.sql')\n"
     ]
    }
   ],
   "source": [
    "script = snowmobile.Script(sn=sn, path=path)\n",
    "print(script)"
   ]
  },
  {
   "cell_type": "code",
   "execution_count": 13,
   "metadata": {},
   "outputs": [
    {
     "name": "stdout",
     "output_type": "stream",
     "text": [
      "================\n",
      "sample_table.sql\n",
      "================\n",
      "1: Statement('create transient table~any_random_table1')\n",
      "2: Statement('create table~sample_table')\n",
      "3: Statement('select data~statement #3')\n",
      "4: Statement('select data~sample_table')\n"
     ]
    }
   ],
   "source": [
    "# High-level view of parsed contents\n",
    "script.dtl()  "
   ]
  },
  {
   "cell_type": "markdown",
   "metadata": {},
   "source": [
    "<p class=\"sn-indent-cell\">Accessing Statements</p>"
   ]
  },
  {
   "cell_type": "code",
   "execution_count": 14,
   "metadata": {},
   "outputs": [
    {
     "data": {
      "text/plain": [
       "Statement('select data~sample_table')"
      ]
     },
     "execution_count": 14,
     "metadata": {},
     "output_type": "execute_result"
    }
   ],
   "source": [
    "# Individual statements can be accessed by index position\n",
    "script(4)"
   ]
  },
  {
   "cell_type": "code",
   "execution_count": 15,
   "metadata": {},
   "outputs": [
    {
     "data": {
      "text/plain": [
       "Statement('select data~sample_table')"
      ]
     },
     "execution_count": 15,
     "metadata": {},
     "output_type": "execute_result"
    }
   ],
   "source": [
    "# ..including negative indexing\n",
    "script(-1)  "
   ]
  },
  {
   "cell_type": "code",
   "execution_count": 16,
   "metadata": {},
   "outputs": [
    {
     "data": {
      "text/plain": [
       "Statement('select data~sample_table')"
      ]
     },
     "execution_count": 16,
     "metadata": {},
     "output_type": "execute_result"
    }
   ],
   "source": [
    "# ..or by their tag as a string\n",
    "script('select data~sample_table')  "
   ]
  },
  {
   "cell_type": "markdown",
   "metadata": {},
   "source": [
    "<p class=\"sn-indent-cell\">Executing Statements</p>"
   ]
  },
  {
   "cell_type": "code",
   "execution_count": 41,
   "metadata": {},
   "outputs": [
    {
     "data": {
      "text/markdown": [
       "```sql\n",
       "select * from sample_table;\n",
       "```"
      ],
      "text/plain": [
       "<IPython.core.display.Markdown object>"
      ]
     },
     "metadata": {},
     "output_type": "display_data"
    },
    {
     "data": {
      "text/html": [
       "<div>\n",
       "<style scoped>\n",
       "    .dataframe tbody tr th:only-of-type {\n",
       "        vertical-align: middle;\n",
       "    }\n",
       "\n",
       "    .dataframe tbody tr th {\n",
       "        vertical-align: top;\n",
       "    }\n",
       "\n",
       "    .dataframe thead th {\n",
       "        text-align: right;\n",
       "    }\n",
       "</style>\n",
       "<table border=\"1\" class=\"dataframe\">\n",
       "  <thead>\n",
       "    <tr style=\"text-align: right;\">\n",
       "      <th></th>\n",
       "      <th>col1</th>\n",
       "      <th>col2</th>\n",
       "    </tr>\n",
       "  </thead>\n",
       "  <tbody>\n",
       "    <tr>\n",
       "      <th>0</th>\n",
       "      <td>1.0</td>\n",
       "      <td>0.0</td>\n",
       "    </tr>\n",
       "  </tbody>\n",
       "</table>\n",
       "</div>"
      ],
      "text/plain": [
       "   col1  col2\n",
       "0   1.0   0.0"
      ]
     },
     "execution_count": 41,
     "metadata": {},
     "output_type": "execute_result"
    }
   ],
   "source": [
    "# They can be run directly off the Script\n",
    "script.run(4, render=True)\n",
    "script(4).results.head(1)"
   ]
  },
  {
   "cell_type": "code",
   "execution_count": 27,
   "metadata": {},
   "outputs": [
    {
     "data": {
      "text/markdown": [
       "```sql\n",
       "select * from sample_table;\n",
       "```"
      ],
      "text/plain": [
       "<IPython.core.display.Markdown object>"
      ]
     },
     "metadata": {},
     "output_type": "display_data"
    },
    {
     "data": {
      "text/html": [
       "<div>\n",
       "<style scoped>\n",
       "    .dataframe tbody tr th:only-of-type {\n",
       "        vertical-align: middle;\n",
       "    }\n",
       "\n",
       "    .dataframe tbody tr th {\n",
       "        vertical-align: top;\n",
       "    }\n",
       "\n",
       "    .dataframe thead th {\n",
       "        text-align: right;\n",
       "    }\n",
       "</style>\n",
       "<table border=\"1\" class=\"dataframe\">\n",
       "  <thead>\n",
       "    <tr style=\"text-align: right;\">\n",
       "      <th></th>\n",
       "      <th>col1</th>\n",
       "      <th>col2</th>\n",
       "    </tr>\n",
       "  </thead>\n",
       "  <tbody>\n",
       "    <tr>\n",
       "      <th>0</th>\n",
       "      <td>1.0</td>\n",
       "      <td>0.0</td>\n",
       "    </tr>\n",
       "  </tbody>\n",
       "</table>\n",
       "</div>"
      ],
      "text/plain": [
       "   col1  col2\n",
       "0   1.0   0.0"
      ]
     },
     "execution_count": 27,
     "metadata": {},
     "output_type": "execute_result"
    }
   ],
   "source": [
    "# ..or stored and manipulated on their own\n",
    "s4 = script(4).run(render=True)\n",
    "s4.results.head(1)"
   ]
  },
  {
   "cell_type": "markdown",
   "metadata": {},
   "source": [
    "&nbsp;&nbsp;See [Advanced Examples](./usage/advanced.md) for more in-depth applications of {class}`~snowmobile.Script`."
   ]
  },
  {
   "cell_type": "code",
   "execution_count": 40,
   "metadata": {
    "tags": [
     "remove-cell"
    ]
   },
   "outputs": [
    {
     "name": "stdout",
     "output_type": "stream",
     "text": [
      "================\n",
      "sample_table.sql\n",
      "================\n",
      "1: Statement('create transient table~any_random_table1')\n",
      "\n",
      "================\n",
      "sample_table.sql\n",
      "================\n",
      "1: Statement('create transient table~any_random_table1')\n",
      "2: Statement('create table~sample_table')\n",
      "3: Statement('select data~statement #3')\n",
      "4: Statement('select data~sample_table')\n"
     ]
    }
   ],
   "source": [
    "with script.filter(incl_kw=['create'], excl_nm=['create table']) as s:\n",
    "    s.dtl()\n",
    "\n",
    "print('')\n",
    "\n",
    "script.dtl()"
   ]
  },
  {
   "cell_type": "code",
   "execution_count": 53,
   "metadata": {
    "tags": [
     "remove-cell"
    ]
   },
   "outputs": [
    {
     "data": {
      "text/markdown": [
       "```sql\n",
       "create or replace table sample_table (\n",
       "\tcol1 int,\n",
       "\tcol2 int\n",
       ");\n",
       "```"
      ],
      "text/plain": [
       "<IPython.core.display.Markdown object>"
      ]
     },
     "metadata": {},
     "output_type": "display_data"
    },
    {
     "data": {
      "text/plain": [
       "Statement('create table~sample_table')"
      ]
     },
     "execution_count": 53,
     "metadata": {},
     "output_type": "execute_result"
    }
   ],
   "source": [
    "script(2).run(render=True)"
   ]
  },
  {
   "cell_type": "code",
   "execution_count": 34,
   "metadata": {
    "tags": [
     "remove-cell"
    ]
   },
   "outputs": [
    {
     "name": "stdout",
     "output_type": "stream",
     "text": [
      "create or replace table sample_table (\n",
      "\tcol1 int,\n",
      "\tcol2 int\n",
      ")\n"
     ]
    }
   ],
   "source": [
    "print(script.s(2).sql)"
   ]
  },
  {
   "cell_type": "code",
   "execution_count": 35,
   "metadata": {
    "tags": [
     "remove-cell"
    ]
   },
   "outputs": [
    {
     "name": "stdout",
     "output_type": "stream",
     "text": [
      "create or replace table sample_table (\n",
      "\tcol1 int,\n",
      "\tcol2 int\n",
      ")\n"
     ]
    }
   ],
   "source": [
    "print(script.s('create table~sample_table').sql)"
   ]
  },
  {
   "cell_type": "code",
   "execution_count": 23,
   "metadata": {
    "tags": [
     "remove-cell"
    ]
   },
   "outputs": [
    {
     "name": "stdout",
     "output_type": "stream",
     "text": [
      "================\n",
      "sample_table.sql\n",
      "================\n",
      "1: Statement('create table~sample_table')\n"
     ]
    }
   ],
   "source": [
    "with script.filter(incl_nm=['.*sample_table']) as s:\n",
    "    s.dtl()"
   ]
  },
  {
   "cell_type": "markdown",
   "metadata": {},
   "source": [
    "<br>"
   ]
  },
  {
   "cell_type": "markdown",
   "metadata": {
    "tags": [
     "remove-cell"
    ]
   },
   "source": [
    "---"
   ]
  },
  {
   "cell_type": "markdown",
   "metadata": {
    "tags": [
     "remove-cell"
    ]
   },
   "source": [
    "---"
   ]
  },
  {
   "cell_type": "markdown",
   "metadata": {},
   "source": [
    "### *Information API*\n",
    "\n",
    "`````{admonition} snowmobile.SQL\n",
    ":class: toggle, is_explanation\n",
    "\n",
    "{class}`snowmobile.SQL` generates and executes raw SQL from inputs; \n",
    "it comes free as the {attr}`~snowmobile.Connector.sql` attribute of \n",
    "{class}`~snowmobile.Connector`, and its purpose is to provide a simple\n",
    "Python API to query metadata and execute administrative commands \n",
    "against {xref}`snowflake`.\n",
    "\n",
    "<hr class=\"sn-green\">\n",
    "\n",
    "{link-badge}`./usage/sql,cls=badge-primary badge text-white,Usage Docs: snowmobile.SQL,tooltip=Intro & usage documentation for snowmobile.SQL`\n",
    "{link-badge}`./autoapi/snowmobile/core/sql/index.html,cls=badge-secondary badge-pill text-white,API Docs: snowmobile.core.sql,tooltip=Documentation parsed from docstrings`\n",
    "`````"
   ]
  },
  {
   "cell_type": "markdown",
   "metadata": {},
   "source": [
    "<p class=\"sn-indent-cell\"></p>"
   ]
  },
  {
   "cell_type": "code",
   "execution_count": 5,
   "metadata": {},
   "outputs": [
    {
     "data": {
      "text/plain": [
       "True"
      ]
     },
     "execution_count": 5,
     "metadata": {},
     "output_type": "execute_result"
    }
   ],
   "source": [
    "# Check existence of tables/views\n",
    "sn.sql.exists('sample_table')"
   ]
  },
  {
   "cell_type": "code",
   "execution_count": 2,
   "metadata": {},
   "outputs": [
    {
     "data": {
      "text/html": [
       "<div>\n",
       "<style scoped>\n",
       "    .dataframe tbody tr th:only-of-type {\n",
       "        vertical-align: middle;\n",
       "    }\n",
       "\n",
       "    .dataframe tbody tr th {\n",
       "        vertical-align: top;\n",
       "    }\n",
       "\n",
       "    .dataframe thead th {\n",
       "        text-align: right;\n",
       "    }\n",
       "</style>\n",
       "<table border=\"1\" class=\"dataframe\">\n",
       "  <thead>\n",
       "    <tr style=\"text-align: right;\">\n",
       "      <th></th>\n",
       "      <th>col1</th>\n",
       "      <th>col2</th>\n",
       "    </tr>\n",
       "  </thead>\n",
       "  <tbody>\n",
       "    <tr>\n",
       "      <th>0</th>\n",
       "      <td>1.0</td>\n",
       "      <td>0.0</td>\n",
       "    </tr>\n",
       "    <tr>\n",
       "      <th>1</th>\n",
       "      <td>1.0</td>\n",
       "      <td>0.0</td>\n",
       "    </tr>\n",
       "    <tr>\n",
       "      <th>2</th>\n",
       "      <td>1.0</td>\n",
       "      <td>0.0</td>\n",
       "    </tr>\n",
       "  </tbody>\n",
       "</table>\n",
       "</div>"
      ],
      "text/plain": [
       "   col1  col2\n",
       "0   1.0   0.0\n",
       "1   1.0   0.0\n",
       "2   1.0   0.0"
      ]
     },
     "execution_count": 2,
     "metadata": {},
     "output_type": "execute_result"
    }
   ],
   "source": [
    "# Sample 'n' records from a table\n",
    "sn.sql.table_sample('sample_table', n=-1)"
   ]
  },
  {
   "cell_type": "code",
   "execution_count": 3,
   "metadata": {
    "tags": [
     "remove-output"
    ]
   },
   "outputs": [
    {
     "data": {
      "text/html": [
       "<div>\n",
       "<style scoped>\n",
       "    .dataframe tbody tr th:only-of-type {\n",
       "        vertical-align: middle;\n",
       "    }\n",
       "\n",
       "    .dataframe tbody tr th {\n",
       "        vertical-align: top;\n",
       "    }\n",
       "\n",
       "    .dataframe thead th {\n",
       "        text-align: right;\n",
       "    }\n",
       "</style>\n",
       "<table border=\"1\" class=\"dataframe\">\n",
       "  <thead>\n",
       "    <tr style=\"text-align: right;\">\n",
       "      <th></th>\n",
       "      <th>status</th>\n",
       "    </tr>\n",
       "  </thead>\n",
       "  <tbody>\n",
       "    <tr>\n",
       "      <th>0</th>\n",
       "      <td>Table SAMPLE_TABLE2 successfully created.</td>\n",
       "    </tr>\n",
       "  </tbody>\n",
       "</table>\n",
       "</div>"
      ],
      "text/plain": [
       "                                      status\n",
       "0  Table SAMPLE_TABLE2 successfully created."
      ]
     },
     "execution_count": 3,
     "metadata": {},
     "output_type": "execute_result"
    }
   ],
   "source": [
    "# Submit basic administrative commands\n",
    "sn.sql.clone(nm='sample_table', to='sample_table2')"
   ]
  },
  {
   "cell_type": "code",
   "execution_count": 4,
   "metadata": {},
   "outputs": [
    {
     "data": {
      "text/plain": [
       "3"
      ]
     },
     "execution_count": 4,
     "metadata": {},
     "output_type": "execute_result"
    }
   ],
   "source": [
    "# Check depth\n",
    "sn.sql.cnt_records('sample_table2')"
   ]
  },
  {
   "cell_type": "code",
   "execution_count": 5,
   "metadata": {},
   "outputs": [
    {
     "data": {
      "text/plain": [
       "['COL1', 'COL2']"
      ]
     },
     "execution_count": 5,
     "metadata": {},
     "output_type": "execute_result"
    }
   ],
   "source": [
    "# Fetch columns\n",
    "sn.sql.columns('sample_table2')"
   ]
  },
  {
   "cell_type": "code",
   "execution_count": 53,
   "metadata": {},
   "outputs": [
    {
     "name": "stdout",
     "output_type": "stream",
     "text": [
      "create or replace TABLE SAMPLE_TABLE (\n",
      "\tCOL1 FLOAT,\n",
      "\tCOL2 FLOAT\n",
      ");\n"
     ]
    }
   ],
   "source": [
    "# Query DDL\n",
    "print(sn.sql.ddl('sample_table'))"
   ]
  },
  {
   "cell_type": "code",
   "execution_count": 7,
   "metadata": {},
   "outputs": [
    {
     "name": "stdout",
     "output_type": "stream",
     "text": [
      "<class 'str'>\n",
      "drop table if exists GEM7318.SAMPLE_TABLE\n"
     ]
    }
   ],
   "source": [
    "# Provide `run=False` to get the raw sql\n",
    "drop_sql = sn.sql.drop('sample_table', run=False)\n",
    "\n",
    "print(type(drop_sql))\n",
    "print(drop_sql)"
   ]
  },
  {
   "cell_type": "markdown",
   "metadata": {},
   "source": [
    "<p class=\"sn-indent-cell\"></p>"
   ]
  },
  {
   "cell_type": "markdown",
   "metadata": {},
   "source": [
    "<p class=\"sn-indent-cell\">Cleaning up after ourselves can be done with:</p>"
   ]
  },
  {
   "cell_type": "code",
   "execution_count": 8,
   "metadata": {},
   "outputs": [],
   "source": [
    "for t in ['sample_table', 'sample_table2']:\n",
    "    sn.sql.drop(t)"
   ]
  },
  {
   "cell_type": "markdown",
   "metadata": {},
   "source": [
    "<p class=\"sn-indent-cell\"></p>"
   ]
  },
  {
   "cell_type": "markdown",
   "metadata": {
    "tags": [
     "remove-cell"
    ]
   },
   "source": [
    "---"
   ]
  },
  {
   "cell_type": "markdown",
   "metadata": {
    "tags": [
     "remove-cell"
    ]
   },
   "source": [
    "# <u>Meta / Non-Output</u>\n",
    "---\n",
    "\n",
    "All cells below this are either excluded from output via the `remove-cell` cell-tag\n",
    "or contain contents that will not visibly render in the output."
   ]
  },
  {
   "cell_type": "markdown",
   "metadata": {
    "tags": [
     "remove-cell"
    ]
   },
   "source": [
    "# Style\n",
    "---\n",
    "\n",
    "Reduce vertical spacing between h2-h3 headings for *Examples*:\n",
    "```css\n",
    "<style>\n",
    ".md-typeset h2, .md-typeset h3 {\n",
    "    margin-top: -0.5rem;\n",
    "}\n",
    "</style>\n",
    "```"
   ]
  },
  {
   "cell_type": "markdown",
   "metadata": {},
   "source": [
    "<style>\n",
    ".md-typeset h2, .md-typeset h3 {\n",
    "    margin-top: -0.5rem;\n",
    "}\n",
    "</style>"
   ]
  }
 ],
 "metadata": {
  "kernelspec": {
   "display_name": "snowmobile2",
   "language": "python",
   "name": "snowmobile2"
  },
  "language_info": {
   "codemirror_mode": {
    "name": "ipython",
    "version": 3
   },
   "file_extension": ".py",
   "mimetype": "text/x-python",
   "name": "python",
   "nbconvert_exporter": "python",
   "pygments_lexer": "ipython3",
   "version": "3.7.0"
  },
  "toc-showtags": false
 },
 "nbformat": 4,
 "nbformat_minor": 4
}
