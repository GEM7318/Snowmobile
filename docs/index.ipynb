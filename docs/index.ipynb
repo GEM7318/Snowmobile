{
 "cells": [
  {
   "cell_type": "markdown",
   "metadata": {},
   "source": [
    "# snowmobile\n",
    "\n",
    "```{include} /description.md\n",
    "```\n",
    "\n",
    "```{eval-rst}\n",
    "\n",
    ".. toctree::\n",
    "    :maxdepth: 1\n",
    "    :hidden:\n",
    "\n",
    "    ./setup.md\n",
    "\n",
    ".. toctree::\n",
    "    :caption: Usage\n",
    "    :maxdepth: 1\n",
    "    :hidden:\n",
    "\n",
    "    ./usage/snowmobile.md\n",
    "    ./usage/table.md\n",
    "    ./usage/script.md\n",
    "    ./usage/sql.md\n",
    "    ./usage/snowmobile_toml.md\n",
    "\n",
    ".. toctree::\n",
    "    :caption: Additional Resources\n",
    "    :maxdepth: 1\n",
    "    :hidden:\n",
    "\n",
    "    ./modindex.md\n",
    "    ./extensions.md\n",
    "    ./usage/advanced.md\n",
    "    ./snippets.md\n",
    "\n",
    ".. toctree::\n",
    "    :caption: Meta\n",
    "    :maxdepth: 1\n",
    "    :hidden:\n",
    "\n",
    "    ./acknowledgements.md\n",
    "    ./changelog.md\n",
    "    ./authors.md\n",
    "    ./license.md\n",
    "```"
   ]
  },
  {
   "cell_type": "markdown",
   "metadata": {},
   "source": [
    "## Example\n",
    "- *[Connecting](#connecting)*\n",
    "- *[Loading Data](#loading-data)*\n",
    "- *[Executing Queries](#executing-queries)*\n",
    "- *[Working with SQL Scripts](#working-with-sql-scripts)*\n",
    "- *[Information API](#information-api)*"
   ]
  },
  {
   "cell_type": "markdown",
   "metadata": {},
   "source": [
    "<br>\n",
    "\n",
    "### *Connecting*\n",
    "````{admonition} snowmobile.connect()\n",
    ":class: toggle, note, is_explanation, sn-dedent-v-container\n",
    "\n",
    "```{div} sn-dedent-v\n",
    "<hr class=\"sn-green\">\n",
    "```\n",
    "\n",
    "```{div} sn-dedent-v-t, sn-dedent-v-b-h\n",
    "{func}`snowmobile.connect()` is an alias for {class}`snowmobile.Snowmobile()`; its purpose is to:\n",
    "```\n",
    "1.  Locate, instantiate, and store [snowmobile.toml](./usage/snowmobile_toml.md#snowmobiletoml)\n",
    "    as a {class}`~snowmobile.Configuration` object ({class}`sn.cfg`)\n",
    "1.  Establish a connection to {xref}`snowflake` and store the {xref}`SnowflakeConnection` ({class}`sn.con`)\n",
    "1.  Serve as the primary entry point to the {xref}`SnowflakeConnection` and {xref}`snowmobile` APIs\n",
    "+++\n",
    "```{div} sn-dedent-v-t-h\n",
    "  The first time it's invoked, [Snowmobile](./usage/snowmobile.md) will find [snowmobile.toml](./usage/snowmobile_toml) and cache its location;\n",
    "  this step isn't repeated unless the file is moved, the cache is manually cleared, or a new version of {xref}`snowmobile` is installed.\n",
    "```\n",
    "+++\n",
    "**With all arguments omitted, it will authenticate with the default credentials and connection arguments specified in** [**snowmobile.toml**](./usage/snowmobile_toml).\n",
    "\n",
    "<hr class=\"sn-green\">\n",
    "\n",
    "{link-badge}`./usage/snowmobile.html,cls=badge-primary badge text-white,Usage: snowmobile.Snowmobile,tooltip=Intro & usage documentation for snowmobile.Snowmobile`\n",
    "{link-badge}`./autoapi/snowmobile/core/connection/index.html,cls=badge-secondary badge-pill text-white,API Docs: snowmobile.core.connection,tooltip=Documentation parsed from docstrings`\n",
    "````"
   ]
  },
  {
   "cell_type": "markdown",
   "metadata": {},
   "source": [
    "```{div} sn-pre-code, sn-dedent-v-t-h\n",
    "Establishing a connection based on configured defaults is done with:\n",
    "```"
   ]
  },
  {
   "cell_type": "code",
   "execution_count": 16,
   "metadata": {
    "tags": [
     "remove-output"
    ]
   },
   "outputs": [
    {
     "name": "stdout",
     "output_type": "stream",
     "text": [
      "Locating credentials..\n",
      "(1 of 2) Finding snowmobile.toml..\n",
      "(2 of 2) Cached path found at ../Snowmobile/snowmobile.toml\n",
      "..connected: snowmobile.Snowmobile(creds='creds1')\n"
     ]
    }
   ],
   "source": [
    "import snowmobile\n",
    "\n",
    "sn = snowmobile.connect()"
   ]
  },
  {
   "cell_type": "markdown",
   "metadata": {},
   "source": [
    "```{div} sn-pre-code\n",
    "Which gives us:\n",
    "```"
   ]
  },
  {
   "cell_type": "code",
   "execution_count": 6,
   "metadata": {
    "tags": [
     "remove-output"
    ]
   },
   "outputs": [
    {
     "name": "stdout",
     "output_type": "stream",
     "text": [
      "snowmobile.Snowmobile(creds='creds1')\n",
      "snowmobile.Configuration('snowmobile.toml')\n",
      "<class 'snowflake.connector.connection.SnowflakeConnection'>\n"
     ]
    }
   ],
   "source": [
    "print(sn)            #> snowmobile.Snowmobile(creds='creds1')\n",
    "print(sn.cfg)        #> snowmobile.Configuration('snowmobile.toml')\n",
    "print(type(sn.con))  #> <class 'snowflake.connector.connection.SnowflakeConnection'>"
   ]
  },
  {
   "cell_type": "markdown",
   "metadata": {},
   "source": [
    "```{div} sn-pre-code\n",
    "We can verify the connection with:\n",
    "```"
   ]
  },
  {
   "cell_type": "code",
   "execution_count": null,
   "metadata": {},
   "outputs": [],
   "source": [
    "print(sn.alive)  #> True"
   ]
  },
  {
   "cell_type": "markdown",
   "metadata": {
    "tags": [
     "remove-cell"
    ]
   },
   "source": [
    "<br>\n",
    "\n",
    "### *Loading Data*\n",
    "\n",
    "`````{admonition} snowmobile.Table\n",
    ":class: toggle, is_explanation, sn-dedent-v-t-container, sn-dedent-v-b-h-container\n",
    "\n",
    "````{tabbed} Context\n",
    "\n",
    "  {class}`~snowmobile.Table` is a loading solution that at minimum accepts a\n",
    "  [**Snowmobile**](./usage/snowmobile) ({class}`sn`), a {class}`~pandas.DataFrame` ({class}`df`),\n",
    "  and a table name ({class}`str`).\n",
    "+++\n",
    "  In the same way that [**Snowmobile**](./usage/snowmobile) handles its keyword arguments,\n",
    "  {class}`~snowmobile.Table` will adhere to any arguments explicitly provided and defer\n",
    "  to the values configured in [snowmobile.toml](./usage/snowmobile_toml) otherwise.\n",
    "+++\n",
    "  `as_is=True` tells `t1` to invoke {meth}`~snowmobile.Table.load()` with\n",
    "  the arguments provided as opposed to inspecting `t1` for information on the existence\n",
    "  of the table or its compatability with the {class}`df` we're loading.\n",
    "\n",
    "````\n",
    "\n",
    "````{tabbed} +\n",
    "  ```{div} sn-dedent-v-b-h, sn-dedent-v-t\n",
    "  *The behavior outlined below reflects those within the\n",
    "  [default snowmobile.toml file](./usage/snowmobile_toml.md#file-contents)*, meaning that `t1` will:\n",
    "  ```\n",
    "\n",
    "  1. Check if *sample_table* exists in the schema associated with {attr}`sn.con`\n",
    "  2. If *sample_table* **does** exist, it will validate `df` against *sample_table* and throw an error\n",
    "     if their dimensions are not identical\n",
    "  3. If *sample_table* does **not** exist (as is the case here), it will generate DDL from `df` and execute it as part of the loading process\n",
    "````\n",
    "\n",
    "<hr class=\"sn-green\">\n",
    "\n",
    "{link-badge}`./usage/table.html,cls=badge-primary badge text-white,Usage: snowmobile.Table,tooltip=Intro & usage documentation for snowmobile.Table`\n",
    "{link-badge}`./autoapi/snowmobile/core/table/index.html,cls=badge-secondary badge-pill text-white,API Docs: snowmobile.core.table,tooltip=Documentation parsed from docstrings`\n",
    "`````\n",
    "\n",
    "````{admonition} Setup\n",
    ":class: toggle, is-setup, sn-dedent-v-t-h-container, sn-clear-title\n",
    "\n",
    "```{div} sn-dedent-v-t-h, hanging\n",
    "The `df` used below can be created with:\n",
    "```\n",
    "\n",
    "```python\n",
    "import pandas as pd\n",
    "import numpy as np\n",
    "\n",
    "df = pd.DataFrame(\n",
    "  data = {'col1': np.ones(3), 'col2': np.zeros(3)}\n",
    ")\n",
    "\n",
    "print(df.shape)  #> (3, 2)\n",
    "```\n",
    "\n",
    "<hr class=\"sn-spacer-thin\">\n",
    "\n",
    "````"
   ]
  },
  {
   "cell_type": "markdown",
   "metadata": {},
   "source": [
    "<br>\n",
    "\n",
    "### *Loading Data*\n",
    "\n",
    "`````{admonition} snowmobile.Table\n",
    ":class: toggle, is_explanation, sn-dedent-v-t-container, sn-dedent-v-b-h-container\n",
    "\n",
    "````{tabbed} Context\n",
    "  {class}`~snowmobile.Table` is a loading solution that at minimum accepts a\n",
    "  [**Snowmobile**](./usage/snowmobile) ({class}`sn`), a {class}`~pandas.DataFrame` ({class}`df`),\n",
    "  and a table name ({class}`str`).\n",
    "+++\n",
    "  In the same way that [**Snowmobile**](./usage/snowmobile) handles its keyword arguments,\n",
    "  {class}`~snowmobile.Table` will adhere to any arguments explicitly provided and defer\n",
    "  to the values configured in [snowmobile.toml](./usage/snowmobile_toml) otherwise.\n",
    "````\n",
    "\n",
    "````{tabbed} +\n",
    "  ```{div} sn-dedent-v-b-h, sn-dedent-v-t\n",
    "  *The behavior outlined below reflects those within the\n",
    "  [default snowmobile.toml file](./usage/snowmobile_toml.md#file-contents)*, meaning that `t1` will:\n",
    "  ```\n",
    "\n",
    "  1. Check if *sample_table* exists in the schema associated with {attr}`sn.con`\n",
    "  2. If *sample_table* **does** exist, it will validate `df` against *sample_table* and throw an error\n",
    "     if their dimensions are not identical\n",
    "  3. If *sample_table* does **not** exist (as is the case here), it will generate DDL from `df` and execute it as part of the loading process\n",
    "````\n",
    "\n",
    "<hr class=\"sn-green\">\n",
    "\n",
    "{link-badge}`./usage/table.html,cls=badge-primary badge text-white,Usage: snowmobile.Table,tooltip=Intro & usage documentation for snowmobile.Table`\n",
    "{link-badge}`./autoapi/snowmobile/core/table/index.html,cls=badge-secondary badge-pill text-white,API Docs: snowmobile.core.table,tooltip=Documentation parsed from docstrings`\n",
    "`````\n",
    "\n",
    "````{admonition} Setup\n",
    ":class: toggle, is-setup, sn-dedent-v-t-h-container, sn-clear-title\n",
    "\n",
    "```{div} sn-dedent-v-t-h, hanging\n",
    "The `df` used below can be created with:\n",
    "```\n",
    "\n",
    "```python\n",
    "import pandas as pd\n",
    "import numpy as np\n",
    "\n",
    "df = pd.DataFrame(\n",
    "  data = {'COL1': np.ones(3), 'COL2': np.zeros(3)}\n",
    ")\n",
    "\n",
    "print(df.shape)  #> (3, 2)\n",
    "```\n",
    "\n",
    "<hr class=\"sn-spacer-thin\">\n",
    "\n",
    "````"
   ]
  },
  {
   "cell_type": "code",
   "execution_count": 12,
   "metadata": {
    "tags": [
     "remove-cell"
    ]
   },
   "outputs": [],
   "source": [
    "# Verify table does not exist before moving forward with example\n",
    "if sn.sql.exists('sample_table'):\n",
    "    sn.sql.drop('sample_table')"
   ]
  },
  {
   "cell_type": "code",
   "execution_count": 26,
   "metadata": {
    "tags": [
     "remove-cell"
    ]
   },
   "outputs": [
    {
     "data": {
      "text/html": [
       "<div>\n",
       "<style scoped>\n",
       "    .dataframe tbody tr th:only-of-type {\n",
       "        vertical-align: middle;\n",
       "    }\n",
       "\n",
       "    .dataframe tbody tr th {\n",
       "        vertical-align: top;\n",
       "    }\n",
       "\n",
       "    .dataframe thead th {\n",
       "        text-align: right;\n",
       "    }\n",
       "</style>\n",
       "<table border=\"1\" class=\"dataframe\">\n",
       "  <thead>\n",
       "    <tr style=\"text-align: right;\">\n",
       "      <th></th>\n",
       "      <th>COL1</th>\n",
       "      <th>COL2</th>\n",
       "    </tr>\n",
       "  </thead>\n",
       "  <tbody>\n",
       "    <tr>\n",
       "      <th>0</th>\n",
       "      <td>1.0</td>\n",
       "      <td>0.0</td>\n",
       "    </tr>\n",
       "    <tr>\n",
       "      <th>1</th>\n",
       "      <td>1.0</td>\n",
       "      <td>0.0</td>\n",
       "    </tr>\n",
       "    <tr>\n",
       "      <th>2</th>\n",
       "      <td>1.0</td>\n",
       "      <td>0.0</td>\n",
       "    </tr>\n",
       "  </tbody>\n",
       "</table>\n",
       "</div>"
      ],
      "text/plain": [
       "   COL1  COL2\n",
       "0   1.0   0.0\n",
       "1   1.0   0.0\n",
       "2   1.0   0.0"
      ]
     },
     "execution_count": 26,
     "metadata": {},
     "output_type": "execute_result"
    }
   ],
   "source": [
    "\"\"\"Generate dummy DataFrame for snowmobile.Table example.\"\"\"\n",
    "import pandas as pd\n",
    "import numpy as np\n",
    "\n",
    "df = pd.DataFrame(\n",
    "    data = {'COL1': np.ones(3), 'COL2': np.zeros(3)}\n",
    ")\n",
    "df.head()"
   ]
  },
  {
   "cell_type": "markdown",
   "metadata": {
    "tags": [
     "remove-cell"
    ]
   },
   "source": [
    "```{div} sn-indent-h-cell\n",
    "<hr class=\"sn-green\" style=\"margin-top: 0.5rem; margin-bottom: -0.2rem;\">\n",
    "```\n",
    "\n",
    "```{div} sn-pre-code, sn-indent-v-t-h-container\n",
    "Given a `sn` ({class}`~snowmobile.Snowmobile`), a `df` ({class}`~pandas.DataFrame`), and a `table` ({class}`str`) to load into, a {class}`~snowmobile.Table` can be created with:\n",
    "```"
   ]
  },
  {
   "cell_type": "markdown",
   "metadata": {},
   "source": [
    "<hr class=\"sn-spacer\">\n",
    "\n",
    "```{div} sn-pre-code, sn-indent-v-t-h-container\n",
    "Given a `sn` ({class}`~snowmobile.Snowmobile`), a `df` ({class}`~pandas.DataFrame`), and a `table` ({class}`str`) to load into, a {class}`~snowmobile.Table` can be created with:\n",
    "```"
   ]
  },
  {
   "cell_type": "code",
   "execution_count": 17,
   "metadata": {
    "tags": [
     "remove-output"
    ]
   },
   "outputs": [],
   "source": [
    "t1 = snowmobile.Table(sn=sn, df=df, table='sample_table')"
   ]
  },
  {
   "cell_type": "markdown",
   "metadata": {},
   "source": [
    "```{div} sn-pre-code\n",
    "With the default configuration, `t1` has gone ahead and pre-inspected some things like:\n",
    "```"
   ]
  },
  {
   "cell_type": "code",
   "execution_count": 18,
   "metadata": {
    "tags": [
     "remove-output"
    ]
   },
   "outputs": [
    {
     "name": "stdout",
     "output_type": "stream",
     "text": [
      "False\n"
     ]
    }
   ],
   "source": [
    "print(t1.exists)  #> False  -> 'sample_table' doesn't exist in the schema associated with 'sn'"
   ]
  },
  {
   "cell_type": "markdown",
   "metadata": {},
   "source": [
    "```{div} sn-pre-code\n",
    "We can create *sample_table* and load `df` into with:\n",
    "```"
   ]
  },
  {
   "cell_type": "code",
   "execution_count": 19,
   "metadata": {
    "tags": [
     "remove-output"
    ]
   },
   "outputs": [],
   "source": [
    "t1.load()"
   ]
  },
  {
   "cell_type": "markdown",
   "metadata": {},
   "source": [
    "```{div} sn-pre-code\n",
    "And do some inspection on *sample_table* that was just created with:\n",
    "```"
   ]
  },
  {
   "cell_type": "code",
   "execution_count": 19,
   "metadata": {
    "tags": [
     "remove-output"
    ]
   },
   "outputs": [
    {
     "name": "stdout",
     "output_type": "stream",
     "text": [
      "Loading into 'gem7318.SAMPLE_TABLE`..\n",
      "(1 of 4)\n",
      "\tCREATE OR REPLACE TABLE SAMPLE_TABLE ( ..\n",
      "(2 of 4)\n",
      "\tcreate stage SAMPLE_TABLE_stage file_format = snowmobile_default_psv;\n",
      "(3 of 4)\n",
      "\tput file://C:/Users/GEM7318/Documents/Github/Snowmobile/docs/sample_table.csv @SAMPLE_TABLE_stage\n",
      "\tauto_compress = true\n",
      "(4 of 4)\n",
      "\tcopy into SAMPLE_TABLE from @SAMPLE_TABLE_stage\n",
      "\ton_error = continue\n",
      "..completed: 3 rows in 2 seconds\n"
     ]
    },
    {
     "data": {
      "text/plain": [
       "snowmobile.Table(table='SAMPLE_TABLE')"
      ]
     },
     "execution_count": 19,
     "metadata": {},
     "output_type": "execute_result"
    }
   ],
   "source": [
    "print(t1.loaded)                           #> True -> t1 didn't encounter any errors during .load()\n",
    "print(sn.sql.cnt_records('sample_table'))  #> 3  ---> 'sample_table' contains three records"
   ]
  },
  {
   "cell_type": "markdown",
   "metadata": {},
   "source": [
    "```{div} sn-indent-h-cell\n",
    "<hr class=\"sn-green\" style=\"margin-top: 1.4rem; margin-bottom: 0.5rem;\">\n",
    "```\n",
    "\n",
    "```{div} sn-pre-code\n",
    "The pre-inspection steps can be skipped and the same `df` appended to *sample_table* created by `t1.load()` with:\n",
    "```"
   ]
  },
  {
   "cell_type": "code",
   "execution_count": 21,
   "metadata": {
    "tags": [
     "remove-output"
    ]
   },
   "outputs": [],
   "source": [
    "t2 = snowmobile.Table(sn=sn, df=df, table='sample_table', as_is=True)"
   ]
  },
  {
   "cell_type": "markdown",
   "metadata": {},
   "source": [
    "```{div} sn-pre-code\n",
    "Which can be verified in the same manner as was done after `t1.load()`:\n",
    "```"
   ]
  },
  {
   "cell_type": "code",
   "execution_count": 21,
   "metadata": {
    "tags": [
     "remove-output"
    ]
   },
   "outputs": [
    {
     "name": "stdout",
     "output_type": "stream",
     "text": [
      "Loading into 'gem7318.SAMPLE_TABLE`..\n",
      "(1 of 3)\n",
      "\tcreate stage SAMPLE_TABLE_stage file_format = snowmobile_default_psv;\n",
      "(2 of 3)\n",
      "\tput file://C:/Users/GEM7318/Documents/Github/Snowmobile/docs/sample_table.csv @SAMPLE_TABLE_stage\n",
      "\tauto_compress = true\n",
      "(3 of 3)\n",
      "\tcopy into SAMPLE_TABLE from @SAMPLE_TABLE_stage\n",
      "\ton_error = continue\n",
      "..completed: 3 rows in 2 seconds\n",
      "True\n",
      "6\n"
     ]
    }
   ],
   "source": [
    "print(t2.loaded)                           #> True\n",
    "print(sn.sql.cnt_records('sample_table'))  #> 6"
   ]
  },
  {
   "cell_type": "markdown",
   "metadata": {
    "tags": [
     "remove-cell"
    ]
   },
   "source": [
    "```{div} sn-pre-code\n",
    "Again with the default configuration and since *sample_table* was pre-existing when `t2` was created, it also made sure:\n",
    "```"
   ]
  },
  {
   "cell_type": "code",
   "execution_count": 22,
   "metadata": {
    "tags": [
     "remove-output",
     "remove-cell"
    ]
   },
   "outputs": [
    {
     "name": "stdout",
     "output_type": "stream",
     "text": [
      "True\n"
     ]
    }
   ],
   "source": [
    "print(t2.cols_match)  #> True"
   ]
  },
  {
   "cell_type": "markdown",
   "metadata": {},
   "source": [
    "```{div} sn-indent-h-cell\n",
    "<hr class=\"sn-green\" style=\"margin-top: 1.4rem; margin-bottom: 0.5rem;\">\n",
    "```\n",
    "\n",
    "```{div} sn-pre-code\n",
    "Let's create one more {class}`~pandas.DataFrame` but with different dimensions than `df`:\n",
    "```"
   ]
  },
  {
   "cell_type": "code",
   "execution_count": 27,
   "metadata": {},
   "outputs": [
    {
     "data": {
      "text/html": [
       "<div>\n",
       "<style scoped>\n",
       "    .dataframe tbody tr th:only-of-type {\n",
       "        vertical-align: middle;\n",
       "    }\n",
       "\n",
       "    .dataframe tbody tr th {\n",
       "        vertical-align: top;\n",
       "    }\n",
       "\n",
       "    .dataframe thead th {\n",
       "        text-align: right;\n",
       "    }\n",
       "</style>\n",
       "<table border=\"1\" class=\"dataframe\">\n",
       "  <thead>\n",
       "    <tr style=\"text-align: right;\">\n",
       "      <th></th>\n",
       "      <th>COL1</th>\n",
       "      <th>COL2</th>\n",
       "      <th>COL1</th>\n",
       "      <th>COL2</th>\n",
       "    </tr>\n",
       "  </thead>\n",
       "  <tbody>\n",
       "    <tr>\n",
       "      <th>0</th>\n",
       "      <td>1.0</td>\n",
       "      <td>0.0</td>\n",
       "      <td>1.0</td>\n",
       "      <td>0.0</td>\n",
       "    </tr>\n",
       "    <tr>\n",
       "      <th>1</th>\n",
       "      <td>1.0</td>\n",
       "      <td>0.0</td>\n",
       "      <td>1.0</td>\n",
       "      <td>0.0</td>\n",
       "    </tr>\n",
       "  </tbody>\n",
       "</table>\n",
       "</div>"
      ],
      "text/plain": [
       "   COL1  COL2  COL1  COL2\n",
       "0   1.0   0.0   1.0   0.0\n",
       "1   1.0   0.0   1.0   0.0"
      ]
     },
     "execution_count": 27,
     "metadata": {},
     "output_type": "execute_result"
    }
   ],
   "source": [
    "df2 = pd.concat([df, df], axis=1)\n",
    "df2.head(2)"
   ]
  },
  {
   "cell_type": "markdown",
   "metadata": {},
   "source": [
    "```{div} sn-pre-code\n",
    "And with it create another {class}`~snowmobile.Table`, `t3`, in the same way we did `t1`:\n",
    "```"
   ]
  },
  {
   "cell_type": "code",
   "execution_count": 24,
   "metadata": {},
   "outputs": [],
   "source": [
    "t3 = snowmobile.Table(sn=sn, df=df2, table='sample_table')"
   ]
  },
  {
   "cell_type": "markdown",
   "metadata": {},
   "source": [
    "```{div} sn-pre-code\n",
    "Here's what `t3` knows about `df` and *sample_table*:\n",
    "```"
   ]
  },
  {
   "cell_type": "code",
   "execution_count": 25,
   "metadata": {
    "tags": [
     "remove-output"
    ]
   },
   "outputs": [],
   "source": [
    "print(t3.exists)      #> True  --> 'sample_table' exists in the schema associated with `sn`\n",
    "print(t3.cols_match)  #> False  -> `df2` and 'sample_table' don't share the same dimensions"
   ]
  },
  {
   "cell_type": "markdown",
   "metadata": {},
   "source": [
    "```{div} sn-pre-code\n",
    "{class}`~snowmobile.Table` also checked the columns of `df2` and deduped them by appending a suffix to the duplicate set:\n",
    "```"
   ]
  },
  {
   "cell_type": "code",
   "execution_count": 28,
   "metadata": {},
   "outputs": [
    {
     "data": {
      "text/html": [
       "<div>\n",
       "<style scoped>\n",
       "    .dataframe tbody tr th:only-of-type {\n",
       "        vertical-align: middle;\n",
       "    }\n",
       "\n",
       "    .dataframe tbody tr th {\n",
       "        vertical-align: top;\n",
       "    }\n",
       "\n",
       "    .dataframe thead th {\n",
       "        text-align: right;\n",
       "    }\n",
       "</style>\n",
       "<table border=\"1\" class=\"dataframe\">\n",
       "  <thead>\n",
       "    <tr style=\"text-align: right;\">\n",
       "      <th></th>\n",
       "      <th>COL1</th>\n",
       "      <th>COL2</th>\n",
       "      <th>COL1_1</th>\n",
       "      <th>COL2_1</th>\n",
       "    </tr>\n",
       "  </thead>\n",
       "  <tbody>\n",
       "    <tr>\n",
       "      <th>0</th>\n",
       "      <td>1.0</td>\n",
       "      <td>0.0</td>\n",
       "      <td>1.0</td>\n",
       "      <td>0.0</td>\n",
       "    </tr>\n",
       "    <tr>\n",
       "      <th>1</th>\n",
       "      <td>1.0</td>\n",
       "      <td>0.0</td>\n",
       "      <td>1.0</td>\n",
       "      <td>0.0</td>\n",
       "    </tr>\n",
       "  </tbody>\n",
       "</table>\n",
       "</div>"
      ],
      "text/plain": [
       "   COL1  COL2  COL1_1  COL2_1\n",
       "0   1.0   0.0     1.0     0.0\n",
       "1   1.0   0.0     1.0     0.0"
      ]
     },
     "execution_count": 28,
     "metadata": {},
     "output_type": "execute_result"
    }
   ],
   "source": [
    "t3.df.head(2)"
   ]
  },
  {
   "cell_type": "markdown",
   "metadata": {},
   "source": [
    "```{div} sn-pre-code\n",
    "If we try to load it the same way we did the others, we'll get an error with the default [snowmobile.toml](./usage/snowmobile_toml):\n",
    "```"
   ]
  },
  {
   "cell_type": "code",
   "execution_count": 33,
   "metadata": {
    "tags": [
     "remove-output"
    ]
   },
   "outputs": [
    {
     "ename": "ColumnMismatchError",
     "evalue": "`SAMPLE_TABLE` columns do not equal those in the local DataFrame and if_exists='append' was specified.\nEither provide if_exists='replace' to overwrite the existing table or see `table.col_diff` to inspect the mismatched columns.",
     "output_type": "error",
     "traceback": [
      "\u001b[1;31m---------------------------------------------------------------------------\u001b[0m",
      "\u001b[1;31mColumnMismatchError\u001b[0m                       Traceback (most recent call last)",
      "\u001b[1;32m<ipython-input-33-f97d82601f16>\u001b[0m in \u001b[0;36m<module>\u001b[1;34m\u001b[0m\n\u001b[0;32m      2\u001b[0m \u001b[1;33m\u001b[0m\u001b[0m\n\u001b[0;32m      3\u001b[0m \u001b[1;32mtry\u001b[0m\u001b[1;33m:\u001b[0m\u001b[1;33m\u001b[0m\u001b[0m\n\u001b[1;32m----> 4\u001b[1;33m     \u001b[0mt3\u001b[0m\u001b[1;33m.\u001b[0m\u001b[0mload\u001b[0m\u001b[1;33m(\u001b[0m\u001b[1;33m)\u001b[0m\u001b[1;33m\u001b[0m\u001b[0m\n\u001b[0m\u001b[0;32m      5\u001b[0m \u001b[1;32mexcept\u001b[0m \u001b[0mExistingTableError\u001b[0m \u001b[1;32mas\u001b[0m \u001b[0me\u001b[0m\u001b[1;33m:\u001b[0m\u001b[1;33m\u001b[0m\u001b[0m\n\u001b[0;32m      6\u001b[0m \u001b[1;33m\u001b[0m\u001b[0m\n",
      "\u001b[1;32m~\\Documents\\Github\\Snowmobile\\snowmobile\\core\\table.py\u001b[0m in \u001b[0;36mload\u001b[1;34m(self, if_exists, from_script, verbose, **kwargs)\u001b[0m\n\u001b[0;32m    332\u001b[0m             \u001b[1;32mif\u001b[0m \u001b[0mself\u001b[0m\u001b[1;33m.\u001b[0m\u001b[0me\u001b[0m\u001b[1;33m.\u001b[0m\u001b[0mseen\u001b[0m\u001b[1;33m(\u001b[0m\u001b[0mto_raise\u001b[0m\u001b[1;33m=\u001b[0m\u001b[1;32mTrue\u001b[0m\u001b[1;33m)\u001b[0m\u001b[1;33m:\u001b[0m\u001b[1;33m\u001b[0m\u001b[0m\n\u001b[0;32m    333\u001b[0m                 \u001b[1;32mif\u001b[0m \u001b[0mself\u001b[0m\u001b[1;33m.\u001b[0m\u001b[0mon_error\u001b[0m \u001b[1;33m!=\u001b[0m \u001b[1;34m'c'\u001b[0m\u001b[1;33m:\u001b[0m\u001b[1;33m\u001b[0m\u001b[0m\n\u001b[1;32m--> 334\u001b[1;33m                     \u001b[1;32mraise\u001b[0m \u001b[0mself\u001b[0m\u001b[1;33m.\u001b[0m\u001b[0me\u001b[0m\u001b[1;33m.\u001b[0m\u001b[0mget\u001b[0m\u001b[1;33m(\u001b[0m\u001b[0mto_raise\u001b[0m\u001b[1;33m=\u001b[0m\u001b[1;32mTrue\u001b[0m\u001b[1;33m,\u001b[0m \u001b[0mlast\u001b[0m\u001b[1;33m=\u001b[0m\u001b[1;32mTrue\u001b[0m\u001b[1;33m)\u001b[0m\u001b[1;33m\u001b[0m\u001b[0m\n\u001b[0m\u001b[0;32m    335\u001b[0m                 \u001b[1;32melse\u001b[0m\u001b[1;33m:\u001b[0m\u001b[1;33m\u001b[0m\u001b[0m\n\u001b[0;32m    336\u001b[0m                     \u001b[1;32mreturn\u001b[0m \u001b[0mself\u001b[0m\u001b[1;33m\u001b[0m\u001b[0m\n",
      "\u001b[1;31mColumnMismatchError\u001b[0m: `SAMPLE_TABLE` columns do not equal those in the local DataFrame and if_exists='append' was specified.\nEither provide if_exists='replace' to overwrite the existing table or see `table.col_diff` to inspect the mismatched columns."
     ]
    }
   ],
   "source": [
    "from snowmobile.core.errors import ColumnMismatchError\n",
    "\n",
    "try:\n",
    "    t3.load()\n",
    "except ExistingTableError as e:\n",
    "    print(e)\n",
    "\"\"\"\n",
    "ColumnMismatchError: `SAMPLE_TABLE` columns do not equal those in the local DataFrame \n",
    "and if_exists='append' was specified.\n",
    "Either provide if_exists='replace' to overwrite the existing table or see `table.col_diff`\n",
    "to inspect the mismatched columns.\n",
    "\"\"\""
   ]
  },
  {
   "cell_type": "markdown",
   "metadata": {},
   "source": [
    "```{div} sn-pre-code\n",
    "Explicit arguments always take precedent over [snowmobile.toml](./usage/snowmobile_toml), so *sample_table* can be recreated and `df2` loaded into it with:\n",
    "```"
   ]
  },
  {
   "cell_type": "code",
   "execution_count": 32,
   "metadata": {
    "tags": [
     "remove-output"
    ]
   },
   "outputs": [
    {
     "name": "stdout",
     "output_type": "stream",
     "text": [
      "Loading into 'gem7318.SAMPLE_TABLE`..\n",
      "(1 of 4)\n",
      "\tCREATE OR REPLACE TABLE SAMPLE_TABLE ( ..\n",
      "(2 of 4)\n",
      "\tcreate stage SAMPLE_TABLE_stage file_format = snowmobile_default_psv;\n",
      "(3 of 4)\n",
      "\tput file://C:/Users/GEM7318/Documents/Github/Snowmobile/docs/sample_table.csv @SAMPLE_TABLE_stage\n",
      "\tauto_compress = true\n",
      "(4 of 4)\n",
      "\tcopy into SAMPLE_TABLE from @SAMPLE_TABLE_stage\n",
      "\ton_error = continue\n",
      "..completed: 3 rows in 3 seconds\n",
      "True\n"
     ]
    }
   ],
   "source": [
    "t3.load(if_exists='replace')\n",
    "print(t3.loaded)  #> True"
   ]
  },
  {
   "cell_type": "markdown",
   "metadata": {},
   "source": [
    "<br>\n",
    "\n",
    "### *Executing Queries*\n",
    "\n",
    "`````{admonition} sn: snowmobile.Snowmobile\n",
    ":class: toggle, is_explanation, sn-dedent-v-t-container, sn-dedent-v-b-h-container\n",
    "\n",
    "```{div} sn-dedent-t-h, hanging\n",
    "  {xref}`snowmobile` provides three convenience methods for executing raw SQL directly off `sn`:\n",
    "```\n",
    "\n",
    "{meth}`~snowmobile.Snowmobile.query()` implements {meth}`pandas.read_sql()` for querying results into a {class}`~pandas.DataFrame`\\\n",
    "{link-badge}`./autoapi/snowmobile/core/connection/index.html#snowmobile.core.connector.Snowmobile.query,cls=badge-secondary badge-pill text-white,API Docs: Snowmobile.query(),tooltip=Documentation parsed from module docstring`\n",
    "\n",
    "+++\n",
    "\n",
    "{meth}`~snowmobile.Snowmobile.ex()` implements {meth}`SnowflakeConnection.cursor().execute()` for executing commands within a {xref}`SnowflakeCursor`\\\n",
    "{link-badge}`./autoapi/snowmobile/core/connection/index.html#snowmobile.core.connector.Snowmobile.ex,cls=badge-secondary badge-pill text-white,API Docs: Snowmobile.ex()   ,tooltip=Documentation parsed from module docstring`\n",
    "\n",
    "+++\n",
    "\n",
    "{meth}`~snowmobile.Snowmobile.exd()` implements {meth}`SnowflakeConnection.cursor(DictCursor).execute()` for executing commands within a {xref}`DictCursor`\\\n",
    "{link-badge}`./autoapi/snowmobile/core/connection/index.html#snowmobile.core.connector.Snowmobile.exd,cls=badge-secondary badge-pill text-white,API Docs: Snowmobile.exd(),tooltip=Documentation parsed from module docstring`\n",
    "\n",
    "+++\n",
    "\n",
    "<hr class=\"sn-green\">\n",
    "\n",
    "{link-badge}`./usage/snowmobile.html#executing-raw-sql,cls=badge-primary badge text-white,Usage: Executing Raw SQL,tooltip=Usage documentation for Executing Raw SQL`\n",
    "{link-badge}`./autoapi/snowmobile/core/connection/index.html,cls=badge-secondary badge-pill text-white,API Docs: snowmobile.core.connection,tooltip=Documentation parsed from docstrings`\n",
    "\n",
    "`````"
   ]
  },
  {
   "cell_type": "code",
   "execution_count": 5,
   "metadata": {},
   "outputs": [
    {
     "data": {
      "text/html": [
       "<div>\n",
       "<style scoped>\n",
       "    .dataframe tbody tr th:only-of-type {\n",
       "        vertical-align: middle;\n",
       "    }\n",
       "\n",
       "    .dataframe tbody tr th {\n",
       "        vertical-align: top;\n",
       "    }\n",
       "\n",
       "    .dataframe thead th {\n",
       "        text-align: right;\n",
       "    }\n",
       "</style>\n",
       "<table border=\"1\" class=\"dataframe\">\n",
       "  <thead>\n",
       "    <tr style=\"text-align: right;\">\n",
       "      <th></th>\n",
       "      <th>col1</th>\n",
       "      <th>col2</th>\n",
       "    </tr>\n",
       "  </thead>\n",
       "  <tbody>\n",
       "    <tr>\n",
       "      <th>0</th>\n",
       "      <td>1.0</td>\n",
       "      <td>0.0</td>\n",
       "    </tr>\n",
       "    <tr>\n",
       "      <th>1</th>\n",
       "      <td>1.0</td>\n",
       "      <td>0.0</td>\n",
       "    </tr>\n",
       "    <tr>\n",
       "      <th>2</th>\n",
       "      <td>1.0</td>\n",
       "      <td>0.0</td>\n",
       "    </tr>\n",
       "  </tbody>\n",
       "</table>\n",
       "</div>"
      ],
      "text/plain": [
       "   col1  col2\n",
       "0   1.0   0.0\n",
       "1   1.0   0.0\n",
       "2   1.0   0.0"
      ]
     },
     "execution_count": 5,
     "metadata": {},
     "output_type": "execute_result"
    }
   ],
   "source": [
    "# Into a DataFrame\n",
    "sn.query('select * from sample_table')"
   ]
  },
  {
   "cell_type": "code",
   "execution_count": 16,
   "metadata": {},
   "outputs": [
    {
     "data": {
      "text/plain": [
       "[(1.0, 0.0), (1.0, 0.0), (1.0, 0.0)]"
      ]
     },
     "execution_count": 16,
     "metadata": {},
     "output_type": "execute_result"
    }
   ],
   "source": [
    "# Into a SnowflakeCursor\n",
    "sn.ex('select * from sample_table').fetchall()"
   ]
  },
  {
   "cell_type": "code",
   "execution_count": 20,
   "metadata": {},
   "outputs": [
    {
     "data": {
      "text/plain": [
       "[{'COL1': 1.0, 'COL2': 0.0},\n",
       " {'COL1': 1.0, 'COL2': 0.0},\n",
       " {'COL1': 1.0, 'COL2': 0.0}]"
      ]
     },
     "execution_count": 20,
     "metadata": {},
     "output_type": "execute_result"
    }
   ],
   "source": [
    "# Into a DictCursor\n",
    "sn.exd('select * from sample_table').fetchall()"
   ]
  },
  {
   "cell_type": "markdown",
   "metadata": {},
   "source": [
    "### *Working with SQL Scripts*\n",
    "\n",
    "`````{admonition} snowmobile.Script\n",
    ":class: toggle, is_explanation\n",
    "\n",
    "```{div} sn-dedent-v-t-h, sn-dedent-v-b-h\n",
    "[**snowmobile.Script**](./usage/script.ipynb) imports a sql file and parses its contents according to its structure.\n",
    "```\n",
    "\n",
    "At a minimum, the file is split into individual statements, each of which is checked for tags;\n",
    "if none are found, [Script](./usage/script.ipynb) will generate a generic name for the statement based on\n",
    "the literal first SQL keyword it contains and its index position (e.g. `select data~statement #3` below).\n",
    "\n",
    "+++\n",
    "\n",
    "```{div} sn-dedent-v-b-h\n",
    "By providing {class}`script` (below) the same instance of {class}`sn` with which {class}`t1` (above)\n",
    "was instantiated, **the {xref}`SnowflakeConnection` and [Configuration](./usage/snowmobile_toml) is\n",
    "shared amongst:**\n",
    "```\n",
    "\n",
    "- {class}`sn:` {class}`~snowmobile.Snowmobile`\n",
    "- {class}`t1:` {class}`~snowmobile.Table`\n",
    "- {class}`script:` {class}`~snowmobile.Script`\n",
    "\n",
    "\n",
    "<hr class=\"sn-green\">\n",
    "\n",
    "{link-badge}`./usage/script.html,cls=badge-primary badge text-white,Usage: snowmobile.Script,tooltip=Intro & usage documentation for snowmobile.Script`\n",
    "{link-badge}`./autoapi/snowmobile/core/script/index.html,cls=badge-secondary badge-pill text-white,API Docs: snowmobile.core.script,tooltip=Documentation parsed from docstrings`\n",
    "\n",
    "`````"
   ]
  },
  {
   "cell_type": "markdown",
   "metadata": {},
   "source": [
    "````{admonition} Setup\n",
    ":class: toggle, is-setup, toggle-shown, sn-dedent-v-t-h-container, sn-clear-title\n",
    "\n",
    "```{div} sn-dedent-v-t-h, hanging\n",
    "The `path` used below is a full path ({class}`str` or {class}`~pathlib.Path`) to **sample_table.sql**, the contents of which are:\n",
    "```\n",
    "\n",
    "```{literalinclude}  ./snippets/getting_started/sample_table.sql\n",
    ":language: sql\n",
    ":lines: 1-17\n",
    "```\n",
    "\n",
    "<hr class=\"sn-spacer-thin\">\n",
    "\n",
    "````"
   ]
  },
  {
   "cell_type": "code",
   "execution_count": 6,
   "metadata": {
    "tags": [
     "remove-cell"
    ]
   },
   "outputs": [],
   "source": [
    "# Setup\n",
    "from pathlib import Path\n",
    "\n",
    "path = Path.cwd() / 'snippets' / 'snowmobile' / 'sample_table.sql'"
   ]
  },
  {
   "cell_type": "markdown",
   "metadata": {
    "tags": [
     "remove-cell"
    ]
   },
   "source": [
    "<p style=\"margin-left: 0.9rem; margin-top: 1em; font-size: 0.75rem; font-weight: 800;\">Setup</p>"
   ]
  },
  {
   "cell_type": "markdown",
   "metadata": {},
   "source": [
    "```{div} sn-indent-cell, sn-pre-cell\n",
    "Setup\n",
    "```"
   ]
  },
  {
   "cell_type": "code",
   "execution_count": 12,
   "metadata": {},
   "outputs": [
    {
     "name": "stdout",
     "output_type": "stream",
     "text": [
      "snowmobile.Script('sample_table.sql')\n"
     ]
    }
   ],
   "source": [
    "script = snowmobile.Script(sn=sn, path=path)\n",
    "print(script)"
   ]
  },
  {
   "cell_type": "code",
   "execution_count": 13,
   "metadata": {},
   "outputs": [
    {
     "name": "stdout",
     "output_type": "stream",
     "text": [
      "================\n",
      "sample_table.sql\n",
      "================\n",
      "1: Statement('create transient table~any_random_table1')\n",
      "2: Statement('create table~sample_table')\n",
      "3: Statement('select data~statement #3')\n",
      "4: Statement('select data~sample_table')\n"
     ]
    }
   ],
   "source": [
    "# High-level view of parsed contents\n",
    "script.dtl()"
   ]
  },
  {
   "cell_type": "markdown",
   "metadata": {},
   "source": [
    "<p class=\"sn-indent-cell\">Accessing Statements</p>"
   ]
  },
  {
   "cell_type": "code",
   "execution_count": 14,
   "metadata": {},
   "outputs": [
    {
     "data": {
      "text/plain": [
       "Statement('select data~sample_table')"
      ]
     },
     "execution_count": 14,
     "metadata": {},
     "output_type": "execute_result"
    }
   ],
   "source": [
    "# Individual statements can be accessed by index position\n",
    "script(4)"
   ]
  },
  {
   "cell_type": "code",
   "execution_count": 15,
   "metadata": {},
   "outputs": [
    {
     "data": {
      "text/plain": [
       "Statement('select data~sample_table')"
      ]
     },
     "execution_count": 15,
     "metadata": {},
     "output_type": "execute_result"
    }
   ],
   "source": [
    "# ..including negative indexing\n",
    "script(-1)"
   ]
  },
  {
   "cell_type": "code",
   "execution_count": 16,
   "metadata": {},
   "outputs": [
    {
     "data": {
      "text/plain": [
       "Statement('select data~sample_table')"
      ]
     },
     "execution_count": 16,
     "metadata": {},
     "output_type": "execute_result"
    }
   ],
   "source": [
    "# ..or by their tag as a string\n",
    "script('select data~sample_table')"
   ]
  },
  {
   "cell_type": "markdown",
   "metadata": {},
   "source": [
    "<p class=\"sn-indent-cell\">Executing Statements</p>"
   ]
  },
  {
   "cell_type": "code",
   "execution_count": 41,
   "metadata": {},
   "outputs": [
    {
     "data": {
      "text/markdown": [
       "```sql\n",
       "select * from sample_table;\n",
       "```"
      ],
      "text/plain": [
       "<IPython.core.display.Markdown object>"
      ]
     },
     "metadata": {},
     "output_type": "display_data"
    },
    {
     "data": {
      "text/html": [
       "<div>\n",
       "<style scoped>\n",
       "    .dataframe tbody tr th:only-of-type {\n",
       "        vertical-align: middle;\n",
       "    }\n",
       "\n",
       "    .dataframe tbody tr th {\n",
       "        vertical-align: top;\n",
       "    }\n",
       "\n",
       "    .dataframe thead th {\n",
       "        text-align: right;\n",
       "    }\n",
       "</style>\n",
       "<table border=\"1\" class=\"dataframe\">\n",
       "  <thead>\n",
       "    <tr style=\"text-align: right;\">\n",
       "      <th></th>\n",
       "      <th>col1</th>\n",
       "      <th>col2</th>\n",
       "    </tr>\n",
       "  </thead>\n",
       "  <tbody>\n",
       "    <tr>\n",
       "      <th>0</th>\n",
       "      <td>1.0</td>\n",
       "      <td>0.0</td>\n",
       "    </tr>\n",
       "  </tbody>\n",
       "</table>\n",
       "</div>"
      ],
      "text/plain": [
       "   col1  col2\n",
       "0   1.0   0.0"
      ]
     },
     "execution_count": 41,
     "metadata": {},
     "output_type": "execute_result"
    }
   ],
   "source": [
    "# They can be run directly off the Script\n",
    "script.run(4, render=True)\n",
    "script(4).results.head(1)"
   ]
  },
  {
   "cell_type": "code",
   "execution_count": 27,
   "metadata": {},
   "outputs": [
    {
     "data": {
      "text/markdown": [
       "```sql\n",
       "select * from sample_table;\n",
       "```"
      ],
      "text/plain": [
       "<IPython.core.display.Markdown object>"
      ]
     },
     "metadata": {},
     "output_type": "display_data"
    },
    {
     "data": {
      "text/html": [
       "<div>\n",
       "<style scoped>\n",
       "    .dataframe tbody tr th:only-of-type {\n",
       "        vertical-align: middle;\n",
       "    }\n",
       "\n",
       "    .dataframe tbody tr th {\n",
       "        vertical-align: top;\n",
       "    }\n",
       "\n",
       "    .dataframe thead th {\n",
       "        text-align: right;\n",
       "    }\n",
       "</style>\n",
       "<table border=\"1\" class=\"dataframe\">\n",
       "  <thead>\n",
       "    <tr style=\"text-align: right;\">\n",
       "      <th></th>\n",
       "      <th>col1</th>\n",
       "      <th>col2</th>\n",
       "    </tr>\n",
       "  </thead>\n",
       "  <tbody>\n",
       "    <tr>\n",
       "      <th>0</th>\n",
       "      <td>1.0</td>\n",
       "      <td>0.0</td>\n",
       "    </tr>\n",
       "  </tbody>\n",
       "</table>\n",
       "</div>"
      ],
      "text/plain": [
       "   col1  col2\n",
       "0   1.0   0.0"
      ]
     },
     "execution_count": 27,
     "metadata": {},
     "output_type": "execute_result"
    }
   ],
   "source": [
    "# ..or stored and manipulated on their own\n",
    "s4 = script(4).run(render=True)\n",
    "s4.results.head(1)"
   ]
  },
  {
   "cell_type": "markdown",
   "metadata": {},
   "source": [
    "&nbsp;&nbsp;See [Advanced Examples](./usage/advanced.md) for more in-depth applications of {class}`~snowmobile.Script`."
   ]
  },
  {
   "cell_type": "code",
   "execution_count": 40,
   "metadata": {
    "tags": [
     "remove-cell"
    ]
   },
   "outputs": [
    {
     "name": "stdout",
     "output_type": "stream",
     "text": [
      "================\n",
      "sample_table.sql\n",
      "================\n",
      "1: Statement('create transient table~any_random_table1')\n",
      "\n",
      "================\n",
      "sample_table.sql\n",
      "================\n",
      "1: Statement('create transient table~any_random_table1')\n",
      "2: Statement('create table~sample_table')\n",
      "3: Statement('select data~statement #3')\n",
      "4: Statement('select data~sample_table')\n"
     ]
    }
   ],
   "source": [
    "with script.filter(incl_kw=['create'], excl_nm=['create table']) as s:\n",
    "    s.dtl()\n",
    "\n",
    "print('')\n",
    "\n",
    "script.dtl()"
   ]
  },
  {
   "cell_type": "code",
   "execution_count": 53,
   "metadata": {
    "tags": [
     "remove-cell"
    ]
   },
   "outputs": [
    {
     "data": {
      "text/markdown": [
       "```sql\n",
       "create or replace table sample_table (\n",
       "\tcol1 int,\n",
       "\tcol2 int\n",
       ");\n",
       "```"
      ],
      "text/plain": [
       "<IPython.core.display.Markdown object>"
      ]
     },
     "metadata": {},
     "output_type": "display_data"
    },
    {
     "data": {
      "text/plain": [
       "Statement('create table~sample_table')"
      ]
     },
     "execution_count": 53,
     "metadata": {},
     "output_type": "execute_result"
    }
   ],
   "source": [
    "script(2).run(render=True)"
   ]
  },
  {
   "cell_type": "code",
   "execution_count": 34,
   "metadata": {
    "tags": [
     "remove-cell"
    ]
   },
   "outputs": [
    {
     "name": "stdout",
     "output_type": "stream",
     "text": [
      "create or replace table sample_table (\n",
      "\tcol1 int,\n",
      "\tcol2 int\n",
      ")\n"
     ]
    }
   ],
   "source": [
    "print(script.s(2).sql)"
   ]
  },
  {
   "cell_type": "code",
   "execution_count": 35,
   "metadata": {
    "tags": [
     "remove-cell"
    ]
   },
   "outputs": [
    {
     "name": "stdout",
     "output_type": "stream",
     "text": [
      "create or replace table sample_table (\n",
      "\tcol1 int,\n",
      "\tcol2 int\n",
      ")\n"
     ]
    }
   ],
   "source": [
    "print(script.s('create table~sample_table').sql)"
   ]
  },
  {
   "cell_type": "code",
   "execution_count": 23,
   "metadata": {
    "tags": [
     "remove-cell"
    ]
   },
   "outputs": [
    {
     "name": "stdout",
     "output_type": "stream",
     "text": [
      "================\n",
      "sample_table.sql\n",
      "================\n",
      "1: Statement('create table~sample_table')\n"
     ]
    }
   ],
   "source": [
    "with script.filter(incl_nm=['.*sample_table']) as s:\n",
    "    s.dtl()"
   ]
  },
  {
   "cell_type": "markdown",
   "metadata": {},
   "source": [
    "<br>"
   ]
  },
  {
   "cell_type": "markdown",
   "metadata": {},
   "source": [
    "### *Information API*\n",
    "\n",
    "`````{admonition} snowmobile.SQL\n",
    ":class: toggle, is_explanation\n",
    "\n",
    "```{div} sn-dedent-v-t\n",
    "{class}`snowmobile.SQL` generates and executes raw SQL from inputs;\n",
    "it comes free as the {attr}`~snowmobile.Snowmobile.sql` attribute of\n",
    "{class}`~snowmobile.Snowmobile`, and its purpose is to provide a simple\n",
    "Python API to query metadata and execute administrative commands\n",
    "against {xref}`snowflake`.\n",
    "```\n",
    "\n",
    "<hr class=\"sn-blue\">\n",
    "\n",
    "{link-badge}`./usage/sql.html,cls=badge-primary badge text-white,Usage Docs: snowmobile.SQL,tooltip=Intro & usage documentation for snowmobile.SQL`\n",
    "{link-badge}`./autoapi/snowmobile/core/sql/index.html,cls=badge-secondary badge-pill text-white,API Docs: snowmobile.core.sql,tooltip=Documentation parsed from docstrings`\n",
    "\n",
    "`````"
   ]
  },
  {
   "cell_type": "markdown",
   "metadata": {},
   "source": [
    "<p class=\"sn-indent-cell\"></p>"
   ]
  },
  {
   "cell_type": "code",
   "execution_count": 5,
   "metadata": {},
   "outputs": [
    {
     "data": {
      "text/plain": [
       "True"
      ]
     },
     "execution_count": 5,
     "metadata": {},
     "output_type": "execute_result"
    }
   ],
   "source": [
    "# Check existence of tables/views\n",
    "sn.sql.exists('sample_table')"
   ]
  },
  {
   "cell_type": "code",
   "execution_count": 2,
   "metadata": {},
   "outputs": [
    {
     "data": {
      "text/html": [
       "<div>\n",
       "<style scoped>\n",
       "    .dataframe tbody tr th:only-of-type {\n",
       "        vertical-align: middle;\n",
       "    }\n",
       "\n",
       "    .dataframe tbody tr th {\n",
       "        vertical-align: top;\n",
       "    }\n",
       "\n",
       "    .dataframe thead th {\n",
       "        text-align: right;\n",
       "    }\n",
       "</style>\n",
       "<table border=\"1\" class=\"dataframe\">\n",
       "  <thead>\n",
       "    <tr style=\"text-align: right;\">\n",
       "      <th></th>\n",
       "      <th>col1</th>\n",
       "      <th>col2</th>\n",
       "    </tr>\n",
       "  </thead>\n",
       "  <tbody>\n",
       "    <tr>\n",
       "      <th>0</th>\n",
       "      <td>1.0</td>\n",
       "      <td>0.0</td>\n",
       "    </tr>\n",
       "    <tr>\n",
       "      <th>1</th>\n",
       "      <td>1.0</td>\n",
       "      <td>0.0</td>\n",
       "    </tr>\n",
       "    <tr>\n",
       "      <th>2</th>\n",
       "      <td>1.0</td>\n",
       "      <td>0.0</td>\n",
       "    </tr>\n",
       "  </tbody>\n",
       "</table>\n",
       "</div>"
      ],
      "text/plain": [
       "   col1  col2\n",
       "0   1.0   0.0\n",
       "1   1.0   0.0\n",
       "2   1.0   0.0"
      ]
     },
     "execution_count": 2,
     "metadata": {},
     "output_type": "execute_result"
    }
   ],
   "source": [
    "# Sample 'n' records from a table\n",
    "sn.sql.table_sample('sample_table', n=-1)"
   ]
  },
  {
   "cell_type": "code",
   "execution_count": 3,
   "metadata": {
    "tags": [
     "remove-output"
    ]
   },
   "outputs": [
    {
     "data": {
      "text/html": [
       "<div>\n",
       "<style scoped>\n",
       "    .dataframe tbody tr th:only-of-type {\n",
       "        vertical-align: middle;\n",
       "    }\n",
       "\n",
       "    .dataframe tbody tr th {\n",
       "        vertical-align: top;\n",
       "    }\n",
       "\n",
       "    .dataframe thead th {\n",
       "        text-align: right;\n",
       "    }\n",
       "</style>\n",
       "<table border=\"1\" class=\"dataframe\">\n",
       "  <thead>\n",
       "    <tr style=\"text-align: right;\">\n",
       "      <th></th>\n",
       "      <th>status</th>\n",
       "    </tr>\n",
       "  </thead>\n",
       "  <tbody>\n",
       "    <tr>\n",
       "      <th>0</th>\n",
       "      <td>Table SAMPLE_TABLE2 successfully created.</td>\n",
       "    </tr>\n",
       "  </tbody>\n",
       "</table>\n",
       "</div>"
      ],
      "text/plain": [
       "                                      status\n",
       "0  Table SAMPLE_TABLE2 successfully created."
      ]
     },
     "execution_count": 3,
     "metadata": {},
     "output_type": "execute_result"
    }
   ],
   "source": [
    "# Submit basic administrative commands\n",
    "sn.sql.clone(nm='sample_table', to='sample_table2')"
   ]
  },
  {
   "cell_type": "code",
   "execution_count": 4,
   "metadata": {},
   "outputs": [
    {
     "data": {
      "text/plain": [
       "3"
      ]
     },
     "execution_count": 4,
     "metadata": {},
     "output_type": "execute_result"
    }
   ],
   "source": [
    "# Check depth\n",
    "sn.sql.cnt_records('sample_table2')"
   ]
  },
  {
   "cell_type": "code",
   "execution_count": 5,
   "metadata": {},
   "outputs": [
    {
     "data": {
      "text/plain": [
       "['COL1', 'COL2']"
      ]
     },
     "execution_count": 5,
     "metadata": {},
     "output_type": "execute_result"
    }
   ],
   "source": [
    "# Fetch columns\n",
    "sn.sql.columns('sample_table2')"
   ]
  },
  {
   "cell_type": "code",
   "execution_count": 53,
   "metadata": {},
   "outputs": [
    {
     "name": "stdout",
     "output_type": "stream",
     "text": [
      "create or replace TABLE SAMPLE_TABLE (\n",
      "\tCOL1 FLOAT,\n",
      "\tCOL2 FLOAT\n",
      ");\n"
     ]
    }
   ],
   "source": [
    "# Query DDL\n",
    "print(sn.sql.ddl('sample_table'))"
   ]
  },
  {
   "cell_type": "code",
   "execution_count": 7,
   "metadata": {},
   "outputs": [
    {
     "name": "stdout",
     "output_type": "stream",
     "text": [
      "<class 'str'>\n",
      "drop table if exists GEM7318.SAMPLE_TABLE\n"
     ]
    }
   ],
   "source": [
    "# Provide `run=False` to get the raw sql\n",
    "drop_sql = sn.sql.drop('sample_table', run=False)\n",
    "\n",
    "print(type(drop_sql))\n",
    "print(drop_sql)"
   ]
  },
  {
   "cell_type": "markdown",
   "metadata": {},
   "source": [
    "<p class=\"sn-indent-cell\"></p>"
   ]
  },
  {
   "cell_type": "markdown",
   "metadata": {},
   "source": [
    "<p class=\"sn-indent-cell\">Cleaning up after ourselves can be done with:</p>"
   ]
  },
  {
   "cell_type": "code",
   "execution_count": 8,
   "metadata": {},
   "outputs": [],
   "source": [
    "for t in ['sample_table', 'sample_table2']:\n",
    "    sn.sql.drop(t)"
   ]
  },
  {
   "cell_type": "markdown",
   "metadata": {},
   "source": [
    "<p class=\"sn-indent-cell\"></p>"
   ]
  },
  {
   "cell_type": "markdown",
   "metadata": {
    "tags": [
     "remove-cell"
    ]
   },
   "source": [
    "---"
   ]
  },
  {
   "cell_type": "markdown",
   "metadata": {
    "tags": [
     "remove-cell"
    ]
   },
   "source": [
    "# <u>Meta / Non-Output</u>\n",
    "---\n",
    "\n",
    "All cells below this are either excluded from output via the `remove-cell` cell-tag\n",
    "or contain contents that will not visibly render in the output."
   ]
  },
  {
   "cell_type": "markdown",
   "metadata": {
    "tags": [
     "remove-cell"
    ]
   },
   "source": [
    "# Style\n",
    "---\n",
    "\n",
    "Reduce vertical spacing between h2-h3 headings for *Examples*:\n",
    "```css\n",
    "<style>\n",
    ".md-typeset h2, .md-typeset h3 {\n",
    "    margin-top: -0.5rem;\n",
    "}\n",
    "</style>\n",
    "```"
   ]
  },
  {
   "cell_type": "markdown",
   "metadata": {},
   "source": [
    "<style>\n",
    ".md-typeset h1, .md-typeset h2 {\n",
    "    margin-top: -0.5rem;\n",
    "}\n",
    "    \n",
    ".md-typeset h3 {\n",
    "    margin-top: -0.5rem;\n",
    "    margin-bottom: 0.2rem;\n",
    "    font-size: 140%;\n",
    "}\n",
    "    \n",
    ".md-typeset .admonition.is-setup {\n",
    "    border-left-color: #11838e;\n",
    "    margin: -0.15rem 1.5rem .7rem 0.85rem;\n",
    "    display: block;\n",
    "}\n",
    "</style>"
   ]
  }
 ],
 "metadata": {
  "kernelspec": {
   "display_name": "snowmobile2",
   "language": "python",
   "name": "snowmobile2"
  },
  "language_info": {
   "codemirror_mode": {
    "name": "ipython",
    "version": 3
   },
   "file_extension": ".py",
   "mimetype": "text/x-python",
   "name": "python",
   "nbconvert_exporter": "python",
   "pygments_lexer": "ipython3",
   "version": "3.7.0"
  },
  "toc-showtags": false
 },
 "nbformat": 4,
 "nbformat_minor": 4
}
