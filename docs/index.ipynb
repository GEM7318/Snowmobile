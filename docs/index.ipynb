{
 "cells": [
  {
   "cell_type": "markdown",
   "metadata": {},
   "source": [
    "# snowmobile\n",
    "\n",
    "```{include} /description.md\n",
    "```\n",
    "\n",
    "```{eval-rst}\n",
    "\n",
    ".. toctree::\n",
    "    :maxdepth: 1\n",
    "    :hidden:\n",
    "\n",
    "    ./setup.md\n",
    "\n",
    ".. toctree::\n",
    "    :caption: Usage\n",
    "    :maxdepth: 1\n",
    "    :hidden:\n",
    "\n",
    "    ./usage/snowmobile.md\n",
    "    ./usage/table.md\n",
    "    ./usage/script.md\n",
    "    ./usage/sql.md\n",
    "    ./usage/snowmobile_toml.md\n",
    "\n",
    ".. toctree::\n",
    "    :caption: Additional Resources\n",
    "    :maxdepth: 1\n",
    "    :hidden:\n",
    "\n",
    "    ./modindex.md\n",
    "    ./extensions.md\n",
    "    ./usage/advanced.md\n",
    "    ./snippets.md\n",
    "\n",
    ".. toctree::\n",
    "    :caption: Meta\n",
    "    :maxdepth: 1\n",
    "    :hidden:\n",
    "\n",
    "    ./acknowledgements.md\n",
    "    ./changelog.md\n",
    "    ./authors.md\n",
    "    ./license.md\n",
    "```"
   ]
  },
  {
   "cell_type": "markdown",
   "metadata": {},
   "source": [
    "## Example\n",
    "- *[Connecting](#connecting)*\n",
    "- *[Loading Data](#loading-data)*\n",
    "- *[Executing Queries](#executing-queries)*\n",
    "- *[Working with SQL Scripts](#working-with-sql-scripts)*\n",
    "- *[Information API](#information-api)*"
   ]
  },
  {
   "cell_type": "markdown",
   "metadata": {},
   "source": [
    "<br>\n",
    "\n",
    "### *Connecting*\n",
    "<hr class=\"sn-green-thick sn-indent-h-cell-right-hr\">\n",
    "\n",
    "````{admonition} snowmobile.connect()\n",
    ":class: toggle, note, is_explanation, sn-dedent-v-container, sn-indent-h-cell-right\n",
    "\n",
    "```{div} sn-dedent-v-t, sn-dedent-v-b-h\n",
    "{func}`snowmobile.connect()` is an alias for {class}`snowmobile.Snowmobile()`; its purpose is to:\n",
    "```\n",
    "1.  Locate, instantiate, and store [snowmobile.toml](./usage/snowmobile_toml.md#snowmobiletoml)\n",
    "    as a {class}`~snowmobile.Configuration` object ({class}`sn.cfg`)\n",
    "1.  Establish a connection to {xref}`snowflake` and store the {xref}`SnowflakeConnection` ({class}`sn.con`)\n",
    "1.  Serve as the primary entry point to the {xref}`SnowflakeConnection` and {xref}`snowmobile` APIs\n",
    "+++\n",
    "```{div} sn-dedent-v-t-h\n",
    "  The first time it's invoked, [Snowmobile](./usage/snowmobile.md) will find [snowmobile.toml](./usage/snowmobile_toml) and cache its location;\n",
    "  this step isn't repeated unless the file is moved, the cache is manually cleared, or a new version of {xref}`snowmobile` is installed.\n",
    "```\n",
    "+++\n",
    "**With all arguments omitted, it will authenticate with the default credentials and connection arguments specified in** [**snowmobile.toml**](./usage/snowmobile_toml).\n",
    "\n",
    "<hr class=\"sn-green\">\n",
    "\n",
    "{link-badge}`./usage/snowmobile.html,cls=badge-primary badge text-white,Usage: snowmobile.Snowmobile,tooltip=Intro & usage documentation for snowmobile.Snowmobile`\n",
    "{link-badge}`./autoapi/snowmobile/core/connection/index.html,cls=badge-secondary badge-pill text-white,API Docs: snowmobile.core.connection,tooltip=Documentation parsed from docstrings`\n",
    "````"
   ]
  },
  {
   "cell_type": "markdown",
   "metadata": {},
   "source": [
    "```{div} sn-pre-code, sn-dedent-v-t-h\n",
    "Establishing a connection from configured defaults is done with:\n",
    "```"
   ]
  },
  {
   "cell_type": "code",
   "execution_count": 29,
   "metadata": {
    "tags": [
     "remove-output"
    ]
   },
   "outputs": [
    {
     "name": "stdout",
     "output_type": "stream",
     "text": [
      "Locating credentials..\n",
      "(1 of 2) Finding snowmobile.toml..\n",
      "(2 of 2) Cached path found at ../Snowmobile/snowmobile.toml\n",
      "..connected: snowmobile.Snowmobile(creds='creds1')\n"
     ]
    }
   ],
   "source": [
    "import snowmobile\n",
    "\n",
    "sn = snowmobile.connect()"
   ]
  },
  {
   "cell_type": "markdown",
   "metadata": {},
   "source": [
    "```{div} sn-pre-code, sn-post-code\n",
    "{meth}`~snowmobile.connect()` returns a [](./usage/snowmobile) with the following attributes:\n",
    "```"
   ]
  },
  {
   "cell_type": "code",
   "execution_count": 6,
   "metadata": {
    "tags": [
     "remove-output"
    ]
   },
   "outputs": [
    {
     "name": "stdout",
     "output_type": "stream",
     "text": [
      "snowmobile.Snowmobile(creds='creds1')\n",
      "snowmobile.Configuration('snowmobile.toml')\n",
      "<class 'snowflake.connector.connection.SnowflakeConnection'>\n"
     ]
    }
   ],
   "source": [
    "print(sn)            #> snowmobile.Snowmobile(creds='creds1')\n",
    "print(sn.cfg)        #> snowmobile.Configuration('snowmobile.toml')\n",
    "print(type(sn.con))  #> <class 'snowflake.connector.connection.SnowflakeConnection'>"
   ]
  },
  {
   "cell_type": "markdown",
   "metadata": {},
   "source": [
    "```{div} sn-pre-code, sn-post-code\n",
    "Different sets of connection parameters are accessed by assigned alias:\n",
    "```"
   ]
  },
  {
   "cell_type": "code",
   "execution_count": 36,
   "metadata": {
    "tags": [
     "remove-output"
    ]
   },
   "outputs": [],
   "source": [
    "sn2 = snowmobile.connect(creds='sandbox')\n",
    "\n",
    "print(sn.cfg.connection.current != sn2.cfg.connection.current) #> True"
   ]
  },
  {
   "cell_type": "markdown",
   "metadata": {},
   "source": [
    "<br>\n",
    "\n",
    "````{admonition} Fixtures\n",
    ":class: sn-fixture, toggle, toggle-shown\n",
    "\n",
    "```{div} hanging\n",
    "The examples below make use of the `sn` \\\n",
    "created above and this *sample_table*:\n",
    "```\n",
    "```{div} sn-dedent-v-b-container\n",
    "|   COL1 |   COL2 |\n",
    "|-------:|-------:|\n",
    "|      1 |      0 |\n",
    "|      1 |      0 |\n",
    "|      1 |      0 |\n",
    "```\n",
    "````\n",
    "\n",
    "<hr class=\"sn-spacer\">"
   ]
  },
  {
   "cell_type": "markdown",
   "metadata": {},
   "source": [
    "<br>\n",
    "\n",
    "### *Executing Queries*\n",
    "<hr class=\"sn-green-thick sn-indent-h-cell-right-hr\">\n",
    "\n",
    "`````{admonition} sn: snowmobile.Snowmobile\n",
    ":class: toggle, is_explanation, sn-dedent-v-container, sn-indent-h-cell-right\n",
    "\n",
    "```{div} sn-dedent-t-h, hanging\n",
    "  {xref}`snowmobile` provides three convenience methods for executing raw SQL directly off `sn`:\n",
    "```\n",
    "\n",
    "{meth}`~snowmobile.Snowmobile.query()` implements {meth}`pandas.read_sql()` for querying results into a {class}`~pandas.DataFrame`\\\n",
    "{link-badge}`./autoapi/snowmobile/core/connection/index.html#snowmobile.core.connector.Snowmobile.query,cls=badge-secondary badge-pill text-white,API Docs: Snowmobile.query(),tooltip=Documentation parsed from module docstring`\n",
    "\n",
    "+++\n",
    "\n",
    "{meth}`~snowmobile.Snowmobile.ex()` implements {meth}`SnowflakeConnection.cursor().execute()` for executing commands within a {xref}`SnowflakeCursor`\\\n",
    "{link-badge}`./autoapi/snowmobile/core/connection/index.html#snowmobile.core.connector.Snowmobile.ex,cls=badge-secondary badge-pill text-white,API Docs: Snowmobile.ex()   ,tooltip=Documentation parsed from module docstring`\n",
    "\n",
    "+++\n",
    "\n",
    "{meth}`~snowmobile.Snowmobile.exd()` implements {meth}`SnowflakeConnection.cursor(DictCursor).execute()` for executing commands within a {xref}`DictCursor`\\\n",
    "{link-badge}`./autoapi/snowmobile/core/connection/index.html#snowmobile.core.connector.Snowmobile.exd,cls=badge-secondary badge-pill text-white,API Docs: Snowmobile.exd(),tooltip=Documentation parsed from module docstring`\n",
    "\n",
    "+++\n",
    "\n",
    "<hr class=\"sn-green\">\n",
    "\n",
    "{link-badge}`./usage/snowmobile.html#executing-raw-sql,cls=badge-primary badge text-white,Usage: Executing Raw SQL,tooltip=Usage documentation for Executing Raw SQL`\n",
    "{link-badge}`./autoapi/snowmobile/core/connection/index.html,cls=badge-secondary badge-pill text-white,API Docs: snowmobile.core.connection,tooltip=Documentation parsed from docstrings`\n",
    "\n",
    "`````"
   ]
  },
  {
   "cell_type": "markdown",
   "metadata": {
    "tags": [
     "remove-cell"
    ]
   },
   "source": [
    "`````{admonition} Fixture: **sample_table**\n",
    ":class: sn-fixture, sn-dedent-v-b-container, toggle, toggle-shown\n",
    "\n",
    "```{div} hanging\n",
    "*sample_table* contains:\n",
    "```\n",
    "```{div} sn-dedent-v-b-container\n",
    "|   COL1 |   COL2 |\n",
    "|-------:|-------:|\n",
    "|      1 |      0 |\n",
    "|      1 |      0 |\n",
    "|      1 |      0 |\n",
    "```\n",
    "\n",
    "`````"
   ]
  },
  {
   "cell_type": "markdown",
   "metadata": {},
   "source": [
    "```{div} sn-pre-code\n",
    "Into a {class}`~pandas.DataFrame`:\n",
    "```"
   ]
  },
  {
   "cell_type": "code",
   "execution_count": 13,
   "metadata": {},
   "outputs": [
    {
     "data": {
      "text/html": [
       "<div>\n",
       "<style scoped>\n",
       "    .dataframe tbody tr th:only-of-type {\n",
       "        vertical-align: middle;\n",
       "    }\n",
       "\n",
       "    .dataframe tbody tr th {\n",
       "        vertical-align: top;\n",
       "    }\n",
       "\n",
       "    .dataframe thead th {\n",
       "        text-align: right;\n",
       "    }\n",
       "</style>\n",
       "<table border=\"1\" class=\"dataframe\">\n",
       "  <thead>\n",
       "    <tr style=\"text-align: right;\">\n",
       "      <th></th>\n",
       "      <th>col1</th>\n",
       "      <th>col2</th>\n",
       "    </tr>\n",
       "  </thead>\n",
       "  <tbody>\n",
       "    <tr>\n",
       "      <th>0</th>\n",
       "      <td>1.0</td>\n",
       "      <td>0.0</td>\n",
       "    </tr>\n",
       "    <tr>\n",
       "      <th>1</th>\n",
       "      <td>1.0</td>\n",
       "      <td>0.0</td>\n",
       "    </tr>\n",
       "    <tr>\n",
       "      <th>2</th>\n",
       "      <td>1.0</td>\n",
       "      <td>0.0</td>\n",
       "    </tr>\n",
       "  </tbody>\n",
       "</table>\n",
       "</div>"
      ],
      "text/plain": [
       "   col1  col2\n",
       "0   1.0   0.0\n",
       "1   1.0   0.0\n",
       "2   1.0   0.0"
      ]
     },
     "execution_count": 13,
     "metadata": {},
     "output_type": "execute_result"
    }
   ],
   "source": [
    "sn.query('select * from sample_table')"
   ]
  },
  {
   "cell_type": "markdown",
   "metadata": {},
   "source": [
    "```{div} sn-pre-code\n",
    "Into a {xref}`SnowflakeCursor`:\n",
    "```"
   ]
  },
  {
   "cell_type": "code",
   "execution_count": 16,
   "metadata": {},
   "outputs": [
    {
     "data": {
      "text/plain": [
       "[(1.0, 0.0), (1.0, 0.0), (1.0, 0.0)]"
      ]
     },
     "execution_count": 16,
     "metadata": {},
     "output_type": "execute_result"
    }
   ],
   "source": [
    "sn.ex('select * from sample_table').fetchall()"
   ]
  },
  {
   "cell_type": "markdown",
   "metadata": {},
   "source": [
    "```{div} sn-pre-code\n",
    "Into a {xref}`DictCursor`:\n",
    "```"
   ]
  },
  {
   "cell_type": "code",
   "execution_count": 20,
   "metadata": {},
   "outputs": [
    {
     "data": {
      "text/plain": [
       "[{'COL1': 1.0, 'COL2': 0.0},\n",
       " {'COL1': 1.0, 'COL2': 0.0},\n",
       " {'COL1': 1.0, 'COL2': 0.0}]"
      ]
     },
     "execution_count": 20,
     "metadata": {},
     "output_type": "execute_result"
    }
   ],
   "source": [
    "sn.exd('select * from sample_table').fetchall()"
   ]
  },
  {
   "cell_type": "markdown",
   "metadata": {},
   "source": [
    "```{div} sn-pre-code\n",
    "Or into a scalar:\n",
    "```"
   ]
  },
  {
   "cell_type": "code",
   "execution_count": 14,
   "metadata": {},
   "outputs": [
    {
     "data": {
      "text/plain": [
       "3"
      ]
     },
     "execution_count": 14,
     "metadata": {},
     "output_type": "execute_result"
    }
   ],
   "source": [
    "sn.query('select count(*) from sample_table', as_scalar=True)"
   ]
  },
  {
   "cell_type": "markdown",
   "metadata": {},
   "source": [
    "<br>\n",
    "\n",
    "### *Information API*\n",
    "<hr class=\"sn-green-thick sn-indent-h-cell-right-hr\">\n",
    "\n",
    "`````{admonition} snowmobile.SQL\n",
    ":class: toggle, is_explanation, sn-dedent-v-container, sn-indent-h-cell-right\n",
    "\n",
    "```{div} sn-dedent-v-t\n",
    "{class}`snowmobile.SQL` generates and executes raw SQL from inputs;\n",
    "it comes free as the {attr}`~snowmobile.Snowmobile.sql` attribute of\n",
    "{class}`~snowmobile.Snowmobile`, and its purpose is to provide a simple\n",
    "Python API to query metadata and execute administrative commands\n",
    "against {xref}`snowflake`.\n",
    "```\n",
    "\n",
    "<hr class=\"sn-blue\">\n",
    "\n",
    "{link-badge}`./usage/sql.html,cls=badge-primary badge text-white,Usage Docs: snowmobile.SQL,tooltip=Intro & usage documentation for snowmobile.SQL`\n",
    "{link-badge}`./autoapi/snowmobile/core/sql/index.html,cls=badge-secondary badge-pill text-white,API Docs: snowmobile.core.sql,tooltip=Documentation parsed from docstrings`\n",
    "\n",
    "`````"
   ]
  },
  {
   "cell_type": "markdown",
   "metadata": {},
   "source": [
    "<p class=\"sn-indent-cell\"></p>"
   ]
  },
  {
   "cell_type": "markdown",
   "metadata": {},
   "source": [
    "```{div} sn-pre-code\n",
    "Check existence of tables/views:\n",
    "```"
   ]
  },
  {
   "cell_type": "code",
   "execution_count": 5,
   "metadata": {
    "tags": [
     "remove-output"
    ]
   },
   "outputs": [
    {
     "data": {
      "text/plain": [
       "True"
      ]
     },
     "execution_count": 5,
     "metadata": {},
     "output_type": "execute_result"
    }
   ],
   "source": [
    "sn.sql.exists('sample_table')  #> True"
   ]
  },
  {
   "cell_type": "markdown",
   "metadata": {},
   "source": [
    "```{div} sn-pre-code, sn-post-code\n",
    "Sample records from a table:\n",
    "```"
   ]
  },
  {
   "cell_type": "code",
   "execution_count": 2,
   "metadata": {},
   "outputs": [
    {
     "data": {
      "text/html": [
       "<div>\n",
       "<style scoped>\n",
       "    .dataframe tbody tr th:only-of-type {\n",
       "        vertical-align: middle;\n",
       "    }\n",
       "\n",
       "    .dataframe tbody tr th {\n",
       "        vertical-align: top;\n",
       "    }\n",
       "\n",
       "    .dataframe thead th {\n",
       "        text-align: right;\n",
       "    }\n",
       "</style>\n",
       "<table border=\"1\" class=\"dataframe\">\n",
       "  <thead>\n",
       "    <tr style=\"text-align: right;\">\n",
       "      <th></th>\n",
       "      <th>col1</th>\n",
       "      <th>col2</th>\n",
       "    </tr>\n",
       "  </thead>\n",
       "  <tbody>\n",
       "    <tr>\n",
       "      <th>0</th>\n",
       "      <td>1.0</td>\n",
       "      <td>0.0</td>\n",
       "    </tr>\n",
       "    <tr>\n",
       "      <th>1</th>\n",
       "      <td>1.0</td>\n",
       "      <td>0.0</td>\n",
       "    </tr>\n",
       "    <tr>\n",
       "      <th>2</th>\n",
       "      <td>1.0</td>\n",
       "      <td>0.0</td>\n",
       "    </tr>\n",
       "  </tbody>\n",
       "</table>\n",
       "</div>"
      ],
      "text/plain": [
       "   col1  col2\n",
       "0   1.0   0.0\n",
       "1   1.0   0.0\n",
       "2   1.0   0.0"
      ]
     },
     "execution_count": 2,
     "metadata": {},
     "output_type": "execute_result"
    }
   ],
   "source": [
    "sn.sql.table_sample('sample_table', n=-1)"
   ]
  },
  {
   "cell_type": "markdown",
   "metadata": {},
   "source": [
    "```{div} sn-pre-code\n",
    "Query depth:\n",
    "```"
   ]
  },
  {
   "cell_type": "code",
   "execution_count": 4,
   "metadata": {
    "tags": [
     "remove-output"
    ]
   },
   "outputs": [
    {
     "data": {
      "text/plain": [
       "3"
      ]
     },
     "execution_count": 4,
     "metadata": {},
     "output_type": "execute_result"
    }
   ],
   "source": [
    "sn.sql.cnt_records('sample_table')  #> 3"
   ]
  },
  {
   "cell_type": "markdown",
   "metadata": {},
   "source": [
    "```{div} sn-pre-code, sn-post-code\n",
    "Submit basic administrative commands:\n",
    "```"
   ]
  },
  {
   "cell_type": "code",
   "execution_count": 3,
   "metadata": {
    "tags": [
     "remove-output"
    ]
   },
   "outputs": [
    {
     "data": {
      "text/html": [
       "<div>\n",
       "<style scoped>\n",
       "    .dataframe tbody tr th:only-of-type {\n",
       "        vertical-align: middle;\n",
       "    }\n",
       "\n",
       "    .dataframe tbody tr th {\n",
       "        vertical-align: top;\n",
       "    }\n",
       "\n",
       "    .dataframe thead th {\n",
       "        text-align: right;\n",
       "    }\n",
       "</style>\n",
       "<table border=\"1\" class=\"dataframe\">\n",
       "  <thead>\n",
       "    <tr style=\"text-align: right;\">\n",
       "      <th></th>\n",
       "      <th>status</th>\n",
       "    </tr>\n",
       "  </thead>\n",
       "  <tbody>\n",
       "    <tr>\n",
       "      <th>0</th>\n",
       "      <td>Table SAMPLE_TABLE2 successfully created.</td>\n",
       "    </tr>\n",
       "  </tbody>\n",
       "</table>\n",
       "</div>"
      ],
      "text/plain": [
       "                                      status\n",
       "0  Table SAMPLE_TABLE2 successfully created."
      ]
     },
     "execution_count": 3,
     "metadata": {},
     "output_type": "execute_result"
    }
   ],
   "source": [
    "sn.sql.clone(nm='sample_table', to='sample_table2')"
   ]
  },
  {
   "cell_type": "markdown",
   "metadata": {},
   "source": [
    "```{div} sn-pre-code, sn-post-code\n",
    "Fetch columns:\n",
    "```"
   ]
  },
  {
   "cell_type": "code",
   "execution_count": 5,
   "metadata": {
    "tags": [
     "remove-output"
    ]
   },
   "outputs": [
    {
     "data": {
      "text/plain": [
       "['COL1', 'COL2']"
      ]
     },
     "execution_count": 5,
     "metadata": {},
     "output_type": "execute_result"
    }
   ],
   "source": [
    "sn.sql.columns('sample_table2')  #> ['COL1', 'COL2']"
   ]
  },
  {
   "cell_type": "markdown",
   "metadata": {},
   "source": [
    "```{div} sn-pre-code, sn-post-code\n",
    "Query DDL:\n",
    "```"
   ]
  },
  {
   "cell_type": "code",
   "execution_count": 53,
   "metadata": {},
   "outputs": [
    {
     "name": "stdout",
     "output_type": "stream",
     "text": [
      "create or replace TABLE SAMPLE_TABLE (\n",
      "\tCOL1 FLOAT,\n",
      "\tCOL2 FLOAT\n",
      ");\n"
     ]
    }
   ],
   "source": [
    "print(sn.sql.ddl('sample_table'))"
   ]
  },
  {
   "cell_type": "markdown",
   "metadata": {
    "tags": [
     "remove-cell"
    ]
   },
   "source": [
    "```{div} sn-pre-code\n",
    "Provide `run=False` to get the raw sql\n",
    "```"
   ]
  },
  {
   "cell_type": "code",
   "execution_count": 7,
   "metadata": {
    "tags": [
     "remove-output",
     "remove-cell"
    ]
   },
   "outputs": [
    {
     "name": "stdout",
     "output_type": "stream",
     "text": [
      "<class 'str'>\n",
      "drop table if exists GEM7318.SAMPLE_TABLE\n"
     ]
    }
   ],
   "source": [
    "drop_sql = sn.sql.drop('sample_table', run=False)\n",
    "\n",
    "print(drop_sql)        #> drop table if exists GEM7318.SAMPLE_TABLE"
   ]
  },
  {
   "cell_type": "markdown",
   "metadata": {},
   "source": [
    "```{div} sn-pre-code\n",
    "Drop objects:\n",
    "```"
   ]
  },
  {
   "cell_type": "code",
   "execution_count": 8,
   "metadata": {},
   "outputs": [],
   "source": [
    "for t in ['sample_table', 'sample_table2']:\n",
    "    sn.sql.drop(t, obj='table')\n",
    "\n",
    "sn.sql.exists('sample_table')   #> False\n",
    "sn.sql.exists('sample_table2')  #> False"
   ]
  },
  {
   "cell_type": "markdown",
   "metadata": {},
   "source": [
    "<br>\n",
    "\n",
    "### *Loading Data*\n",
    "<hr class=\"sn-green-thick sn-indent-h-cell-right-hr\">\n",
    "\n",
    "`````{admonition} snowmobile.Table\n",
    ":class: toggle, is_explanation, sn-dedent-v-t-container, sn-dedent-v-b-h-container, sn-indent-h-cell-right\n",
    "\n",
    "````{tabbed} Context\n",
    "  {class}`~snowmobile.Table` is a loading solution that at minimum accepts a\n",
    "  [**Snowmobile**](./usage/snowmobile) ({class}`sn`), a {class}`~pandas.DataFrame` ({class}`df`),\n",
    "  and a table name ({class}`str`).\n",
    "+++\n",
    "  In the same way that [**Snowmobile**](./usage/snowmobile) handles its keyword arguments,\n",
    "  {class}`~snowmobile.Table` will adhere to any arguments explicitly provided and defer\n",
    "  to the values configured in [snowmobile.toml](./usage/snowmobile_toml) otherwise.\n",
    "````\n",
    "\n",
    "````{tabbed} +\n",
    "  ```{div} sn-dedent-v-b-h, sn-dedent-v-t\n",
    "  *The behavior outlined below reflects those within the\n",
    "  [default snowmobile.toml file](./usage/snowmobile_toml.md#file-contents)*, meaning that `t1` will:\n",
    "  ```\n",
    "\n",
    "  1. Check if *sample_table* exists in the schema associated with {attr}`sn.con`\n",
    "  2. If *sample_table* **does** exist, it will validate `df` against *sample_table* and throw an error\n",
    "     if their dimensions are not identical\n",
    "  3. If *sample_table* does **not** exist (as is the case here), it will generate DDL from `df` and execute it as part of the loading process\n",
    "````\n",
    "\n",
    "<hr class=\"sn-green\">\n",
    "\n",
    "{link-badge}`./usage/table.html,cls=badge-primary badge text-white,Usage: snowmobile.Table,tooltip=Intro & usage documentation for snowmobile.Table`\n",
    "{link-badge}`./autoapi/snowmobile/core/table/index.html,cls=badge-secondary badge-pill text-white,API Docs: snowmobile.core.table,tooltip=Documentation parsed from docstrings`\n",
    "`````"
   ]
  },
  {
   "cell_type": "markdown",
   "metadata": {},
   "source": [
    "`````{admonition} Setup\n",
    ":class: toggle, is-setup, sn-clear-title, toggle-shown\n",
    "\n",
    "````{panels}\n",
    "\n",
    "The `df` used below is created with:\n",
    "\n",
    "```python\n",
    "import pandas as pd\n",
    "import numpy as np\n",
    "\n",
    "df = pd.DataFrame(\n",
    "    data = {\n",
    "    'COL1': np.ones(3), 'COL2': np.zeros(3)\n",
    "    }\n",
    ")\n",
    "print(df.shape)  #> (3, 2)\n",
    "```\n",
    "\n",
    "---\n",
    "\n",
    "|   COL1 |   COL2 |\n",
    "|-------:|-------:|\n",
    "|      1 |      0 |\n",
    "|      1 |      0 |\n",
    "|      1 |      0 |\n",
    "\n",
    "````\n",
    "\n",
    "`````"
   ]
  },
  {
   "cell_type": "code",
   "execution_count": 16,
   "metadata": {
    "tags": [
     "remove-cell"
    ]
   },
   "outputs": [],
   "source": [
    "# Verify table does not exist before moving forward with example\n",
    "if sn.sql.exists('sample_table'):\n",
    "    sn.sql.drop('sample_table')"
   ]
  },
  {
   "cell_type": "code",
   "execution_count": 2,
   "metadata": {
    "tags": [
     "remove-cell"
    ]
   },
   "outputs": [
    {
     "data": {
      "text/html": [
       "<div>\n",
       "<style scoped>\n",
       "    .dataframe tbody tr th:only-of-type {\n",
       "        vertical-align: middle;\n",
       "    }\n",
       "\n",
       "    .dataframe tbody tr th {\n",
       "        vertical-align: top;\n",
       "    }\n",
       "\n",
       "    .dataframe thead th {\n",
       "        text-align: right;\n",
       "    }\n",
       "</style>\n",
       "<table border=\"1\" class=\"dataframe\">\n",
       "  <thead>\n",
       "    <tr style=\"text-align: right;\">\n",
       "      <th></th>\n",
       "      <th>COL1</th>\n",
       "      <th>COL2</th>\n",
       "    </tr>\n",
       "  </thead>\n",
       "  <tbody>\n",
       "    <tr>\n",
       "      <th>0</th>\n",
       "      <td>1.0</td>\n",
       "      <td>0.0</td>\n",
       "    </tr>\n",
       "    <tr>\n",
       "      <th>1</th>\n",
       "      <td>1.0</td>\n",
       "      <td>0.0</td>\n",
       "    </tr>\n",
       "    <tr>\n",
       "      <th>2</th>\n",
       "      <td>1.0</td>\n",
       "      <td>0.0</td>\n",
       "    </tr>\n",
       "  </tbody>\n",
       "</table>\n",
       "</div>"
      ],
      "text/plain": [
       "   COL1  COL2\n",
       "0   1.0   0.0\n",
       "1   1.0   0.0\n",
       "2   1.0   0.0"
      ]
     },
     "execution_count": 2,
     "metadata": {},
     "output_type": "execute_result"
    }
   ],
   "source": [
    "\"\"\"Generate dummy DataFrame for snowmobile.Table example.\"\"\"\n",
    "import pandas as pd\n",
    "import numpy as np\n",
    "\n",
    "df = pd.DataFrame(\n",
    "    data = {'COL1': np.ones(3), 'COL2': np.zeros(3)}\n",
    ")\n",
    "df.head()"
   ]
  },
  {
   "cell_type": "markdown",
   "metadata": {},
   "source": [
    "<hr class=\"sn-spacer\">\n",
    "\n",
    "```{div} sn-pre-code, sn-indent-v-t-container\n",
    "Given `sn` [Snowmobile](./usage/snowmobile), a `df` ({class}`~pandas.DataFrame`), and a `table` ({class}`str`) to load into, a [**Table**](./usage/table) can be created with:\n",
    "```"
   ]
  },
  {
   "cell_type": "code",
   "execution_count": 17,
   "metadata": {
    "tags": [
     "remove-output"
    ]
   },
   "outputs": [],
   "source": [
    "t1 = snowmobile.Table(sn=sn, df=df, table='sample_table')"
   ]
  },
  {
   "cell_type": "markdown",
   "metadata": {},
   "source": [
    "```{div} sn-pre-code, sn-post-code\n",
    "With [](./usage/snowmobile_toml) defaults, `t1` has pre-inspected some things like:\n",
    "```"
   ]
  },
  {
   "cell_type": "code",
   "execution_count": 18,
   "metadata": {
    "tags": [
     "remove-output"
    ]
   },
   "outputs": [
    {
     "name": "stdout",
     "output_type": "stream",
     "text": [
      "False\n"
     ]
    }
   ],
   "source": [
    "print(t1.exists)  #> False  -> 'sample_table' doesn't exist in the schema associated with 'sn'"
   ]
  },
  {
   "cell_type": "markdown",
   "metadata": {},
   "source": [
    "```{div} sn-pre-code\n",
    "We can create *sample_table* and load `df` into with:\n",
    "```"
   ]
  },
  {
   "cell_type": "code",
   "execution_count": 18,
   "metadata": {
    "tags": [
     "remove-output"
    ]
   },
   "outputs": [
    {
     "name": "stdout",
     "output_type": "stream",
     "text": [
      "Loading into 'gem7318.SAMPLE_TABLE`..\n",
      "(1 of 4)\n",
      "\tCREATE OR REPLACE TABLE SAMPLE_TABLE ( ..\n",
      "(2 of 4)\n",
      "\tcreate stage SAMPLE_TABLE_stage file_format = snowmobile_default_psv;\n",
      "(3 of 4)\n",
      "\tput file://C:/Users/GEM7318/Documents/Github/Snowmobile/docs/sample_table.csv @SAMPLE_TABLE_stage\n",
      "\tauto_compress = true\n",
      "(4 of 4)\n",
      "\tcopy into SAMPLE_TABLE from @SAMPLE_TABLE_stage\n",
      "\ton_error = continue\n",
      "..completed: 3 rows in 2 seconds\n"
     ]
    },
    {
     "data": {
      "text/plain": [
       "snowmobile.Table(table='SAMPLE_TABLE')"
      ]
     },
     "execution_count": 18,
     "metadata": {},
     "output_type": "execute_result"
    }
   ],
   "source": [
    "t1.load()"
   ]
  },
  {
   "cell_type": "markdown",
   "metadata": {},
   "source": [
    "```{div} sn-pre-code\n",
    "Here are two ways to verify `t1.load()` did its job:\n",
    "```"
   ]
  },
  {
   "cell_type": "code",
   "execution_count": 19,
   "metadata": {
    "collapsed": true,
    "jupyter": {
     "outputs_hidden": true
    },
    "tags": [
     "remove-output"
    ]
   },
   "outputs": [
    {
     "name": "stdout",
     "output_type": "stream",
     "text": [
      "Loading into 'gem7318.SAMPLE_TABLE`..\n",
      "(1 of 4)\n",
      "\tCREATE OR REPLACE TABLE SAMPLE_TABLE ( ..\n",
      "(2 of 4)\n",
      "\tcreate stage SAMPLE_TABLE_stage file_format = snowmobile_default_psv;\n",
      "(3 of 4)\n",
      "\tput file://C:/Users/GEM7318/Documents/Github/Snowmobile/docs/sample_table.csv @SAMPLE_TABLE_stage\n",
      "\tauto_compress = true\n",
      "(4 of 4)\n",
      "\tcopy into SAMPLE_TABLE from @SAMPLE_TABLE_stage\n",
      "\ton_error = continue\n",
      "..completed: 3 rows in 2 seconds\n"
     ]
    },
    {
     "data": {
      "text/plain": [
       "snowmobile.Table(table='SAMPLE_TABLE')"
      ]
     },
     "execution_count": 19,
     "metadata": {},
     "output_type": "execute_result"
    }
   ],
   "source": [
    "print(t1.loaded)                           #> True -> t1 didn't encounter any errors during .load()\n",
    "print(sn.sql.cnt_records('sample_table'))  #> 3  ---> 'sample_table' contains three records"
   ]
  },
  {
   "cell_type": "markdown",
   "metadata": {},
   "source": [
    "```{div} sn-indent-h-cell\n",
    "<hr class=\"sn-green-medium\" style=\"margin-top: 1.4rem; margin-bottom: 0.5rem;\">\n",
    "```\n",
    "\n",
    "```{div} sn-pre-code\n",
    "In instances where the {class}`~pandas.DataFrame` and table have different dimensions:\n",
    "```"
   ]
  },
  {
   "cell_type": "code",
   "execution_count": 8,
   "metadata": {},
   "outputs": [
    {
     "data": {
      "text/html": [
       "<div>\n",
       "<style scoped>\n",
       "    .dataframe tbody tr th:only-of-type {\n",
       "        vertical-align: middle;\n",
       "    }\n",
       "\n",
       "    .dataframe tbody tr th {\n",
       "        vertical-align: top;\n",
       "    }\n",
       "\n",
       "    .dataframe thead th {\n",
       "        text-align: right;\n",
       "    }\n",
       "</style>\n",
       "<table border=\"1\" class=\"dataframe\">\n",
       "  <thead>\n",
       "    <tr style=\"text-align: right;\">\n",
       "      <th></th>\n",
       "      <th>COL1</th>\n",
       "      <th>COL2</th>\n",
       "      <th>COL1</th>\n",
       "      <th>COL2</th>\n",
       "    </tr>\n",
       "  </thead>\n",
       "  <tbody>\n",
       "    <tr>\n",
       "      <th>0</th>\n",
       "      <td>1.0</td>\n",
       "      <td>0.0</td>\n",
       "      <td>1.0</td>\n",
       "      <td>0.0</td>\n",
       "    </tr>\n",
       "  </tbody>\n",
       "</table>\n",
       "</div>"
      ],
      "text/plain": [
       "   COL1  COL2  COL1  COL2\n",
       "0   1.0   0.0   1.0   0.0"
      ]
     },
     "execution_count": 8,
     "metadata": {},
     "output_type": "execute_result"
    }
   ],
   "source": [
    "df2 = pd.concat([df, df], axis=1)\n",
    "df2.head(1)"
   ]
  },
  {
   "cell_type": "markdown",
   "metadata": {},
   "source": [
    "```{div} sn-pre-code\n",
    "Here's what `t2` knows about `df` and *sample_table*:\n",
    "```"
   ]
  },
  {
   "cell_type": "code",
   "execution_count": 25,
   "metadata": {
    "tags": [
     "remove-output"
    ]
   },
   "outputs": [],
   "source": [
    "t2 = snowmobile.Table(sn=sn, df=df2, table='sample_table')\n",
    "\n",
    "print(t2.exists)      #> True  --> 'sample_table' exists in the schema associated with `sn`\n",
    "print(t2.cols_match)  #> False  -> `df2` and 'sample_table' don't share the same dimensions"
   ]
  },
  {
   "cell_type": "markdown",
   "metadata": {},
   "source": [
    "```{div} sn-pre-code, sn-post-code\n",
    "`t2` also checked the columns of `df2` and deduped them by appending a suffix to the second set:\n",
    "```"
   ]
  },
  {
   "cell_type": "code",
   "execution_count": 10,
   "metadata": {},
   "outputs": [
    {
     "data": {
      "text/html": [
       "<div>\n",
       "<style scoped>\n",
       "    .dataframe tbody tr th:only-of-type {\n",
       "        vertical-align: middle;\n",
       "    }\n",
       "\n",
       "    .dataframe tbody tr th {\n",
       "        vertical-align: top;\n",
       "    }\n",
       "\n",
       "    .dataframe thead th {\n",
       "        text-align: right;\n",
       "    }\n",
       "</style>\n",
       "<table border=\"1\" class=\"dataframe\">\n",
       "  <thead>\n",
       "    <tr style=\"text-align: right;\">\n",
       "      <th></th>\n",
       "      <th>COL1</th>\n",
       "      <th>COL2</th>\n",
       "      <th>COL1_1</th>\n",
       "      <th>COL2_1</th>\n",
       "    </tr>\n",
       "  </thead>\n",
       "  <tbody>\n",
       "    <tr>\n",
       "      <th>0</th>\n",
       "      <td>1.0</td>\n",
       "      <td>0.0</td>\n",
       "      <td>1.0</td>\n",
       "      <td>0.0</td>\n",
       "    </tr>\n",
       "  </tbody>\n",
       "</table>\n",
       "</div>"
      ],
      "text/plain": [
       "   COL1  COL2  COL1_1  COL2_1\n",
       "0   1.0   0.0     1.0     0.0"
      ]
     },
     "execution_count": 10,
     "metadata": {},
     "output_type": "execute_result"
    }
   ],
   "source": [
    "t3.df.head(1)"
   ]
  },
  {
   "cell_type": "markdown",
   "metadata": {},
   "source": [
    "```{div} sn-pre-code\n",
    "Loading in the same way we did `t1` will throw an error with the default [snowmobile.toml](./usage/snowmobile_toml):\n",
    "```"
   ]
  },
  {
   "cell_type": "code",
   "execution_count": 33,
   "metadata": {
    "collapsed": true,
    "jupyter": {
     "outputs_hidden": true
    },
    "tags": [
     "remove-output"
    ]
   },
   "outputs": [
    {
     "ename": "ColumnMismatchError",
     "evalue": "`SAMPLE_TABLE` columns do not equal those in the local DataFrame and if_exists='append' was specified.\nEither provide if_exists='replace' to overwrite the existing table or see `table.col_diff` to inspect the mismatched columns.",
     "output_type": "error",
     "traceback": [
      "\u001b[1;31m---------------------------------------------------------------------------\u001b[0m",
      "\u001b[1;31mColumnMismatchError\u001b[0m                       Traceback (most recent call last)",
      "\u001b[1;32m<ipython-input-33-f97d82601f16>\u001b[0m in \u001b[0;36m<module>\u001b[1;34m\u001b[0m\n\u001b[0;32m      2\u001b[0m \u001b[1;33m\u001b[0m\u001b[0m\n\u001b[0;32m      3\u001b[0m \u001b[1;32mtry\u001b[0m\u001b[1;33m:\u001b[0m\u001b[1;33m\u001b[0m\u001b[0m\n\u001b[1;32m----> 4\u001b[1;33m     \u001b[0mt3\u001b[0m\u001b[1;33m.\u001b[0m\u001b[0mload\u001b[0m\u001b[1;33m(\u001b[0m\u001b[1;33m)\u001b[0m\u001b[1;33m\u001b[0m\u001b[0m\n\u001b[0m\u001b[0;32m      5\u001b[0m \u001b[1;32mexcept\u001b[0m \u001b[0mExistingTableError\u001b[0m \u001b[1;32mas\u001b[0m \u001b[0me\u001b[0m\u001b[1;33m:\u001b[0m\u001b[1;33m\u001b[0m\u001b[0m\n\u001b[0;32m      6\u001b[0m \u001b[1;33m\u001b[0m\u001b[0m\n",
      "\u001b[1;32m~\\Documents\\Github\\Snowmobile\\snowmobile\\core\\table.py\u001b[0m in \u001b[0;36mload\u001b[1;34m(self, if_exists, from_script, verbose, **kwargs)\u001b[0m\n\u001b[0;32m    332\u001b[0m             \u001b[1;32mif\u001b[0m \u001b[0mself\u001b[0m\u001b[1;33m.\u001b[0m\u001b[0me\u001b[0m\u001b[1;33m.\u001b[0m\u001b[0mseen\u001b[0m\u001b[1;33m(\u001b[0m\u001b[0mto_raise\u001b[0m\u001b[1;33m=\u001b[0m\u001b[1;32mTrue\u001b[0m\u001b[1;33m)\u001b[0m\u001b[1;33m:\u001b[0m\u001b[1;33m\u001b[0m\u001b[0m\n\u001b[0;32m    333\u001b[0m                 \u001b[1;32mif\u001b[0m \u001b[0mself\u001b[0m\u001b[1;33m.\u001b[0m\u001b[0mon_error\u001b[0m \u001b[1;33m!=\u001b[0m \u001b[1;34m'c'\u001b[0m\u001b[1;33m:\u001b[0m\u001b[1;33m\u001b[0m\u001b[0m\n\u001b[1;32m--> 334\u001b[1;33m                     \u001b[1;32mraise\u001b[0m \u001b[0mself\u001b[0m\u001b[1;33m.\u001b[0m\u001b[0me\u001b[0m\u001b[1;33m.\u001b[0m\u001b[0mget\u001b[0m\u001b[1;33m(\u001b[0m\u001b[0mto_raise\u001b[0m\u001b[1;33m=\u001b[0m\u001b[1;32mTrue\u001b[0m\u001b[1;33m,\u001b[0m \u001b[0mlast\u001b[0m\u001b[1;33m=\u001b[0m\u001b[1;32mTrue\u001b[0m\u001b[1;33m)\u001b[0m\u001b[1;33m\u001b[0m\u001b[0m\n\u001b[0m\u001b[0;32m    335\u001b[0m                 \u001b[1;32melse\u001b[0m\u001b[1;33m:\u001b[0m\u001b[1;33m\u001b[0m\u001b[0m\n\u001b[0;32m    336\u001b[0m                     \u001b[1;32mreturn\u001b[0m \u001b[0mself\u001b[0m\u001b[1;33m\u001b[0m\u001b[0m\n",
      "\u001b[1;31mColumnMismatchError\u001b[0m: `SAMPLE_TABLE` columns do not equal those in the local DataFrame and if_exists='append' was specified.\nEither provide if_exists='replace' to overwrite the existing table or see `table.col_diff` to inspect the mismatched columns."
     ]
    }
   ],
   "source": [
    "from snowmobile.core.errors import ColumnMismatchError\n",
    "\n",
    "try:\n",
    "    t3.load()\n",
    "except ExistingTableError as e:\n",
    "    print(e)\n",
    "\"\"\"\n",
    "ColumnMismatchError: `SAMPLE_TABLE` columns do not equal those in the local DataFrame \n",
    "and if_exists='append' was specified.\n",
    "Either provide if_exists='replace' to overwrite the existing table or see `table.col_diff`\n",
    "to inspect the mismatched columns.\n",
    "\"\"\""
   ]
  },
  {
   "cell_type": "markdown",
   "metadata": {},
   "source": [
    "```{div} sn-pre-code, sn-post-code\n",
    "Explicit arguments take precedent over configurations in [snowmobile.toml](./usage/snowmobile_toml), so `df2` *could* be loaded with:\n",
    "```"
   ]
  },
  {
   "cell_type": "code",
   "execution_count": 15,
   "metadata": {
    "tags": [
     "remove-output"
    ]
   },
   "outputs": [],
   "source": [
    "# t3.load(if_exists='replace')"
   ]
  },
  {
   "cell_type": "markdown",
   "metadata": {},
   "source": [
    "<br>\n",
    "\n",
    "```{admonition} Fixture: **sample_table**\n",
    ":class: toggle, toggle-shown, sn-fixture\n",
    "The examples below make use of *sample_table* created here.\n",
    "```\n",
    "\n",
    "<hr class=\"sn-spacer\">"
   ]
  },
  {
   "cell_type": "markdown",
   "metadata": {},
   "source": [
    "<br>\n",
    "\n",
    "### *Working with SQL Scripts*\n",
    "<hr class=\"sn-green-thick sn-indent-h-cell-right-hr\">\n",
    "\n",
    "`````{admonition} snowmobile.Script\n",
    ":class: toggle, is_explanation, sn-dedent-v-t-container, sn-indent-h-cell-right\n",
    "\n",
    "```{div} sn-dedent-v-t-h, sn-dedent-v-b-h\n",
    "[**snowmobile.Script**](./usage/script.ipynb) imports a sql file and parses its contents according to its structure.\n",
    "```\n",
    "\n",
    "At a minimum, the file is split into individual statements, each of which is checked for tags;\n",
    "if none are found, [Script](./usage/script.ipynb) will generate a generic name for the statement based on\n",
    "the literal first SQL keyword it contains and its index position (e.g. `select data~statement #3` below).\n",
    "\n",
    "+++\n",
    "\n",
    "```{div} sn-dedent-v-b-h\n",
    "By providing {class}`script` (below) the same instance of {class}`sn` with which {class}`t1` (above)\n",
    "was instantiated, **the {xref}`SnowflakeConnection` and [Configuration](./usage/snowmobile_toml) is\n",
    "shared amongst:**\n",
    "```\n",
    "\n",
    "- {class}`sn:` {class}`~snowmobile.Snowmobile`\n",
    "- {class}`t1:` {class}`~snowmobile.Table`\n",
    "- {class}`script:` {class}`~snowmobile.Script`\n",
    "\n",
    "\n",
    "<hr class=\"sn-green\">\n",
    "\n",
    "{link-badge}`./usage/script.html,cls=badge-primary badge text-white,Usage: snowmobile.Script,tooltip=Intro & usage documentation for snowmobile.Script`\n",
    "{link-badge}`./autoapi/snowmobile/core/script/index.html,cls=badge-secondary badge-pill text-white,API Docs: snowmobile.core.script,tooltip=Documentation parsed from docstrings`\n",
    "\n",
    "`````"
   ]
  },
  {
   "cell_type": "markdown",
   "metadata": {},
   "source": [
    "````{admonition} Setup\n",
    ":class: toggle, is-setup, sn-clear-title, toggle-shown\n",
    "\n",
    "```{div} sn-dedent-v-t-h, hanging\n",
    "The `path` used below is a full path ({class}`str` or {class}`pathlib.Path`) \\\n",
    "to **sample_table.sql**:\n",
    "```\n",
    "\n",
    "```{literalinclude}  ./snippets/getting_started/sample_table.sql\n",
    ":language: sql\n",
    ":lines: 1-17\n",
    "```\n",
    "\n",
    "<hr class=\"sn-spacer-thin\">\n",
    "\n",
    "````"
   ]
  },
  {
   "cell_type": "code",
   "execution_count": 21,
   "metadata": {
    "tags": [
     "remove-cell"
    ]
   },
   "outputs": [],
   "source": [
    "# Setup\n",
    "from pathlib import Path\n",
    "\n",
    "path = Path.cwd() / 'snippets' / 'getting_started' / 'sample_table.sql'"
   ]
  },
  {
   "cell_type": "markdown",
   "metadata": {},
   "source": [
    "```{div} sn-pre-code\n",
    "Given a `path` to *sample_table.sql*, a [Script](./usage/script) can be created with:\n",
    "```"
   ]
  },
  {
   "cell_type": "code",
   "execution_count": 31,
   "metadata": {
    "tags": [
     "remove-output"
    ]
   },
   "outputs": [
    {
     "name": "stdout",
     "output_type": "stream",
     "text": [
      "snowmobile.Script('sample_table.sql')\n"
     ]
    }
   ],
   "source": [
    "script = snowmobile.Script(sn=sn, path=path)\n",
    "\n",
    "print(script)  #> snowmobile.Script('sample_table.sql')"
   ]
  },
  {
   "cell_type": "markdown",
   "metadata": {
    "tags": [
     "remove-cell"
    ]
   },
   "source": [
    "```{div} sn-pre-code\n",
    "`.dtl()` prints a high level view of contents to stdout:\n",
    "```"
   ]
  },
  {
   "cell_type": "code",
   "execution_count": 13,
   "metadata": {},
   "outputs": [
    {
     "name": "stdout",
     "output_type": "stream",
     "text": [
      "================\n",
      "sample_table.sql\n",
      "================\n",
      "1: Statement('create transient table~any_random_table1')\n",
      "2: Statement('create table~sample_table')\n",
      "3: Statement('select data~statement #3')\n",
      "4: Statement('select data~sample_table')\n"
     ]
    }
   ],
   "source": [
    "script.dtl()"
   ]
  },
  {
   "cell_type": "markdown",
   "metadata": {},
   "source": [
    "```{div} sn-pre-code\n",
    "Individual statements can be accessed by index position:\n",
    "```"
   ]
  },
  {
   "cell_type": "code",
   "execution_count": 14,
   "metadata": {
    "tags": [
     "remove-output"
    ]
   },
   "outputs": [
    {
     "data": {
      "text/plain": [
       "Statement('select data~sample_table')"
      ]
     },
     "execution_count": 14,
     "metadata": {},
     "output_type": "execute_result"
    }
   ],
   "source": [
    "script(4)   #> Statement('select data~sample_table')\n",
    "script(-1)  #> Statement('select data~sample_table')"
   ]
  },
  {
   "cell_type": "markdown",
   "metadata": {},
   "source": [
    "```{div} sn-pre-code\n",
    "Or by their tag as a string:\n",
    "```"
   ]
  },
  {
   "cell_type": "code",
   "execution_count": 16,
   "metadata": {
    "tags": [
     "remove-output"
    ]
   },
   "outputs": [
    {
     "data": {
      "text/plain": [
       "Statement('select data~sample_table')"
      ]
     },
     "execution_count": 16,
     "metadata": {},
     "output_type": "execute_result"
    }
   ],
   "source": [
    "script('select data~sample_table') #> Statement('select data~sample_table')"
   ]
  },
  {
   "cell_type": "markdown",
   "metadata": {},
   "source": [
    "```{div} sn-pre-code\n",
    "They can be run directly off the Script:\n",
    "```"
   ]
  },
  {
   "cell_type": "code",
   "execution_count": 33,
   "metadata": {},
   "outputs": [
    {
     "data": {
      "text/html": [
       "<div>\n",
       "<style scoped>\n",
       "    .dataframe tbody tr th:only-of-type {\n",
       "        vertical-align: middle;\n",
       "    }\n",
       "\n",
       "    .dataframe tbody tr th {\n",
       "        vertical-align: top;\n",
       "    }\n",
       "\n",
       "    .dataframe thead th {\n",
       "        text-align: right;\n",
       "    }\n",
       "</style>\n",
       "<table border=\"1\" class=\"dataframe\">\n",
       "  <thead>\n",
       "    <tr style=\"text-align: right;\">\n",
       "      <th></th>\n",
       "      <th>col1</th>\n",
       "      <th>col2</th>\n",
       "    </tr>\n",
       "  </thead>\n",
       "  <tbody>\n",
       "    <tr>\n",
       "      <th>0</th>\n",
       "      <td>1.0</td>\n",
       "      <td>0.0</td>\n",
       "    </tr>\n",
       "  </tbody>\n",
       "</table>\n",
       "</div>"
      ],
      "text/plain": [
       "   col1  col2\n",
       "0   1.0   0.0"
      ]
     },
     "execution_count": 33,
     "metadata": {},
     "output_type": "execute_result"
    }
   ],
   "source": [
    "script.run(4)\n",
    "script(4).results.head(1)"
   ]
  },
  {
   "cell_type": "markdown",
   "metadata": {},
   "source": [
    "```{div} sn-pre-code\n",
    "Or stored and worked with independently:\n",
    "```"
   ]
  },
  {
   "cell_type": "code",
   "execution_count": 32,
   "metadata": {},
   "outputs": [
    {
     "data": {
      "text/html": [
       "<div>\n",
       "<style scoped>\n",
       "    .dataframe tbody tr th:only-of-type {\n",
       "        vertical-align: middle;\n",
       "    }\n",
       "\n",
       "    .dataframe tbody tr th {\n",
       "        vertical-align: top;\n",
       "    }\n",
       "\n",
       "    .dataframe thead th {\n",
       "        text-align: right;\n",
       "    }\n",
       "</style>\n",
       "<table border=\"1\" class=\"dataframe\">\n",
       "  <thead>\n",
       "    <tr style=\"text-align: right;\">\n",
       "      <th></th>\n",
       "      <th>col1</th>\n",
       "      <th>col2</th>\n",
       "    </tr>\n",
       "  </thead>\n",
       "  <tbody>\n",
       "    <tr>\n",
       "      <th>0</th>\n",
       "      <td>1.0</td>\n",
       "      <td>0.0</td>\n",
       "    </tr>\n",
       "  </tbody>\n",
       "</table>\n",
       "</div>"
      ],
      "text/plain": [
       "   col1  col2\n",
       "0   1.0   0.0"
      ]
     },
     "execution_count": 32,
     "metadata": {},
     "output_type": "execute_result"
    }
   ],
   "source": [
    "s4 = script(4).run()\n",
    "s4.results.head(1)"
   ]
  },
  {
   "cell_type": "markdown",
   "metadata": {
    "tags": [
     "remove-cell"
    ]
   },
   "source": [
    "```{div} sn-pre-code\n",
    "See [Advanced Examples](./usage/advanced.md) for more in-depth applications of {class}`~snowmobile.Script`.\n",
    "```"
   ]
  },
  {
   "cell_type": "markdown",
   "metadata": {
    "tags": [
     "remove-cell"
    ]
   },
   "source": [
    "# <u>Meta / Non-Output</u>\n",
    "---\n",
    "\n",
    "All cells below this are either excluded from output via the `remove-cell` cell-tag\n",
    "or contain contents that will not visibly render in the output."
   ]
  },
  {
   "cell_type": "markdown",
   "metadata": {
    "tags": [
     "remove-cell"
    ]
   },
   "source": [
    "# Style\n",
    "\n",
    "\n",
    "```css\n",
    "<style>\n",
    ".md-typeset h1, .md-typeset h2 {\n",
    "    margin-top: -0.5rem;\n",
    "}\n",
    "    \n",
    ".md-typeset h3 {\n",
    "    margin-top: -0.5rem;\n",
    "    margin-bottom: 0.2rem;\n",
    "    font-size: 140%;\n",
    "}\n",
    "    \n",
    ".md-typeset .admonition.is-setup {\n",
    "    border-left-color: #11838e;\n",
    "    margin: -0.15rem 1.5rem .7rem 0.85rem;\n",
    "<!--     display: block; -->\n",
    "}\n",
    "</style>\n",
    "```"
   ]
  },
  {
   "cell_type": "markdown",
   "metadata": {},
   "source": [
    "<style>\n",
    ".md-typeset h1, .md-typeset h2 {\n",
    "    margin-top: -0.5rem;\n",
    "}\n",
    "    \n",
    ".md-typeset h3 {\n",
    "    margin-top: -0.5rem;\n",
    "    margin-bottom: 0.2rem;\n",
    "    font-size: 140%;\n",
    "}\n",
    "    \n",
    ".md-typeset .admonition.is-setup {\n",
    "    border-left-color: #11838e;\n",
    "    margin: -0.15rem 1.5rem .7rem 0.85rem;\n",
    "<!--     display: block; -->\n",
    "}\n",
    "</style>"
   ]
  }
 ],
 "metadata": {
  "kernelspec": {
   "display_name": "snowmobile2",
   "language": "python",
   "name": "snowmobile2"
  },
  "language_info": {
   "codemirror_mode": {
    "name": "ipython",
    "version": 3
   },
   "file_extension": ".py",
   "mimetype": "text/x-python",
   "name": "python",
   "nbconvert_exporter": "python",
   "pygments_lexer": "ipython3",
   "version": "3.7.0"
  },
  "toc-showtags": false
 },
 "nbformat": 4,
 "nbformat_minor": 4
}
