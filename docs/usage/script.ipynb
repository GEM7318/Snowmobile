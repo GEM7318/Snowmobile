{
 "cells": [
  {
   "cell_type": "markdown",
   "metadata": {},
   "source": [
    "# snowmobile.Script"
   ]
  },
  {
   "cell_type": "markdown",
   "metadata": {},
   "source": [
    "```{admonition} TODO\n",
    ":class: error\n",
    "Missing\n",
    "```"
   ]
  },
  {
   "cell_type": "markdown",
   "metadata": {},
   "source": [
    "## Example 1\n",
    "\n",
    "### **markup_with_results.sql**\n",
    "---\n",
    "\n",
    "```{literalinclude} ./markup_with_results.sql\n",
    ":language: sql\n",
    "```\n",
    "---\n",
    "\n",
    "### **markup_with_results.md**\n",
    "---\n",
    "\n",
    "```{include} ./(default) markup_with_results.md\n",
    "```\n",
    "---\n",
    "\n",
    "### **markup_with_results (stripped).sql**\n",
    "---\n",
    "\n",
    "```{literalinclude} ./(default) markup_with_results.sql\n",
    ":language: sql\n",
    "```\n",
    "---"
   ]
  },
  {
   "cell_type": "markdown",
   "metadata": {},
   "source": [
    "```{tabbed} Test tab from within a jupyter notebook\n",
    "\n",
    "This is the first content\n",
    "\n",
    "```\n",
    "\n",
    "```{tabbed} Tab2\n",
    "\n",
    "This is the second content\n",
    "\n",
    "```"
   ]
  },
  {
   "cell_type": "code",
   "execution_count": 3,
   "metadata": {},
   "outputs": [
    {
     "name": "stdout",
     "output_type": "stream",
     "text": [
      "Locating credentials...\n",
      "(1 of 2) Checking for cached path...\n",
      "(2 of 2) Cached path found at ../Snowmobile/snowmobile.toml\n",
      "..connected: snowmobile.Connector(creds='gem7318')\n"
     ]
    }
   ],
   "source": [
    "import snowmobile\n",
    "\n",
    "sn = snowmobile.connect()"
   ]
  },
  {
   "cell_type": "code",
   "execution_count": 4,
   "metadata": {},
   "outputs": [],
   "source": [
    "scripts = {\n",
    "    p.name: p for p in (Path.cwd() / 'tests').rglob('*.sql')\n",
    "    if p.is_file()\n",
    "}\n",
    "scripts2 = {\n",
    "    p.name: p for p in (Path.cwd() / '_runner').rglob('*.sql')\n",
    "    if p.is_file()\n",
    "}\n",
    "scripts.update(scripts2)\n",
    "path_qa = scripts['tags_qa_statements.sql']"
   ]
  },
  {
   "cell_type": "code",
   "execution_count": 5,
   "metadata": {},
   "outputs": [
    {
     "name": "stdout",
     "output_type": "stream",
     "text": [
      "======================\n",
      "tags_qa_statements.sql\n",
      "======================\n",
      " 1: Statement('create-temp table~sample_table')\n",
      " 2: Statement('qa-empty~verify an expected pass')\n",
      " 3: Statement('qa-empty~verify an expected failure')\n",
      " 4: Statement('qa-diff~verify an expected pass (n=2)')\n",
      " 5: Statement('qa-diff~verify an expected pass (n=3)')\n",
      " 6: Statement('qa-diff~verify an expected pass')\n",
      " 7: Statement('qa-diff~verify an expected pass')\n",
      " 8: Statement('qa-diff~verify an expected failure')\n",
      " 9: Statement('qa-diff~verify an expected pass')\n",
      "10: Statement('qa-diff~verify an exception is thrown')\n"
     ]
    }
   ],
   "source": [
    "script = snowmobile.Script(path=path_qa, sn=sn)\n",
    "script.dtl()"
   ]
  },
  {
   "cell_type": "code",
   "execution_count": 6,
   "metadata": {},
   "outputs": [
    {
     "name": "stdout",
     "output_type": "stream",
     "text": [
      " <1 of 10> create-temp table~sample_table (1s)........... <completed>\n"
     ]
    }
   ],
   "source": [
    "script.run(1)"
   ]
  },
  {
   "cell_type": "code",
   "execution_count": 7,
   "metadata": {},
   "outputs": [
    {
     "name": "stdout",
     "output_type": "stream",
     "text": [
      "======================\n",
      "tags_qa_statements.sql\n",
      "======================\n",
      " 1: Statement('create-temp table~sample_table')\n",
      " 2: Statement('qa-empty~verify an expected pass')\n",
      " 3: Statement('qa-empty~verify an expected failure')\n",
      " 4: Statement('qa-diff~verify an expected pass (n=2)')\n",
      " 5: Statement('qa-diff~verify an expected pass (n=3)')\n",
      " 6: Statement('qa-diff~verify an expected pass')\n",
      " 7: Statement('qa-diff~verify an expected pass')\n",
      " 8: Statement('qa-diff~verify an expected failure')\n",
      " 9: Statement('qa-diff~verify an expected pass')\n",
      "10: Statement('qa-diff~verify an exception is thrown')\n",
      "11: Statement('select data~statement #11')\n"
     ]
    }
   ],
   "source": [
    "script.add_statement('select * from sample_table')\n",
    "script.dtl()"
   ]
  },
  {
   "cell_type": "code",
   "execution_count": 8,
   "metadata": {},
   "outputs": [
    {
     "data": {
      "text/markdown": [
       "```sql\n",
       "select * from sample_table;\n",
       "```"
      ],
      "text/plain": [
       "<IPython.core.display.Markdown object>"
      ]
     },
     "metadata": {},
     "output_type": "display_data"
    },
    {
     "data": {
      "text/html": [
       "<div>\n",
       "<style scoped>\n",
       "    .dataframe tbody tr th:only-of-type {\n",
       "        vertical-align: middle;\n",
       "    }\n",
       "\n",
       "    .dataframe tbody tr th {\n",
       "        vertical-align: top;\n",
       "    }\n",
       "\n",
       "    .dataframe thead th {\n",
       "        text-align: right;\n",
       "    }\n",
       "</style>\n",
       "<table border=\"1\" class=\"dataframe\">\n",
       "  <thead>\n",
       "    <tr style=\"text-align: right;\">\n",
       "      <th></th>\n",
       "      <th>dummy_dim</th>\n",
       "      <th>dummy_exclude</th>\n",
       "      <th>dummy_col</th>\n",
       "    </tr>\n",
       "  </thead>\n",
       "  <tbody>\n",
       "    <tr>\n",
       "      <th>0</th>\n",
       "      <td>1</td>\n",
       "      <td>1</td>\n",
       "      <td>1</td>\n",
       "    </tr>\n",
       "    <tr>\n",
       "      <th>1</th>\n",
       "      <td>2</td>\n",
       "      <td>1</td>\n",
       "      <td>1</td>\n",
       "    </tr>\n",
       "  </tbody>\n",
       "</table>\n",
       "</div>"
      ],
      "text/plain": [
       "   dummy_dim  dummy_exclude  dummy_col\n",
       "0          1              1          1\n",
       "1          2              1          1"
      ]
     },
     "execution_count": 8,
     "metadata": {},
     "output_type": "execute_result"
    }
   ],
   "source": [
    "script.run(11, render=True)\n",
    "script.last.results.head()"
   ]
  }
 ],
 "metadata": {
  "kernelspec": {
   "display_name": "snowmobile2",
   "language": "python",
   "name": "snowmobile2"
  },
  "language_info": {
   "codemirror_mode": {
    "name": "ipython",
    "version": 3
   },
   "file_extension": ".py",
   "mimetype": "text/x-python",
   "name": "python",
   "nbconvert_exporter": "python",
   "pygments_lexer": "ipython3",
   "version": "3.7.0"
  }
 },
 "nbformat": 4,
 "nbformat_minor": 4
}
