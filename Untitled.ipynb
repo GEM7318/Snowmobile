{
 "cells": [
  {
   "cell_type": "code",
   "execution_count": 1,
   "metadata": {},
   "outputs": [],
   "source": [
    "import sys\n",
    "\n",
    "from pathlib import Path"
   ]
  },
  {
   "cell_type": "code",
   "execution_count": 2,
   "metadata": {},
   "outputs": [],
   "source": [
    "for p in [\n",
    "    r'C:\\Users\\GEM7318\\Documents\\Github\\Snowmobile',\n",
    "    r'C:\\Program Files\\JetBrains\\PyCharm 2019.3.4\\plugins\\python\\helpers\\pycharm_matplotlib_backend',\n",
    "    r'C:\\Users\\GEM7318\\Anaconda3\\envs\\snowmobile2\\lib\\site-packages\\IPython\\extensions',\n",
    "    r'C:\\Users\\GEM7318\\Anaconda3\\envs\\snowmobile2',\n",
    "    r'C:\\Users\\GEM7318\\Anaconda3\\envs\\snowmobile2\\lib',\n",
    "    r'C:\\Users\\GEM7318\\Anaconda3\\envs\\snowmobile2\\lib\\site-packages',\n",
    "]:\n",
    "    sys.path.append(p)"
   ]
  },
  {
   "cell_type": "code",
   "execution_count": 3,
   "metadata": {},
   "outputs": [
    {
     "ename": "OSError",
     "evalue": "[WinError 123] The filename, directory name, or volume label syntax is incorrect: 'C:\\\\Users\\\\GEM7318\\\\Documents\\\\Github\\\\SnowmobileC:\\\\Program Files\\\\JetBrains\\\\PyCharm 2019.3.4\\\\plugins\\\\python\\\\helpers\\\\pycharm_matplotlib_backend'",
     "output_type": "error",
     "traceback": [
      "\u001b[1;31m---------------------------------------------------------------------------\u001b[0m",
      "\u001b[1;31mOSError\u001b[0m                                   Traceback (most recent call last)",
      "\u001b[1;32m<ipython-input-3-06e7594ea13a>\u001b[0m in \u001b[0;36m<module>\u001b[1;34m\u001b[0m\n\u001b[1;32m----> 1\u001b[1;33m \u001b[1;32mimport\u001b[0m \u001b[0msnowmobile\u001b[0m\u001b[1;33m\u001b[0m\u001b[1;33m\u001b[0m\u001b[0m\n\u001b[0m",
      "\u001b[1;32m~\\Documents\\Github\\Snowmobile\\snowmobile\\__init__.py\u001b[0m in \u001b[0;36m<module>\u001b[1;34m\u001b[0m\n\u001b[0;32m     26\u001b[0m ]\n\u001b[0;32m     27\u001b[0m \u001b[1;33m\u001b[0m\u001b[0m\n\u001b[1;32m---> 28\u001b[1;33m from .core import (\n\u001b[0m\u001b[0;32m     29\u001b[0m     \u001b[0mSQL\u001b[0m\u001b[1;33m,\u001b[0m\u001b[1;33m\u001b[0m\u001b[1;33m\u001b[0m\u001b[0m\n\u001b[0;32m     30\u001b[0m     \u001b[0mConfiguration\u001b[0m\u001b[1;33m,\u001b[0m\u001b[1;33m\u001b[0m\u001b[1;33m\u001b[0m\u001b[0m\n",
      "\u001b[1;32m~\\Documents\\Github\\Snowmobile\\snowmobile\\core\\__init__.py\u001b[0m in \u001b[0;36m<module>\u001b[1;34m\u001b[0m\n\u001b[0;32m      5\u001b[0m \u001b[1;31m# isort: skip_file\u001b[0m\u001b[1;33m\u001b[0m\u001b[1;33m\u001b[0m\u001b[1;33m\u001b[0m\u001b[0m\n\u001b[0;32m      6\u001b[0m \u001b[1;32mfrom\u001b[0m \u001b[1;33m.\u001b[0m\u001b[0mbase\u001b[0m \u001b[1;32mimport\u001b[0m \u001b[0mSnowmobile\u001b[0m\u001b[1;33m\u001b[0m\u001b[1;33m\u001b[0m\u001b[0m\n\u001b[1;32m----> 7\u001b[1;33m \u001b[1;32mfrom\u001b[0m \u001b[1;33m.\u001b[0m\u001b[0mexception_handler\u001b[0m \u001b[1;32mimport\u001b[0m \u001b[0mExceptionHandler\u001b[0m\u001b[1;33m\u001b[0m\u001b[1;33m\u001b[0m\u001b[0m\n\u001b[0m\u001b[0;32m      8\u001b[0m \u001b[1;32mfrom\u001b[0m \u001b[1;33m.\u001b[0m\u001b[0mconfiguration\u001b[0m \u001b[1;32mimport\u001b[0m \u001b[0mConfiguration\u001b[0m\u001b[1;33m\u001b[0m\u001b[1;33m\u001b[0m\u001b[0m\n\u001b[0;32m      9\u001b[0m \u001b[1;32mfrom\u001b[0m \u001b[1;33m.\u001b[0m\u001b[0mconnector\u001b[0m \u001b[1;32mimport\u001b[0m \u001b[0mConnector\u001b[0m\u001b[1;33m\u001b[0m\u001b[1;33m\u001b[0m\u001b[0m\n",
      "\u001b[1;32m~\\Documents\\Github\\Snowmobile\\snowmobile\\core\\exception_handler.py\u001b[0m in \u001b[0;36m<module>\u001b[1;34m\u001b[0m\n\u001b[0;32m      6\u001b[0m \u001b[1;32mfrom\u001b[0m \u001b[0mtyping\u001b[0m \u001b[1;32mimport\u001b[0m \u001b[0mAny\u001b[0m\u001b[1;33m,\u001b[0m \u001b[0mIterable\u001b[0m\u001b[1;33m,\u001b[0m \u001b[0mSet\u001b[0m\u001b[1;33m,\u001b[0m \u001b[0mType\u001b[0m\u001b[1;33m\u001b[0m\u001b[1;33m\u001b[0m\u001b[0m\n\u001b[0;32m      7\u001b[0m \u001b[1;33m\u001b[0m\u001b[0m\n\u001b[1;32m----> 8\u001b[1;33m \u001b[1;32mfrom\u001b[0m \u001b[1;33m.\u001b[0m\u001b[0merrors\u001b[0m \u001b[1;32mimport\u001b[0m \u001b[1;33m*\u001b[0m\u001b[1;33m\u001b[0m\u001b[1;33m\u001b[0m\u001b[0m\n\u001b[0m\u001b[0;32m      9\u001b[0m \u001b[1;32mfrom\u001b[0m \u001b[1;33m.\u001b[0m \u001b[1;32mimport\u001b[0m \u001b[0mSnowmobile\u001b[0m\u001b[1;33m\u001b[0m\u001b[1;33m\u001b[0m\u001b[0m\n\u001b[0;32m     10\u001b[0m \u001b[1;33m\u001b[0m\u001b[0m\n",
      "\u001b[1;32m~\\Documents\\Github\\Snowmobile\\snowmobile\\core\\errors.py\u001b[0m in \u001b[0;36m<module>\u001b[1;34m\u001b[0m\n\u001b[0;32m      6\u001b[0m \u001b[1;33m\u001b[0m\u001b[0m\n\u001b[0;32m      7\u001b[0m \u001b[1;32mfrom\u001b[0m \u001b[0mpandas\u001b[0m\u001b[1;33m.\u001b[0m\u001b[0mio\u001b[0m\u001b[1;33m.\u001b[0m\u001b[0msql\u001b[0m \u001b[1;32mimport\u001b[0m \u001b[0mDatabaseError\u001b[0m \u001b[1;32mas\u001b[0m \u001b[0mpdDataBaseError\u001b[0m\u001b[1;33m\u001b[0m\u001b[1;33m\u001b[0m\u001b[0m\n\u001b[1;32m----> 8\u001b[1;33m \u001b[1;32mfrom\u001b[0m \u001b[0msnowflake\u001b[0m\u001b[1;33m.\u001b[0m\u001b[0mconnector\u001b[0m\u001b[1;33m.\u001b[0m\u001b[0merrors\u001b[0m \u001b[1;32mimport\u001b[0m \u001b[0mDatabaseError\u001b[0m \u001b[1;32mas\u001b[0m \u001b[0msfDatabaseError\u001b[0m\u001b[1;33m\u001b[0m\u001b[1;33m\u001b[0m\u001b[0m\n\u001b[0m\u001b[0;32m      9\u001b[0m \u001b[1;32mfrom\u001b[0m \u001b[0msnowflake\u001b[0m\u001b[1;33m.\u001b[0m\u001b[0mconnector\u001b[0m\u001b[1;33m.\u001b[0m\u001b[0merrors\u001b[0m \u001b[1;32mimport\u001b[0m \u001b[0mProgrammingError\u001b[0m\u001b[1;33m\u001b[0m\u001b[1;33m\u001b[0m\u001b[0m\n\u001b[0;32m     10\u001b[0m \u001b[1;33m\u001b[0m\u001b[0m\n",
      "\u001b[1;32m~\\Anaconda3\\lib\\site-packages\\snowflake\\connector\\__init__.py\u001b[0m in \u001b[0;36m<module>\u001b[1;34m\u001b[0m\n\u001b[0;32m     15\u001b[0m \u001b[1;32mfrom\u001b[0m \u001b[0mlogging\u001b[0m \u001b[1;32mimport\u001b[0m \u001b[0mNullHandler\u001b[0m\u001b[1;33m\u001b[0m\u001b[1;33m\u001b[0m\u001b[0m\n\u001b[0;32m     16\u001b[0m \u001b[1;33m\u001b[0m\u001b[0m\n\u001b[1;32m---> 17\u001b[1;33m \u001b[1;32mfrom\u001b[0m \u001b[1;33m.\u001b[0m\u001b[0mconnection\u001b[0m \u001b[1;32mimport\u001b[0m \u001b[0mSnowflakeConnection\u001b[0m\u001b[1;33m\u001b[0m\u001b[1;33m\u001b[0m\u001b[0m\n\u001b[0m\u001b[0;32m     18\u001b[0m \u001b[1;32mfrom\u001b[0m \u001b[1;33m.\u001b[0m\u001b[0mcursor\u001b[0m \u001b[1;32mimport\u001b[0m \u001b[0mDictCursor\u001b[0m\u001b[1;33m\u001b[0m\u001b[1;33m\u001b[0m\u001b[0m\n\u001b[0;32m     19\u001b[0m from .dbapi import (\n",
      "\u001b[1;32m~\\Anaconda3\\lib\\site-packages\\snowflake\\connector\\connection.py\u001b[0m in \u001b[0;36m<module>\u001b[1;34m\u001b[0m\n\u001b[0;32m     20\u001b[0m \u001b[1;33m\u001b[0m\u001b[0m\n\u001b[0;32m     21\u001b[0m \u001b[1;32mfrom\u001b[0m \u001b[1;33m.\u001b[0m \u001b[1;32mimport\u001b[0m \u001b[0merrors\u001b[0m\u001b[1;33m,\u001b[0m \u001b[0mproxy\u001b[0m\u001b[1;33m\u001b[0m\u001b[1;33m\u001b[0m\u001b[0m\n\u001b[1;32m---> 22\u001b[1;33m \u001b[1;32mfrom\u001b[0m \u001b[1;33m.\u001b[0m\u001b[0mauth\u001b[0m \u001b[1;32mimport\u001b[0m \u001b[0mAuth\u001b[0m\u001b[1;33m\u001b[0m\u001b[1;33m\u001b[0m\u001b[0m\n\u001b[0m\u001b[0;32m     23\u001b[0m \u001b[1;32mfrom\u001b[0m \u001b[1;33m.\u001b[0m\u001b[0mauth_default\u001b[0m \u001b[1;32mimport\u001b[0m \u001b[0mAuthByDefault\u001b[0m\u001b[1;33m\u001b[0m\u001b[1;33m\u001b[0m\u001b[0m\n\u001b[0;32m     24\u001b[0m \u001b[1;32mfrom\u001b[0m \u001b[1;33m.\u001b[0m\u001b[0mauth_idtoken\u001b[0m \u001b[1;32mimport\u001b[0m \u001b[0mAuthByIdToken\u001b[0m\u001b[1;33m\u001b[0m\u001b[1;33m\u001b[0m\u001b[0m\n",
      "\u001b[1;32m~\\Anaconda3\\lib\\site-packages\\snowflake\\connector\\auth.py\u001b[0m in \u001b[0;36m<module>\u001b[1;34m\u001b[0m\n\u001b[0;32m     38\u001b[0m     \u001b[0mReauthenticationRequest\u001b[0m\u001b[1;33m,\u001b[0m\u001b[1;33m\u001b[0m\u001b[1;33m\u001b[0m\u001b[0m\n\u001b[0;32m     39\u001b[0m )\n\u001b[1;32m---> 40\u001b[1;33m \u001b[1;32mfrom\u001b[0m \u001b[1;33m.\u001b[0m\u001b[0moptions\u001b[0m \u001b[1;32mimport\u001b[0m \u001b[0minstalled_keyring\u001b[0m\u001b[1;33m,\u001b[0m \u001b[0mkeyring\u001b[0m\u001b[1;33m\u001b[0m\u001b[1;33m\u001b[0m\u001b[0m\n\u001b[0m\u001b[0;32m     41\u001b[0m \u001b[1;32mfrom\u001b[0m \u001b[1;33m.\u001b[0m\u001b[0msqlstate\u001b[0m \u001b[1;32mimport\u001b[0m \u001b[0mSQLSTATE_CONNECTION_WAS_NOT_ESTABLISHED\u001b[0m\u001b[1;33m\u001b[0m\u001b[1;33m\u001b[0m\u001b[0m\n\u001b[0;32m     42\u001b[0m \u001b[1;32mfrom\u001b[0m \u001b[1;33m.\u001b[0m\u001b[0mversion\u001b[0m \u001b[1;32mimport\u001b[0m \u001b[0mVERSION\u001b[0m\u001b[1;33m\u001b[0m\u001b[1;33m\u001b[0m\u001b[0m\n",
      "\u001b[1;32m~\\Anaconda3\\lib\\site-packages\\snowflake\\connector\\options.py\u001b[0m in \u001b[0;36m<module>\u001b[1;34m\u001b[0m\n\u001b[0;32m    100\u001b[0m \u001b[1;31m# Create actual constants to be imported from this file\u001b[0m\u001b[1;33m\u001b[0m\u001b[1;33m\u001b[0m\u001b[1;33m\u001b[0m\u001b[0m\n\u001b[0;32m    101\u001b[0m \u001b[0mpandas\u001b[0m\u001b[1;33m,\u001b[0m \u001b[0mpyarrow\u001b[0m\u001b[1;33m,\u001b[0m \u001b[0minstalled_pandas\u001b[0m \u001b[1;33m=\u001b[0m \u001b[0m_import_or_missing_pandas_option\u001b[0m\u001b[1;33m(\u001b[0m\u001b[1;33m)\u001b[0m\u001b[1;33m\u001b[0m\u001b[1;33m\u001b[0m\u001b[0m\n\u001b[1;32m--> 102\u001b[1;33m \u001b[0mkeyring\u001b[0m\u001b[1;33m,\u001b[0m \u001b[0minstalled_keyring\u001b[0m \u001b[1;33m=\u001b[0m \u001b[0m_import_or_missing_keyring_option\u001b[0m\u001b[1;33m(\u001b[0m\u001b[1;33m)\u001b[0m\u001b[1;33m\u001b[0m\u001b[1;33m\u001b[0m\u001b[0m\n\u001b[0m",
      "\u001b[1;32m~\\Anaconda3\\lib\\site-packages\\snowflake\\connector\\options.py\u001b[0m in \u001b[0;36m_import_or_missing_keyring_option\u001b[1;34m()\u001b[0m\n\u001b[0;32m     92\u001b[0m     \"\"\"\n\u001b[0;32m     93\u001b[0m     \u001b[1;32mtry\u001b[0m\u001b[1;33m:\u001b[0m\u001b[1;33m\u001b[0m\u001b[1;33m\u001b[0m\u001b[0m\n\u001b[1;32m---> 94\u001b[1;33m         \u001b[0mkeyring\u001b[0m \u001b[1;33m=\u001b[0m \u001b[0mimportlib\u001b[0m\u001b[1;33m.\u001b[0m\u001b[0mimport_module\u001b[0m\u001b[1;33m(\u001b[0m\u001b[1;34m'keyring'\u001b[0m\u001b[1;33m)\u001b[0m  \u001b[1;31m# NOQA\u001b[0m\u001b[1;33m\u001b[0m\u001b[1;33m\u001b[0m\u001b[0m\n\u001b[0m\u001b[0;32m     95\u001b[0m         \u001b[1;32mreturn\u001b[0m \u001b[0mkeyring\u001b[0m\u001b[1;33m,\u001b[0m \u001b[1;32mTrue\u001b[0m\u001b[1;33m\u001b[0m\u001b[1;33m\u001b[0m\u001b[0m\n\u001b[0;32m     96\u001b[0m     \u001b[1;32mexcept\u001b[0m \u001b[0mImportError\u001b[0m\u001b[1;33m:\u001b[0m\u001b[1;33m\u001b[0m\u001b[1;33m\u001b[0m\u001b[0m\n",
      "\u001b[1;32m~\\Anaconda3\\lib\\importlib\\__init__.py\u001b[0m in \u001b[0;36mimport_module\u001b[1;34m(name, package)\u001b[0m\n\u001b[0;32m    125\u001b[0m                 \u001b[1;32mbreak\u001b[0m\u001b[1;33m\u001b[0m\u001b[1;33m\u001b[0m\u001b[0m\n\u001b[0;32m    126\u001b[0m             \u001b[0mlevel\u001b[0m \u001b[1;33m+=\u001b[0m \u001b[1;36m1\u001b[0m\u001b[1;33m\u001b[0m\u001b[1;33m\u001b[0m\u001b[0m\n\u001b[1;32m--> 127\u001b[1;33m     \u001b[1;32mreturn\u001b[0m \u001b[0m_bootstrap\u001b[0m\u001b[1;33m.\u001b[0m\u001b[0m_gcd_import\u001b[0m\u001b[1;33m(\u001b[0m\u001b[0mname\u001b[0m\u001b[1;33m[\u001b[0m\u001b[0mlevel\u001b[0m\u001b[1;33m:\u001b[0m\u001b[1;33m]\u001b[0m\u001b[1;33m,\u001b[0m \u001b[0mpackage\u001b[0m\u001b[1;33m,\u001b[0m \u001b[0mlevel\u001b[0m\u001b[1;33m)\u001b[0m\u001b[1;33m\u001b[0m\u001b[1;33m\u001b[0m\u001b[0m\n\u001b[0m\u001b[0;32m    128\u001b[0m \u001b[1;33m\u001b[0m\u001b[0m\n\u001b[0;32m    129\u001b[0m \u001b[1;33m\u001b[0m\u001b[0m\n",
      "\u001b[1;32m~\\AppData\\Roaming\\Python\\Python37\\site-packages\\keyring\\__init__.py\u001b[0m in \u001b[0;36m<module>\u001b[1;34m\u001b[0m\n\u001b[1;32m----> 1\u001b[1;33m from .core import (\n\u001b[0m\u001b[0;32m      2\u001b[0m     \u001b[0mset_keyring\u001b[0m\u001b[1;33m,\u001b[0m\u001b[1;33m\u001b[0m\u001b[1;33m\u001b[0m\u001b[0m\n\u001b[0;32m      3\u001b[0m     \u001b[0mget_keyring\u001b[0m\u001b[1;33m,\u001b[0m\u001b[1;33m\u001b[0m\u001b[1;33m\u001b[0m\u001b[0m\n\u001b[0;32m      4\u001b[0m     \u001b[0mset_password\u001b[0m\u001b[1;33m,\u001b[0m\u001b[1;33m\u001b[0m\u001b[1;33m\u001b[0m\u001b[0m\n\u001b[0;32m      5\u001b[0m     \u001b[0mget_password\u001b[0m\u001b[1;33m,\u001b[0m\u001b[1;33m\u001b[0m\u001b[1;33m\u001b[0m\u001b[0m\n",
      "\u001b[1;32m~\\AppData\\Roaming\\Python\\Python37\\site-packages\\keyring\\core.py\u001b[0m in \u001b[0;36m<module>\u001b[1;34m\u001b[0m\n\u001b[0;32m    190\u001b[0m \u001b[1;33m\u001b[0m\u001b[0m\n\u001b[0;32m    191\u001b[0m \u001b[1;31m# init the _keyring_backend\u001b[0m\u001b[1;33m\u001b[0m\u001b[1;33m\u001b[0m\u001b[1;33m\u001b[0m\u001b[0m\n\u001b[1;32m--> 192\u001b[1;33m \u001b[0minit_backend\u001b[0m\u001b[1;33m(\u001b[0m\u001b[1;33m)\u001b[0m\u001b[1;33m\u001b[0m\u001b[1;33m\u001b[0m\u001b[0m\n\u001b[0m",
      "\u001b[1;32m~\\AppData\\Roaming\\Python\\Python37\\site-packages\\keyring\\core.py\u001b[0m in \u001b[0;36minit_backend\u001b[1;34m(limit)\u001b[0m\n\u001b[0;32m     94\u001b[0m         or max(\n\u001b[0;32m     95\u001b[0m             \u001b[1;31m# all keyrings passing the limit filter\u001b[0m\u001b[1;33m\u001b[0m\u001b[1;33m\u001b[0m\u001b[1;33m\u001b[0m\u001b[0m\n\u001b[1;32m---> 96\u001b[1;33m             \u001b[0mfilter\u001b[0m\u001b[1;33m(\u001b[0m\u001b[0mlimit\u001b[0m\u001b[1;33m,\u001b[0m \u001b[0mbackend\u001b[0m\u001b[1;33m.\u001b[0m\u001b[0mget_all_keyring\u001b[0m\u001b[1;33m(\u001b[0m\u001b[1;33m)\u001b[0m\u001b[1;33m)\u001b[0m\u001b[1;33m,\u001b[0m\u001b[1;33m\u001b[0m\u001b[1;33m\u001b[0m\u001b[0m\n\u001b[0m\u001b[0;32m     97\u001b[0m             \u001b[0mdefault\u001b[0m\u001b[1;33m=\u001b[0m\u001b[0mfail\u001b[0m\u001b[1;33m.\u001b[0m\u001b[0mKeyring\u001b[0m\u001b[1;33m(\u001b[0m\u001b[1;33m)\u001b[0m\u001b[1;33m,\u001b[0m\u001b[1;33m\u001b[0m\u001b[1;33m\u001b[0m\u001b[0m\n\u001b[0;32m     98\u001b[0m             \u001b[0mkey\u001b[0m\u001b[1;33m=\u001b[0m\u001b[0mbackend\u001b[0m\u001b[1;33m.\u001b[0m\u001b[0mby_priority\u001b[0m\u001b[1;33m,\u001b[0m\u001b[1;33m\u001b[0m\u001b[1;33m\u001b[0m\u001b[0m\n",
      "\u001b[1;32m~\\AppData\\Roaming\\Python\\Python37\\site-packages\\keyring\\util\\__init__.py\u001b[0m in \u001b[0;36mwrapper\u001b[1;34m(*args, **kwargs)\u001b[0m\n\u001b[0;32m     20\u001b[0m     \u001b[1;32mdef\u001b[0m \u001b[0mwrapper\u001b[0m\u001b[1;33m(\u001b[0m\u001b[1;33m*\u001b[0m\u001b[0margs\u001b[0m\u001b[1;33m,\u001b[0m \u001b[1;33m**\u001b[0m\u001b[0mkwargs\u001b[0m\u001b[1;33m)\u001b[0m\u001b[1;33m:\u001b[0m\u001b[1;33m\u001b[0m\u001b[1;33m\u001b[0m\u001b[0m\n\u001b[0;32m     21\u001b[0m         \u001b[1;32mif\u001b[0m \u001b[1;32mnot\u001b[0m \u001b[0mhasattr\u001b[0m\u001b[1;33m(\u001b[0m\u001b[0mfunc\u001b[0m\u001b[1;33m,\u001b[0m \u001b[1;34m'always_returns'\u001b[0m\u001b[1;33m)\u001b[0m\u001b[1;33m:\u001b[0m\u001b[1;33m\u001b[0m\u001b[1;33m\u001b[0m\u001b[0m\n\u001b[1;32m---> 22\u001b[1;33m             \u001b[0mfunc\u001b[0m\u001b[1;33m.\u001b[0m\u001b[0malways_returns\u001b[0m \u001b[1;33m=\u001b[0m \u001b[0mfunc\u001b[0m\u001b[1;33m(\u001b[0m\u001b[1;33m*\u001b[0m\u001b[0margs\u001b[0m\u001b[1;33m,\u001b[0m \u001b[1;33m**\u001b[0m\u001b[0mkwargs\u001b[0m\u001b[1;33m)\u001b[0m\u001b[1;33m\u001b[0m\u001b[1;33m\u001b[0m\u001b[0m\n\u001b[0m\u001b[0;32m     23\u001b[0m         \u001b[1;32mreturn\u001b[0m \u001b[0mfunc\u001b[0m\u001b[1;33m.\u001b[0m\u001b[0malways_returns\u001b[0m\u001b[1;33m\u001b[0m\u001b[1;33m\u001b[0m\u001b[0m\n\u001b[0;32m     24\u001b[0m \u001b[1;33m\u001b[0m\u001b[0m\n",
      "\u001b[1;32m~\\AppData\\Roaming\\Python\\Python37\\site-packages\\keyring\\backend.py\u001b[0m in \u001b[0;36mget_all_keyring\u001b[1;34m()\u001b[0m\n\u001b[0;32m    214\u001b[0m     \u001b[0mparameters\u001b[0m\u001b[1;33m.\u001b[0m\u001b[1;33m\u001b[0m\u001b[1;33m\u001b[0m\u001b[0m\n\u001b[0;32m    215\u001b[0m     \"\"\"\n\u001b[1;32m--> 216\u001b[1;33m     \u001b[0m_load_plugins\u001b[0m\u001b[1;33m(\u001b[0m\u001b[1;33m)\u001b[0m\u001b[1;33m\u001b[0m\u001b[1;33m\u001b[0m\u001b[0m\n\u001b[0m\u001b[0;32m    217\u001b[0m     \u001b[0mviable_classes\u001b[0m \u001b[1;33m=\u001b[0m \u001b[0mKeyringBackend\u001b[0m\u001b[1;33m.\u001b[0m\u001b[0mget_viable_backends\u001b[0m\u001b[1;33m(\u001b[0m\u001b[1;33m)\u001b[0m\u001b[1;33m\u001b[0m\u001b[1;33m\u001b[0m\u001b[0m\n\u001b[0;32m    218\u001b[0m     \u001b[0mrings\u001b[0m \u001b[1;33m=\u001b[0m \u001b[0mutil\u001b[0m\u001b[1;33m.\u001b[0m\u001b[0msuppress_exceptions\u001b[0m\u001b[1;33m(\u001b[0m\u001b[0mviable_classes\u001b[0m\u001b[1;33m,\u001b[0m \u001b[0mexceptions\u001b[0m\u001b[1;33m=\u001b[0m\u001b[0mTypeError\u001b[0m\u001b[1;33m)\u001b[0m\u001b[1;33m\u001b[0m\u001b[1;33m\u001b[0m\u001b[0m\n",
      "\u001b[1;32m~\\AppData\\Roaming\\Python\\Python37\\site-packages\\keyring\\backend.py\u001b[0m in \u001b[0;36m_load_plugins\u001b[1;34m()\u001b[0m\n\u001b[0;32m    197\u001b[0m     \u001b[0;31m`\u001b[0m\u001b[0minitialize_func\u001b[0m\u001b[0;31m`\u001b[0m \u001b[1;32mis\u001b[0m \u001b[0moptional\u001b[0m\u001b[1;33m,\u001b[0m \u001b[0mbut\u001b[0m \u001b[0mwill\u001b[0m \u001b[0mbe\u001b[0m \u001b[0minvoked\u001b[0m \u001b[1;32mif\u001b[0m \u001b[0mcallable\u001b[0m\u001b[1;33m.\u001b[0m\u001b[1;33m\u001b[0m\u001b[1;33m\u001b[0m\u001b[0m\n\u001b[0;32m    198\u001b[0m     \"\"\"\n\u001b[1;32m--> 199\u001b[1;33m     \u001b[0mentry_points\u001b[0m \u001b[1;33m=\u001b[0m \u001b[0mmetadata\u001b[0m\u001b[1;33m.\u001b[0m\u001b[0mentry_points\u001b[0m\u001b[1;33m(\u001b[0m\u001b[1;33m)\u001b[0m\u001b[1;33m[\u001b[0m\u001b[1;34m'keyring.backends'\u001b[0m\u001b[1;33m]\u001b[0m\u001b[1;33m\u001b[0m\u001b[1;33m\u001b[0m\u001b[0m\n\u001b[0m\u001b[0;32m    200\u001b[0m     \u001b[1;32mfor\u001b[0m \u001b[0mep\u001b[0m \u001b[1;32min\u001b[0m \u001b[0mentry_points\u001b[0m\u001b[1;33m:\u001b[0m\u001b[1;33m\u001b[0m\u001b[1;33m\u001b[0m\u001b[0m\n\u001b[0;32m    201\u001b[0m         \u001b[1;32mtry\u001b[0m\u001b[1;33m:\u001b[0m\u001b[1;33m\u001b[0m\u001b[1;33m\u001b[0m\u001b[0m\n",
      "\u001b[1;32m~\\AppData\\Roaming\\Python\\Python37\\site-packages\\importlib_metadata\\__init__.py\u001b[0m in \u001b[0;36mentry_points\u001b[1;34m()\u001b[0m\n\u001b[0;32m    512\u001b[0m         dist.entry_points for dist in distributions())\n\u001b[0;32m    513\u001b[0m     \u001b[0mby_group\u001b[0m \u001b[1;33m=\u001b[0m \u001b[0moperator\u001b[0m\u001b[1;33m.\u001b[0m\u001b[0mattrgetter\u001b[0m\u001b[1;33m(\u001b[0m\u001b[1;34m'group'\u001b[0m\u001b[1;33m)\u001b[0m\u001b[1;33m\u001b[0m\u001b[1;33m\u001b[0m\u001b[0m\n\u001b[1;32m--> 514\u001b[1;33m     \u001b[0mordered\u001b[0m \u001b[1;33m=\u001b[0m \u001b[0msorted\u001b[0m\u001b[1;33m(\u001b[0m\u001b[0meps\u001b[0m\u001b[1;33m,\u001b[0m \u001b[0mkey\u001b[0m\u001b[1;33m=\u001b[0m\u001b[0mby_group\u001b[0m\u001b[1;33m)\u001b[0m\u001b[1;33m\u001b[0m\u001b[1;33m\u001b[0m\u001b[0m\n\u001b[0m\u001b[0;32m    515\u001b[0m     \u001b[0mgrouped\u001b[0m \u001b[1;33m=\u001b[0m \u001b[0mitertools\u001b[0m\u001b[1;33m.\u001b[0m\u001b[0mgroupby\u001b[0m\u001b[1;33m(\u001b[0m\u001b[0mordered\u001b[0m\u001b[1;33m,\u001b[0m \u001b[0mby_group\u001b[0m\u001b[1;33m)\u001b[0m\u001b[1;33m\u001b[0m\u001b[1;33m\u001b[0m\u001b[0m\n\u001b[0;32m    516\u001b[0m     return {\n",
      "\u001b[1;32m~\\AppData\\Roaming\\Python\\Python37\\site-packages\\importlib_metadata\\__init__.py\u001b[0m in \u001b[0;36m<genexpr>\u001b[1;34m(.0)\u001b[0m\n\u001b[0;32m    510\u001b[0m     \"\"\"\n\u001b[0;32m    511\u001b[0m     eps = itertools.chain.from_iterable(\n\u001b[1;32m--> 512\u001b[1;33m         dist.entry_points for dist in distributions())\n\u001b[0m\u001b[0;32m    513\u001b[0m     \u001b[0mby_group\u001b[0m \u001b[1;33m=\u001b[0m \u001b[0moperator\u001b[0m\u001b[1;33m.\u001b[0m\u001b[0mattrgetter\u001b[0m\u001b[1;33m(\u001b[0m\u001b[1;34m'group'\u001b[0m\u001b[1;33m)\u001b[0m\u001b[1;33m\u001b[0m\u001b[1;33m\u001b[0m\u001b[0m\n\u001b[0;32m    514\u001b[0m     \u001b[0mordered\u001b[0m \u001b[1;33m=\u001b[0m \u001b[0msorted\u001b[0m\u001b[1;33m(\u001b[0m\u001b[0meps\u001b[0m\u001b[1;33m,\u001b[0m \u001b[0mkey\u001b[0m\u001b[1;33m=\u001b[0m\u001b[0mby_group\u001b[0m\u001b[1;33m)\u001b[0m\u001b[1;33m\u001b[0m\u001b[1;33m\u001b[0m\u001b[0m\n",
      "\u001b[1;32m~\\AppData\\Roaming\\Python\\Python37\\site-packages\\importlib_metadata\\__init__.py\u001b[0m in \u001b[0;36m<genexpr>\u001b[1;34m(.0)\u001b[0m\n\u001b[0;32m    417\u001b[0m         return itertools.chain.from_iterable(\n\u001b[0;32m    418\u001b[0m             \u001b[0mcls\u001b[0m\u001b[1;33m.\u001b[0m\u001b[0m_search_path\u001b[0m\u001b[1;33m(\u001b[0m\u001b[0mpath\u001b[0m\u001b[1;33m,\u001b[0m \u001b[0mpattern\u001b[0m\u001b[1;33m)\u001b[0m\u001b[1;33m\u001b[0m\u001b[1;33m\u001b[0m\u001b[0m\n\u001b[1;32m--> 419\u001b[1;33m             \u001b[1;32mfor\u001b[0m \u001b[0mpath\u001b[0m \u001b[1;32min\u001b[0m \u001b[0mmap\u001b[0m\u001b[1;33m(\u001b[0m\u001b[0mcls\u001b[0m\u001b[1;33m.\u001b[0m\u001b[0m_switch_path\u001b[0m\u001b[1;33m,\u001b[0m \u001b[0mpaths\u001b[0m\u001b[1;33m)\u001b[0m\u001b[1;33m\u001b[0m\u001b[1;33m\u001b[0m\u001b[0m\n\u001b[0m\u001b[0;32m    420\u001b[0m             )\n\u001b[0;32m    421\u001b[0m \u001b[1;33m\u001b[0m\u001b[0m\n",
      "\u001b[1;32m~\\AppData\\Roaming\\Python\\Python37\\site-packages\\importlib_metadata\\__init__.py\u001b[0m in \u001b[0;36m_search_path\u001b[1;34m(cls, root, pattern)\u001b[0m\n\u001b[0;32m    441\u001b[0m     \u001b[1;33m@\u001b[0m\u001b[0mclassmethod\u001b[0m\u001b[1;33m\u001b[0m\u001b[1;33m\u001b[0m\u001b[0m\n\u001b[0;32m    442\u001b[0m     \u001b[1;32mdef\u001b[0m \u001b[0m_search_path\u001b[0m\u001b[1;33m(\u001b[0m\u001b[0mcls\u001b[0m\u001b[1;33m,\u001b[0m \u001b[0mroot\u001b[0m\u001b[1;33m,\u001b[0m \u001b[0mpattern\u001b[0m\u001b[1;33m)\u001b[0m\u001b[1;33m:\u001b[0m\u001b[1;33m\u001b[0m\u001b[1;33m\u001b[0m\u001b[0m\n\u001b[1;32m--> 443\u001b[1;33m         \u001b[1;32mif\u001b[0m \u001b[1;32mnot\u001b[0m \u001b[0mroot\u001b[0m\u001b[1;33m.\u001b[0m\u001b[0mis_dir\u001b[0m\u001b[1;33m(\u001b[0m\u001b[1;33m)\u001b[0m\u001b[1;33m:\u001b[0m\u001b[1;33m\u001b[0m\u001b[1;33m\u001b[0m\u001b[0m\n\u001b[0m\u001b[0;32m    444\u001b[0m             \u001b[1;32mreturn\u001b[0m \u001b[1;33m(\u001b[0m\u001b[1;33m)\u001b[0m\u001b[1;33m\u001b[0m\u001b[1;33m\u001b[0m\u001b[0m\n\u001b[0;32m    445\u001b[0m         \u001b[0mnormalized\u001b[0m \u001b[1;33m=\u001b[0m \u001b[0mpattern\u001b[0m\u001b[1;33m.\u001b[0m\u001b[0mreplace\u001b[0m\u001b[1;33m(\u001b[0m\u001b[1;34m'-'\u001b[0m\u001b[1;33m,\u001b[0m \u001b[1;34m'_'\u001b[0m\u001b[1;33m)\u001b[0m\u001b[1;33m\u001b[0m\u001b[1;33m\u001b[0m\u001b[0m\n",
      "\u001b[1;32m~\\Anaconda3\\lib\\pathlib.py\u001b[0m in \u001b[0;36mis_dir\u001b[1;34m(self)\u001b[0m\n\u001b[0;32m   1371\u001b[0m         \"\"\"\n\u001b[0;32m   1372\u001b[0m         \u001b[1;32mtry\u001b[0m\u001b[1;33m:\u001b[0m\u001b[1;33m\u001b[0m\u001b[1;33m\u001b[0m\u001b[0m\n\u001b[1;32m-> 1373\u001b[1;33m             \u001b[1;32mreturn\u001b[0m \u001b[0mS_ISDIR\u001b[0m\u001b[1;33m(\u001b[0m\u001b[0mself\u001b[0m\u001b[1;33m.\u001b[0m\u001b[0mstat\u001b[0m\u001b[1;33m(\u001b[0m\u001b[1;33m)\u001b[0m\u001b[1;33m.\u001b[0m\u001b[0mst_mode\u001b[0m\u001b[1;33m)\u001b[0m\u001b[1;33m\u001b[0m\u001b[1;33m\u001b[0m\u001b[0m\n\u001b[0m\u001b[0;32m   1374\u001b[0m         \u001b[1;32mexcept\u001b[0m \u001b[0mOSError\u001b[0m \u001b[1;32mas\u001b[0m \u001b[0me\u001b[0m\u001b[1;33m:\u001b[0m\u001b[1;33m\u001b[0m\u001b[1;33m\u001b[0m\u001b[0m\n\u001b[0;32m   1375\u001b[0m             \u001b[1;32mif\u001b[0m \u001b[1;32mnot\u001b[0m \u001b[0m_ignore_error\u001b[0m\u001b[1;33m(\u001b[0m\u001b[0me\u001b[0m\u001b[1;33m)\u001b[0m\u001b[1;33m:\u001b[0m\u001b[1;33m\u001b[0m\u001b[1;33m\u001b[0m\u001b[0m\n",
      "\u001b[1;32m~\\Anaconda3\\lib\\pathlib.py\u001b[0m in \u001b[0;36mstat\u001b[1;34m(self)\u001b[0m\n\u001b[0;32m   1181\u001b[0m         \u001b[0mos\u001b[0m\u001b[1;33m.\u001b[0m\u001b[0mstat\u001b[0m\u001b[1;33m(\u001b[0m\u001b[1;33m)\u001b[0m \u001b[0mdoes\u001b[0m\u001b[1;33m.\u001b[0m\u001b[1;33m\u001b[0m\u001b[1;33m\u001b[0m\u001b[0m\n\u001b[0;32m   1182\u001b[0m         \"\"\"\n\u001b[1;32m-> 1183\u001b[1;33m         \u001b[1;32mreturn\u001b[0m \u001b[0mself\u001b[0m\u001b[1;33m.\u001b[0m\u001b[0m_accessor\u001b[0m\u001b[1;33m.\u001b[0m\u001b[0mstat\u001b[0m\u001b[1;33m(\u001b[0m\u001b[0mself\u001b[0m\u001b[1;33m)\u001b[0m\u001b[1;33m\u001b[0m\u001b[1;33m\u001b[0m\u001b[0m\n\u001b[0m\u001b[0;32m   1184\u001b[0m \u001b[1;33m\u001b[0m\u001b[0m\n\u001b[0;32m   1185\u001b[0m     \u001b[1;32mdef\u001b[0m \u001b[0mowner\u001b[0m\u001b[1;33m(\u001b[0m\u001b[0mself\u001b[0m\u001b[1;33m)\u001b[0m\u001b[1;33m:\u001b[0m\u001b[1;33m\u001b[0m\u001b[1;33m\u001b[0m\u001b[0m\n",
      "\u001b[1;31mOSError\u001b[0m: [WinError 123] The filename, directory name, or volume label syntax is incorrect: 'C:\\\\Users\\\\GEM7318\\\\Documents\\\\Github\\\\SnowmobileC:\\\\Program Files\\\\JetBrains\\\\PyCharm 2019.3.4\\\\plugins\\\\python\\\\helpers\\\\pycharm_matplotlib_backend'"
     ]
    }
   ],
   "source": [
    "import snowmobile"
   ]
  },
  {
   "cell_type": "code",
   "execution_count": 2,
   "metadata": {},
   "outputs": [
    {
     "data": {
      "text/plain": [
       "WindowsPath('C:/Users/GEM7318/Documents/Github/Snowmobile')"
      ]
     },
     "execution_count": 2,
     "metadata": {},
     "output_type": "execute_result"
    }
   ],
   "source": [
    "Path.cwd()"
   ]
  },
  {
   "cell_type": "code",
   "execution_count": 3,
   "metadata": {
    "collapsed": true,
    "jupyter": {
     "outputs_hidden": true,
     "source_hidden": true
    }
   },
   "outputs": [
    {
     "name": "stdout",
     "output_type": "stream",
     "text": [
      "# packages in environment at C:\\Users\\GEM7318\\Anaconda3\\envs\\snowmobile3:\n",
      "#\n",
      "# Name                    Version                   Build  Channel\n",
      "abseil-cpp                20200225.2           ha925a31_2    conda-forge\n",
      "alabaster                 0.7.12                   py37_0  \n",
      "appdirs                   1.4.4                    pypi_0    pypi\n",
      "arrow-cpp                 0.17.1          py37h1234567_12_cpu    conda-forge\n",
      "asn1crypto                1.4.0              pyh9f0ad1d_0    conda-forge\n",
      "astroid                   2.4.2            py37hc8dfbb8_1    conda-forge\n",
      "async-generator           1.10                     pypi_0    pypi\n",
      "atomicwrites              1.4.0              pyh9f0ad1d_0    conda-forge\n",
      "attrs                     20.3.0             pyhd3eb1b0_0  \n",
      "aws-c-common              0.4.59               h8ffe710_1    conda-forge\n",
      "aws-c-event-stream        0.1.6                hb4e73fc_6    conda-forge\n",
      "aws-checksums             0.1.10               h6f0a1a5_0    conda-forge\n",
      "aws-sdk-cpp               1.8.70               he2782d2_1    conda-forge\n",
      "azure-common              1.1.24                     py_0    conda-forge\n",
      "azure-core                1.9.0              pyhd3deb0d_0    conda-forge\n",
      "azure-nspkg               3.0.2                      py_0    conda-forge\n",
      "azure-storage-blob        12.6.0             pyhd3deb0d_0    conda-forge\n",
      "azure-storage-common      2.1.0            py37hc8dfbb8_3    conda-forge\n",
      "babel                     2.8.1              pyhd3eb1b0_0  \n",
      "backcall                  0.2.0                    pypi_0    pypi\n",
      "beautifulsoup4            4.9.3                    pypi_0    pypi\n",
      "black                     19.10b0                    py_0  \n",
      "bleach                    3.2.1                    pypi_0    pypi\n",
      "blinker                   1.4                        py_1    conda-forge\n",
      "boost-cpp                 1.72.0               h54f0996_4    conda-forge\n",
      "boto3                     1.9.66                   py37_0  \n",
      "botocore                  1.12.67                  py37_0  \n",
      "brotli                    1.0.9                ha925a31_3    conda-forge\n",
      "brotlipy                  0.7.0           py37h2bbff1b_1003  \n",
      "bzip2                     1.0.8                h8ffe710_4    conda-forge\n",
      "c-ares                    1.17.1               h8ffe710_0    conda-forge\n",
      "ca-certificates           2020.12.5            h5b45459_0    conda-forge\n",
      "certifi                   2020.12.5        py37h03978a9_0    conda-forge\n",
      "cffi                      1.14.3           py37hcd4344a_2  \n",
      "chardet                   3.0.4           py37haa95532_1003  \n",
      "click                     7.1.2                      py_0  \n",
      "colorama                  0.4.4              pyh9f0ad1d_0    conda-forge\n",
      "coverage                  5.3              py37h4ab8f01_1    conda-forge\n",
      "cryptography              3.2.1            py37hcd4344a_1  \n",
      "css-html-js-minify        2.5.5                    pypi_0    pypi\n",
      "decorator                 4.4.2                    pypi_0    pypi\n",
      "defusedxml                0.6.0                    pypi_0    pypi\n",
      "docutils                  0.16                     py37_1  \n",
      "entrypoints               0.3                      pypi_0    pypi\n",
      "fcache                    0.4.7                    pypi_0    pypi\n",
      "flit                      3.0.0                      py_0  \n",
      "flit-core                 3.0.0                      py_0  \n",
      "gflags                    2.2.2             ha925a31_1004    conda-forge\n",
      "glog                      0.4.0                h0174b99_3    conda-forge\n",
      "grpc-cpp                  1.33.2               h5fb862e_0    conda-forge\n",
      "idna                      2.10                       py_0  \n",
      "imagesize                 1.2.0                      py_0  \n",
      "importlib-metadata        2.0.0                      py_1    conda-forge\n",
      "importlib_metadata        2.0.0                         1    conda-forge\n",
      "iniconfig                 1.1.1              pyh9f0ad1d_0    conda-forge\n",
      "intel-openmp              2020.3             h57928b3_311    conda-forge\n",
      "ipython                   7.19.0                   pypi_0    pypi\n",
      "ipython-genutils          0.2.0                    pypi_0    pypi\n",
      "isodate                   0.6.0                      py_1    conda-forge\n",
      "isort                     5.6.4                    pypi_0    pypi\n",
      "jedi                      0.17.2                   pypi_0    pypi\n",
      "jinja2                    2.11.2                     py_0  \n",
      "jmespath                  0.10.0             pyh9f0ad1d_0    conda-forge\n",
      "jsonpointer               2.0                      pypi_0    pypi\n",
      "jupyter-client            6.1.7                    pypi_0    pypi\n",
      "jupyter-core              4.7.0                    pypi_0    pypi\n",
      "jupyterlab-pygments       0.1.2                    pypi_0    pypi\n",
      "krb5                      1.17.2               hbae68bd_0    conda-forge\n",
      "lazy-object-proxy         1.4.3            py37h4ab8f01_2    conda-forge\n",
      "libblas                   3.8.0                    21_mkl    conda-forge\n",
      "libcblas                  3.8.0                    21_mkl    conda-forge\n",
      "libcurl                   7.71.1               h4b64cdc_8    conda-forge\n",
      "liblapack                 3.8.0                    21_mkl    conda-forge\n",
      "libprotobuf               3.13.0.1             h200bbdf_0    conda-forge\n",
      "libssh2                   1.9.0                hb06d900_5    conda-forge\n",
      "libthrift                 0.13.0               hdfef310_6    conda-forge\n",
      "lxml                      4.6.2                    pypi_0    pypi\n",
      "lz4-c                     1.9.2                h62dcd97_2    conda-forge\n",
      "markdown-it-py            0.5.6                      py_0    conda-forge\n",
      "markupsafe                1.1.1            py37hfa6e2cd_1  \n",
      "mistune                   0.8.4                    pypi_0    pypi\n",
      "mkl                       2020.4             hb70f87d_311    conda-forge\n",
      "more-itertools            8.6.0              pyhd8ed1ab_0    conda-forge\n",
      "msrest                    0.6.19             pyh9f0ad1d_0    conda-forge\n",
      "mypy_extensions           0.4.3                    py37_0  \n",
      "myst-parser               0.12.10                    py_0    conda-forge\n",
      "nbclient                  0.5.1                    pypi_0    pypi\n",
      "nbconvert                 6.0.7                    pypi_0    pypi\n",
      "nbformat                  5.0.8                    pypi_0    pypi\n",
      "nbsphinx                  0.8.0                    pypi_0    pypi\n",
      "nest-asyncio              1.4.3                    pypi_0    pypi\n",
      "numpy                     1.19.4           py37hd20adf4_1    conda-forge\n",
      "oauthlib                  3.0.1                      py_0    conda-forge\n",
      "openssl                   1.1.1i               h8ffe710_0    conda-forge\n",
      "oscrypto                  1.2.0                      py_0    conda-forge\n",
      "packaging                 20.4                       py_0  \n",
      "pandas                    1.1.5            py37h08fd248_0    conda-forge\n",
      "pandocfilters             1.4.3                    pypi_0    pypi\n",
      "parquet-cpp               1.5.1                         2    conda-forge\n",
      "parso                     0.7.1                    pypi_0    pypi\n",
      "pathspec                  0.7.0                      py_0  \n",
      "pep8                      1.7.1                    pypi_0    pypi\n",
      "pickleshare               0.7.5                    pypi_0    pypi\n",
      "pip                       20.2.4           py37haa95532_0  \n",
      "pip-chill                 1.0.0                    pypi_0    pypi\n",
      "pluggy                    0.13.1           py37hf50a25e_3    conda-forge\n",
      "pockets                   0.9.1                    pypi_0    pypi\n",
      "prompt-toolkit            3.0.8                    pypi_0    pypi\n",
      "py                        1.9.0              pyh9f0ad1d_0    conda-forge\n",
      "pyarrow                   0.17.1          py37h1234567_12_cpu    conda-forge\n",
      "pycparser                 2.20                       py_2  \n",
      "pycryptodomex             3.9.9            py37hcc03f2d_0    conda-forge\n",
      "pydantic                  1.7.2            py37h2bbff1b_0  \n",
      "pydata-sphinx-theme       0.4.1                    pypi_0    pypi\n",
      "pyflakes                  2.2.0                    pypi_0    pypi\n",
      "pygments                  2.7.2              pyhd3eb1b0_0  \n",
      "pyjwt                     1.7.1                      py_0    conda-forge\n",
      "pyopenssl                 19.1.0                     py_1    anaconda\n",
      "pyparsing                 2.4.7                      py_0  \n",
      "pysocks                   1.7.1                    py37_1  \n",
      "pytest                    6.1.2                    pypi_0    pypi\n",
      "pytest-cov                2.10.1             pyh9f0ad1d_0    conda-forge\n",
      "python                    3.7.0                hea74fb7_0  \n",
      "python-dateutil           2.8.1                      py_0  \n",
      "python-dotenv             0.15.0             pyhd8ed1ab_0    conda-forge\n",
      "python-slugify            4.0.1                    pypi_0    pypi\n",
      "python_abi                3.7                     1_cp37m    conda-forge\n",
      "pytoml                    0.1.21                     py_0  \n",
      "pytz                      2020.1                     py_0  \n",
      "pywin32                   300                      pypi_0    pypi\n",
      "pyyaml                    5.3.1            py37he774522_1  \n",
      "pyzmq                     20.0.0                   pypi_0    pypi\n",
      "re2                       2020.10.01           ha925a31_0    conda-forge\n",
      "regex                     2020.10.15       py37he774522_0  \n",
      "requests                  2.23.0                   py37_0  \n",
      "requests-oauthlib         1.3.0              pyh9f0ad1d_0    conda-forge\n",
      "requests_download         0.1.2                      py_1  \n",
      "s3transfer                0.1.13                py37_1001    conda-forge\n",
      "setuptools                50.3.1           py37haa95532_1  \n",
      "six                       1.15.0           py37haa95532_0  \n",
      "snappy                    1.1.8                ha925a31_3    conda-forge\n",
      "snowballstemmer           2.0.0                      py_0  "
     ]
    }
   ],
   "source": [
    "!conda list"
   ]
  },
  {
   "cell_type": "code",
   "execution_count": 4,
   "metadata": {},
   "outputs": [
    {
     "name": "stdout",
     "output_type": "stream",
     "text": [
      "C:\\Users\\GEM7318\\Documents\\Github\\Snowmobile\n",
      "C:\\Users\\GEM7318\\Anaconda3\\python37.zip\n",
      "C:\\Users\\GEM7318\\Anaconda3\\DLLs\n",
      "C:\\Users\\GEM7318\\Anaconda3\\lib\n",
      "C:\\Users\\GEM7318\\Anaconda3\n",
      "\n",
      "C:\\Users\\GEM7318\\AppData\\Roaming\\Python\\Python37\\site-packages\n",
      "C:\\Users\\GEM7318\\Anaconda3\\lib\\site-packages\n",
      "C:\\Users\\GEM7318\\Anaconda3\\lib\\site-packages\\sqlparse-0.3.1-py3.7.egg\n",
      "C:\\Users\\GEM7318\\Anaconda3\\lib\\site-packages\\win32\n",
      "C:\\Users\\GEM7318\\Anaconda3\\lib\\site-packages\\win32\\lib\n",
      "C:\\Users\\GEM7318\\Anaconda3\\lib\\site-packages\\Pythonwin\n",
      "C:\\Users\\GEM7318\\Anaconda3\\lib\\site-packages\\IPython\\extensions\n",
      "C:\\Users\\GEM7318\\.ipython\n",
      "C:\\Users\\GEM7318\\Documents\\Github\\SnowmobileC:\\Program Files\\JetBrains\\PyCharm 2019.3.4\\plugins\\python\\helpers\\pycharm_matplotlib_backend\n",
      "C:\\Users\\GEM7318\\Anaconda3\\envs\\snowmobile2\\lib\\site-packages\\IPython\\extensions\n",
      "C:\\Users\\GEM7318\\Anaconda3\\envs\\snowmobile2\n",
      "C:\\Users\\GEM7318\\Anaconda3\\envs\\snowmobile2\\lib\n",
      "C:\\Users\\GEM7318\\Anaconda3\\envs\\snowmobile2\\lib\\site-packages\n"
     ]
    }
   ],
   "source": [
    "\n",
    "\n",
    "for p in sys.path:\n",
    "    print(p)"
   ]
  },
  {
   "cell_type": "code",
   "execution_count": 10,
   "metadata": {},
   "outputs": [],
   "source": [
    "from snowmobile.core.connector import Connector"
   ]
  },
  {
   "cell_type": "code",
   "execution_count": 4,
   "metadata": {},
   "outputs": [
    {
     "ename": "ModuleNotFoundError",
     "evalue": "No module named 'pydantic'",
     "output_type": "error",
     "traceback": [
      "\u001b[1;31m---------------------------------------------------------------------------\u001b[0m",
      "\u001b[1;31mModuleNotFoundError\u001b[0m                       Traceback (most recent call last)",
      "\u001b[1;32m<ipython-input-4-06e7594ea13a>\u001b[0m in \u001b[0;36m<module>\u001b[1;34m\u001b[0m\n\u001b[1;32m----> 1\u001b[1;33m \u001b[1;32mimport\u001b[0m \u001b[0msnowmobile\u001b[0m\u001b[1;33m\u001b[0m\u001b[1;33m\u001b[0m\u001b[0m\n\u001b[0m",
      "\u001b[1;32m~\\Documents\\Github\\Snowmobile\\snowmobile\\__init__.py\u001b[0m in \u001b[0;36m<module>\u001b[1;34m\u001b[0m\n\u001b[0;32m     26\u001b[0m ]\n\u001b[0;32m     27\u001b[0m \u001b[1;33m\u001b[0m\u001b[0m\n\u001b[1;32m---> 28\u001b[1;33m from .core import (\n\u001b[0m\u001b[0;32m     29\u001b[0m     \u001b[0mSQL\u001b[0m\u001b[1;33m,\u001b[0m\u001b[1;33m\u001b[0m\u001b[1;33m\u001b[0m\u001b[0m\n\u001b[0;32m     30\u001b[0m     \u001b[0mConfiguration\u001b[0m\u001b[1;33m,\u001b[0m\u001b[1;33m\u001b[0m\u001b[1;33m\u001b[0m\u001b[0m\n",
      "\u001b[1;32m~\\Documents\\Github\\Snowmobile\\snowmobile\\core\\__init__.py\u001b[0m in \u001b[0;36m<module>\u001b[1;34m\u001b[0m\n\u001b[0;32m      6\u001b[0m \u001b[1;32mfrom\u001b[0m \u001b[1;33m.\u001b[0m\u001b[0mbase\u001b[0m \u001b[1;32mimport\u001b[0m \u001b[0mSnowmobile\u001b[0m\u001b[1;33m\u001b[0m\u001b[1;33m\u001b[0m\u001b[0m\n\u001b[0;32m      7\u001b[0m \u001b[1;32mfrom\u001b[0m \u001b[1;33m.\u001b[0m\u001b[0mexception_handler\u001b[0m \u001b[1;32mimport\u001b[0m \u001b[0mExceptionHandler\u001b[0m\u001b[1;33m\u001b[0m\u001b[1;33m\u001b[0m\u001b[0m\n\u001b[1;32m----> 8\u001b[1;33m \u001b[1;32mfrom\u001b[0m \u001b[1;33m.\u001b[0m\u001b[0mconfiguration\u001b[0m \u001b[1;32mimport\u001b[0m \u001b[0mConfiguration\u001b[0m\u001b[1;33m\u001b[0m\u001b[1;33m\u001b[0m\u001b[0m\n\u001b[0m\u001b[0;32m      9\u001b[0m \u001b[1;32mfrom\u001b[0m \u001b[1;33m.\u001b[0m\u001b[0mconnector\u001b[0m \u001b[1;32mimport\u001b[0m \u001b[0mConnector\u001b[0m\u001b[1;33m\u001b[0m\u001b[1;33m\u001b[0m\u001b[0m\n\u001b[0;32m     10\u001b[0m \u001b[1;32mfrom\u001b[0m \u001b[1;33m.\u001b[0m\u001b[0mconnector\u001b[0m \u001b[1;32mimport\u001b[0m \u001b[0mConnector\u001b[0m \u001b[1;32mas\u001b[0m \u001b[0mConnect\u001b[0m\u001b[1;33m\u001b[0m\u001b[1;33m\u001b[0m\u001b[0m\n",
      "\u001b[1;32m~\\Documents\\Github\\Snowmobile\\snowmobile\\core\\configuration.py\u001b[0m in \u001b[0;36m<module>\u001b[1;34m\u001b[0m\n\u001b[0;32m     15\u001b[0m \u001b[1;33m\u001b[0m\u001b[0m\n\u001b[0;32m     16\u001b[0m \u001b[1;32mimport\u001b[0m \u001b[0mtoml\u001b[0m\u001b[1;33m\u001b[0m\u001b[1;33m\u001b[0m\u001b[0m\n\u001b[1;32m---> 17\u001b[1;33m \u001b[1;32mfrom\u001b[0m \u001b[0mpydantic\u001b[0m\u001b[1;33m.\u001b[0m\u001b[0mjson\u001b[0m \u001b[1;32mimport\u001b[0m \u001b[0mpydantic_encoder\u001b[0m\u001b[1;33m\u001b[0m\u001b[1;33m\u001b[0m\u001b[0m\n\u001b[0m\u001b[0;32m     18\u001b[0m \u001b[1;33m\u001b[0m\u001b[0m\n\u001b[0;32m     19\u001b[0m \u001b[1;32mfrom\u001b[0m \u001b[0msnowmobile\u001b[0m\u001b[1;33m.\u001b[0m\u001b[0mcore\u001b[0m \u001b[1;32mimport\u001b[0m \u001b[0mpaths\u001b[0m\u001b[1;33m,\u001b[0m \u001b[0mcfg\u001b[0m\u001b[1;33m,\u001b[0m \u001b[0mutils\u001b[0m\u001b[1;33m\u001b[0m\u001b[1;33m\u001b[0m\u001b[0m\n",
      "\u001b[1;31mModuleNotFoundError\u001b[0m: No module named 'pydantic'"
     ]
    }
   ],
   "source": [
    "import snowmobile"
   ]
  }
 ],
 "metadata": {
  "kernelspec": {
   "display_name": "snowmobile3",
   "language": "python",
   "name": "snowmobile3"
  },
  "language_info": {
   "codemirror_mode": {
    "name": "ipython",
    "version": 3
   },
   "file_extension": ".py",
   "mimetype": "text/x-python",
   "name": "python",
   "nbconvert_exporter": "python",
   "pygments_lexer": "ipython3",
   "version": "3.7.9"
  }
 },
 "nbformat": 4,
 "nbformat_minor": 4
}
